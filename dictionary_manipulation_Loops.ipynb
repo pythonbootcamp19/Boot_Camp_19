{
 "cells": [
  {
   "cell_type": "code",
   "execution_count": 11,
   "metadata": {},
   "outputs": [
    {
     "name": "stdout",
     "output_type": "stream",
     "text": [
      "{1: 'January', 2: 'February', 3: 'March', 4: 'April', 5: 'May', 6: 'June', 7: 'July', 8: 'August', 9: 'September', 10: 'October', 11: 'November', 12: 'December'}\n"
     ]
    }
   ],
   "source": [
    "#create an empty dictionary\n",
    "months={}\n",
    "\n",
    "#create a dictionary with some pairs(keys and values)\n",
    "#each key must be unique\n",
    "\n",
    "months={1 : \"January\", \n",
    "        2:\"February\", \n",
    "        3:\"March\", \n",
    "        4:\"April\", \n",
    "        5:\"May\", \n",
    "        6:\"June\", \n",
    "        7:\"July\",\n",
    "        8:\"August\",\n",
    "        9:\"September\", \n",
    "        10:\"October\", \n",
    "        11:\"November\",\n",
    "        12:\"December\" } \n",
    "\n",
    "print(months)"
   ]
  },
  {
   "cell_type": "code",
   "execution_count": 12,
   "metadata": {},
   "outputs": [
    {
     "name": "stdout",
     "output_type": "stream",
     "text": [
      "dict_keys([1, 2, 3, 4, 5, 6, 7, 8, 9, 10, 11, 12])\n"
     ]
    }
   ],
   "source": [
    "print(months.keys())"
   ]
  },
  {
   "cell_type": "code",
   "execution_count": 29,
   "metadata": {},
   "outputs": [
    {
     "name": "stdout",
     "output_type": "stream",
     "text": [
      "June\n"
     ]
    }
   ],
   "source": [
    "#Accessing\n",
    "\"\"\"To get a value out of a dictionary, you must supply its key, you cannot provide\n",
    "the value and get the key\"\"\"\n",
    "\n",
    "whichMonth = months[6]\n",
    "print(whichMonth)"
   ]
  },
  {
   "cell_type": "code",
   "execution_count": 39,
   "metadata": {},
   "outputs": [
    {
     "name": "stdout",
     "output_type": "stream",
     "text": [
      "dict_keys([1, 2, 3, 4, 6, 7, 8, 9, 10, 11, 12])\n",
      "dict_keys([1, 2, 3, 4, 6, 7, 8, 9, 10, 11, 12, 5])\n"
     ]
    }
   ],
   "source": [
    "months={}\n",
    "\n",
    "#create a dictionary with some pairs(keys and values)\n",
    "#each key must be unique\n",
    "\n",
    "months={1 : \"January\", \n",
    "        2:\"February\", \n",
    "        3:\"March\", \n",
    "        4:\"April\", \n",
    "        5:\"May\", \n",
    "        6:\"June\", \n",
    "        7:\"July\",\n",
    "        8:\"August\",\n",
    "        9:\"September\", \n",
    "        10:\"October\", \n",
    "        11:\"November\",\n",
    "        12:\"December\" } \n",
    "\n",
    "# to delete an element from a dictionary, use del\n",
    "del(months[5])\n",
    "print(months.keys())"
   ]
  },
  {
   "cell_type": "code",
   "execution_count": 38,
   "metadata": {},
   "outputs": [
    {
     "name": "stdout",
     "output_type": "stream",
     "text": [
      "dict_keys([1, 2, 3, 4, 6, 7, 8, 9, 10, 11, 12, 5])\n"
     ]
    }
   ],
   "source": [
    "#To add a new element to a dictionary, assign a value to a new key\n",
    "#it'll add the key at the end of the list.\n",
    "months[5] = \"May\"\n",
    "print(months.keys())"
   ]
  },
  {
   "cell_type": "code",
   "execution_count": 41,
   "metadata": {},
   "outputs": [
    {
     "name": "stdout",
     "output_type": "stream",
     "text": [
      "{1: 'Jan', 2: 'February', 3: 'March', 4: 'April', 6: 'June', 7: 'July', 8: 'August', 9: 'September', 10: 'October', 11: 'November', 12: 'December', 5: 'May'}\n"
     ]
    }
   ],
   "source": [
    "#To update an element of a dictionary, assign a new value to its key\n",
    "\n",
    "months[1] = \"Jan\"\n",
    "print(months)"
   ]
  },
  {
   "cell_type": "code",
   "execution_count": 44,
   "metadata": {},
   "outputs": [
    {
     "name": "stdout",
     "output_type": "stream",
     "text": [
      "dict_keys([1, 2, 3, 4, 5, 6, 7, 8, 9, 10, 11, 12])\n"
     ]
    }
   ],
   "source": [
    "months={}\n",
    "\n",
    "#create a dictionary with some pairs(keys and values)\n",
    "#each key must be unique\n",
    "\n",
    "months={1 : \"January\", \n",
    "        2:\"February\", \n",
    "        3:\"March\", \n",
    "        4:\"April\", \n",
    "        5:\"May\", \n",
    "        6:\"June\", \n",
    "        7:\"July\",\n",
    "        8:\"August\",\n",
    "        9:\"September\", \n",
    "        10:\"October\", \n",
    "        11:\"November\",\n",
    "        12:\"December\" } \n",
    "\n",
    "#Sorting\n",
    "\n",
    "sortedkeys = months.keys()\n",
    "print(sortedkeys)\n"
   ]
  },
  {
   "cell_type": "code",
   "execution_count": 50,
   "metadata": {},
   "outputs": [
    {
     "name": "stdout",
     "output_type": "stream",
     "text": [
      "{1: 'Jan', 2: 'Feb', 3: 'March', 4: 'April', 5: 'May', 6: 'June', 7: 'July', 8: 'August', 9: 'September', 10: 'October', 11: 'November', 12: 'December'}\n"
     ]
    }
   ],
   "source": [
    "months[2]=\"Feb\"\n",
    "print(months)"
   ]
  },
  {
   "cell_type": "code",
   "execution_count": 53,
   "metadata": {},
   "outputs": [
    {
     "name": "stdout",
     "output_type": "stream",
     "text": [
      "1 Jan\n",
      "2 Feb\n",
      "3 March\n",
      "4 April\n",
      "5 May\n",
      "6 June\n",
      "7 July\n",
      "8 August\n",
      "9 September\n",
      "10 October\n",
      "11 November\n",
      "12 December\n"
     ]
    }
   ],
   "source": [
    "for key in months:\n",
    "    print(key,months[key])"
   ]
  },
  {
   "cell_type": "code",
   "execution_count": 58,
   "metadata": {},
   "outputs": [
    {
     "name": "stdout",
     "output_type": "stream",
     "text": [
      "1 January\n",
      "2 February\n",
      "3 March\n",
      "4 April\n",
      "5 May\n",
      "6 June\n",
      "7 July\n",
      "8 August\n",
      "9 September\n",
      "10 October\n",
      "11 November\n",
      "12 December\n"
     ]
    }
   ],
   "source": [
    "months={}\n",
    "\n",
    "#create a dictionary with some pairs(keys and values)\n",
    "#each key must be unique\n",
    "\n",
    "months={1 : \"January\", \n",
    "        2:\"February\", \n",
    "        3:\"March\", \n",
    "        4:\"April\", \n",
    "        5:\"May\", \n",
    "        6:\"June\", \n",
    "        7:\"July\",\n",
    "        8:\"August\",\n",
    "        9:\"September\", \n",
    "        10:\"October\", \n",
    "        11:\"November\",\n",
    "        12:\"December\" } \n",
    "\n",
    "for key in months:\n",
    "    print(key,months[key])"
   ]
  },
  {
   "cell_type": "code",
   "execution_count": 66,
   "metadata": {},
   "outputs": [
    {
     "name": "stdout",
     "output_type": "stream",
     "text": [
      "Apple\n",
      "Asus\n",
      "Dell\n",
      "Samsung\n"
     ]
    }
   ],
   "source": [
    "computer_brands = [\"Apple\", \"Asus\", \"Dell\", \"Samsung\"]\n",
    "for brands in computer_brands:\n",
    "    print(brands)"
   ]
  },
  {
   "cell_type": "code",
   "execution_count": 80,
   "metadata": {},
   "outputs": [
    {
     "name": "stdout",
     "output_type": "stream",
     "text": [
      "1\n",
      "11\n",
      "31\n",
      "61\n",
      "101\n",
      "151\n"
     ]
    }
   ],
   "source": [
    "numbers = [1,10,20,30,40,50]\n",
    "cal = 0\n",
    "for number in numbers:\n",
    "    cal = cal + number\n",
    "    print(cal)\n"
   ]
  },
  {
   "cell_type": "code",
   "execution_count": 81,
   "metadata": {},
   "outputs": [
    {
     "name": "stdout",
     "output_type": "stream",
     "text": [
      "0\n",
      "1\n",
      "2\n",
      "3\n",
      "4\n",
      "5\n",
      "6\n",
      "7\n",
      "8\n",
      "9\n"
     ]
    }
   ],
   "source": [
    "for i in range(0,10):\n",
    "    print(i)"
   ]
  },
  {
   "cell_type": "code",
   "execution_count": 87,
   "metadata": {},
   "outputs": [
    {
     "name": "stdout",
     "output_type": "stream",
     "text": [
      "1\n",
      "2\n"
     ]
    }
   ],
   "source": [
    "for i in range(1,10):\n",
    "    if i == 3:\n",
    "        break\n",
    "    print(i)"
   ]
  },
  {
   "cell_type": "code",
   "execution_count": 89,
   "metadata": {},
   "outputs": [
    {
     "name": "stdout",
     "output_type": "stream",
     "text": [
      "1\n",
      "2\n",
      "4\n",
      "5\n",
      "6\n",
      "7\n",
      "8\n",
      "9\n"
     ]
    }
   ],
   "source": [
    "for i in range(1,10):\n",
    "    if i == 3:\n",
    "        continue\n",
    "    print(i)"
   ]
  },
  {
   "cell_type": "code",
   "execution_count": 99,
   "metadata": {},
   "outputs": [
    {
     "name": "stdout",
     "output_type": "stream",
     "text": [
      "Apple\n",
      "Asus\n",
      "Dell\n",
      "Samsung\n"
     ]
    }
   ],
   "source": [
    "computer_brands = [\"Apple\", \"Asus\", \"Dell\", \"Samsung\"]\n",
    "i = 0\n",
    "while i < len(computer_brands):\n",
    "    print(computer_brands[i])\n",
    "    i = i + 1\n",
    "    "
   ]
  },
  {
   "cell_type": "code",
   "execution_count": 108,
   "metadata": {},
   "outputs": [
    {
     "name": "stdout",
     "output_type": "stream",
     "text": [
      "Start typing...Hi\n",
      "Your answer was, Hi\n",
      "Start typing...What?\n",
      "Your answer was, What?\n",
      "Start typing...Why?\n",
      "Your answer was, Why?\n",
      "Start typing...How?\n",
      "Your answer was, How?\n",
      "Start typing...Quit\n",
      "Your answer was, Quit\n",
      "Start typing...quit\n"
     ]
    }
   ],
   "source": [
    "while True:\n",
    "    raw_input = input(\"Start typing...\")\n",
    "    answer = raw_input\n",
    "    if answer == \"quit\":\n",
    "        break\n",
    "    print(f\"Your answer was, {answer}\")"
   ]
  },
  {
   "cell_type": "code",
   "execution_count": 124,
   "metadata": {},
   "outputs": [
    {
     "name": "stdout",
     "output_type": "stream",
     "text": [
      "1 * 1 = 1\n",
      "1 * 2 = 2\n",
      "1 * 3 = 3\n",
      "1 * 4 = 4\n",
      "1 * 5 = 5\n",
      "1 * 6 = 6\n",
      "1 * 7 = 7\n",
      "1 * 8 = 8\n",
      "1 * 9 = 9\n",
      "1 * 10 = 10\n"
     ]
    }
   ],
   "source": [
    "for x in range(1, 2):\n",
    "    for y in range(1, 11):\n",
    "        print('%d * %d = %d' % (x, y, x*y))\n",
    "        "
   ]
  },
  {
   "cell_type": "code",
   "execution_count": 126,
   "metadata": {},
   "outputs": [
    {
     "name": "stdout",
     "output_type": "stream",
     "text": [
      "0\n",
      "1\n",
      "2\n",
      "3\n",
      "4\n",
      "5\n",
      "6\n",
      "7\n",
      "8\n",
      "9\n"
     ]
    }
   ],
   "source": [
    "i = 0\n",
    "while i < 10:\n",
    "    print(i)\n",
    "    i = i + 1"
   ]
  },
  {
   "cell_type": "code",
   "execution_count": 132,
   "metadata": {},
   "outputs": [
    {
     "name": "stdout",
     "output_type": "stream",
     "text": [
      "1\n",
      "2\n",
      "3\n",
      "4\n",
      "5\n"
     ]
    }
   ],
   "source": [
    "for counter in range(1, 6):\n",
    "    print(counter)\n",
    "\n",
    "#can also be written like this:\n",
    "# numbers = range(1,6)\n",
    "# for count in numbers:\n",
    "#     print(count)"
   ]
  },
  {
   "cell_type": "code",
   "execution_count": 133,
   "metadata": {},
   "outputs": [
    {
     "name": "stdout",
     "output_type": "stream",
     "text": [
      "c\n",
      "o\n",
      "m\n",
      "p\n",
      "u\n",
      "t\n",
      "e\n",
      "r\n"
     ]
    }
   ],
   "source": [
    "word = \"computer\"\n",
    "for letter in word:\n",
    "    print(letter)"
   ]
  },
  {
   "cell_type": "code",
   "execution_count": 136,
   "metadata": {},
   "outputs": [
    {
     "name": "stdout",
     "output_type": "stream",
     "text": [
      "1\n",
      "2\n",
      "3\n",
      "4\n",
      "5\n"
     ]
    }
   ],
   "source": [
    "a = 0\n",
    "while a < 5:\n",
    "   a = a + 1\n",
    "   print(a)"
   ]
  },
  {
   "cell_type": "code",
   "execution_count": 137,
   "metadata": {},
   "outputs": [
    {
     "name": "stdout",
     "output_type": "stream",
     "text": [
      "0\n",
      "1\n",
      "2\n",
      "3\n",
      "4\n"
     ]
    }
   ],
   "source": [
    "a = 0\n",
    "while a < 5:\n",
    "    print(a)\n",
    "    a = a + 1"
   ]
  },
  {
   "cell_type": "code",
   "execution_count": 152,
   "metadata": {},
   "outputs": [
    {
     "name": "stdout",
     "output_type": "stream",
     "text": [
      "Enter text, [type \"stop\" to quit]: Hi\n",
      "hi\n",
      "Enter text, [type \"stop\" to quit]: What?\n",
      "what?\n",
      "Enter text, [type \"stop\" to quit]: stop\n",
      "stop\n"
     ]
    }
   ],
   "source": [
    "while True:\n",
    "    reply = input('Enter text, [type \"stop\" to quit]: ')\n",
    "    print(reply.lower())\n",
    "    if reply == 'stop':\n",
    "        break"
   ]
  },
  {
   "cell_type": "code",
   "execution_count": null,
   "metadata": {},
   "outputs": [],
   "source": []
  },
  {
   "cell_type": "code",
   "execution_count": null,
   "metadata": {},
   "outputs": [],
   "source": []
  }
 ],
 "metadata": {
  "kernelspec": {
   "display_name": "Python 3",
   "language": "python",
   "name": "python3"
  },
  "language_info": {
   "codemirror_mode": {
    "name": "ipython",
    "version": 3
   },
   "file_extension": ".py",
   "mimetype": "text/x-python",
   "name": "python",
   "nbconvert_exporter": "python",
   "pygments_lexer": "ipython3",
   "version": "3.7.2"
  }
 },
 "nbformat": 4,
 "nbformat_minor": 2
}
