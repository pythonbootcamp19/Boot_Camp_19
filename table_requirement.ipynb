{
 "cells": [
  {
   "cell_type": "code",
   "execution_count": 30,
   "metadata": {},
   "outputs": [
    {
     "name": "stdout",
     "output_type": "stream",
     "text": [
      "Enter your name: Vik\n",
      "{'table1': {'space': 2, 'filled': 2}, 'table2': {'space': 2, 'filled': 2}, 'table3': {'space': 1, 'filled': 1}}\n"
     ]
    }
   ],
   "source": [
    "master_dictionary = {\"table1\":{\n",
    "                        \"space\":2,\n",
    "                        \"filled\":2},\n",
    "                    \"table2\":{\n",
    "                        \"space\":2,\n",
    "                        \"filled\":2},\n",
    "                    \"table3\":{\n",
    "                        \"space\":1,\n",
    "                        \"filled\":1}}\n",
    "\n",
    "name = input(\"Enter your name: \")\n",
    "\n",
    "for table in master_dictionary.keys():\n",
    "    if master_dictionary[table][\"filled\"] != master_dictionary[table][\"space\"]:\n",
    "            print(f\"{name} you have been assigned {table}\")\n",
    "            master_dictionary[table][\"filled\"] += 1\n",
    "            break\n",
    "    else:\n",
    "        continue\n",
    "            \n",
    "print(master_dictionary)"
   ]
  },
  {
   "cell_type": "code",
   "execution_count": null,
   "metadata": {},
   "outputs": [],
   "source": []
  },
  {
   "cell_type": "code",
   "execution_count": null,
   "metadata": {},
   "outputs": [],
   "source": []
  }
 ],
 "metadata": {
  "kernelspec": {
   "display_name": "Python 3",
   "language": "python",
   "name": "python3"
  },
  "language_info": {
   "codemirror_mode": {
    "name": "ipython",
    "version": 3
   },
   "file_extension": ".py",
   "mimetype": "text/x-python",
   "name": "python",
   "nbconvert_exporter": "python",
   "pygments_lexer": "ipython3",
   "version": "3.7.2"
  }
 },
 "nbformat": 4,
 "nbformat_minor": 2
}
