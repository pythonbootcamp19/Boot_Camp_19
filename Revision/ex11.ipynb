{
 "cells": [
  {
   "cell_type": "code",
   "execution_count": 5,
   "metadata": {},
   "outputs": [
    {
     "name": "stdout",
     "output_type": "stream",
     "text": [
      "Name?:  AAA\n",
      "Age?: 21\n",
      "Last Name?:  BBB\n",
      "{'AAA'} {'21'} {'BBB'}\n",
      "AAA 21 BBB\n"
     ]
    }
   ],
   "source": [
    "print(\"Name?: \", end=' ')\n",
    "name = input()\n",
    "print(\"Age?:\", end=' ')\n",
    "age = input()\n",
    "\n",
    "print(\"Last Name?: \", end=' ')\n",
    "last_name = input()\n",
    "\n",
    "print({name}, {age}, {last_name})\n",
    "print(name, age, last_name)\n"
   ]
  },
  {
   "cell_type": "code",
   "execution_count": null,
   "metadata": {},
   "outputs": [],
   "source": []
  }
 ],
 "metadata": {
  "kernelspec": {
   "display_name": "Python 3",
   "language": "python",
   "name": "python3"
  },
  "language_info": {
   "codemirror_mode": {
    "name": "ipython",
    "version": 3
   },
   "file_extension": ".py",
   "mimetype": "text/x-python",
   "name": "python",
   "nbconvert_exporter": "python",
   "pygments_lexer": "ipython3",
   "version": "3.7.2"
  }
 },
 "nbformat": 4,
 "nbformat_minor": 2
}
