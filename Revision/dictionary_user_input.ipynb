{
 "cells": [
  {
   "cell_type": "code",
   "execution_count": 15,
   "metadata": {},
   "outputs": [
    {
     "ename": "SyntaxError",
     "evalue": "'return' outside function (<ipython-input-15-ad19d7361074>, line 18)",
     "output_type": "error",
     "traceback": [
      "\u001b[0;36m  File \u001b[0;32m\"<ipython-input-15-ad19d7361074>\"\u001b[0;36m, line \u001b[0;32m18\u001b[0m\n\u001b[0;31m    return user_profile\u001b[0m\n\u001b[0m    ^\u001b[0m\n\u001b[0;31mSyntaxError\u001b[0m\u001b[0;31m:\u001b[0m 'return' outside function\n"
     ]
    }
   ],
   "source": [
    "## num_of_companies = int(input(\"Total num of companies: \"))\n",
    "user_profile = {}\n",
    "\n",
    "for i in range(num_of_companies):\n",
    "    name = input(\"Enter name of company: \")\n",
    "    official_name = input(\"Enter official name of company: \")\n",
    "    num_of_employees = int(input(\"Enter number of employees: \"))\n",
    "    num_of_founders = int(input(\"Enter number of founders: \"))\n",
    "    \n",
    "    names_of_founders = []\n",
    "\n",
    "    for num_founders in range(num_of_founders):\n",
    "        founder_name = input(\"Name of founders?: \")\n",
    "        names_of_founders.append(founder_name)\n",
    "        \n",
    "    company_profile()\n",
    "    user_profile[name] = company_profile()\n",
    "    return user_profile\n",
    "    \n",
    "\n",
    "            \n",
    "    #print(name, official_name, num_of_employees, names_of_founders)\n",
    "    \n",
    "def company_profile():\n",
    "    startup_profile = {}\n",
    "    startup_profile[\"name_of_comp\"] = name\n",
    "    startup_profile[\"official_name\"] = official_name\n",
    "    startup_profile[\"num_of_employees\"] = num_of_employees\n",
    "    startup_profile[\"num_of_founders\"] = num_of_founders\n",
    "    return startup_profile\n",
    "#     a = company_profile\n",
    "#     print(a)\n",
    "    \n",
    "    \n",
    "    \n",
    "    "
   ]
  },
  {
   "cell_type": "code",
   "execution_count": null,
   "metadata": {},
   "outputs": [],
   "source": []
  },
  {
   "cell_type": "code",
   "execution_count": null,
   "metadata": {},
   "outputs": [],
   "source": []
  }
 ],
 "metadata": {
  "kernelspec": {
   "display_name": "Python 3",
   "language": "python",
   "name": "python3"
  },
  "language_info": {
   "codemirror_mode": {
    "name": "ipython",
    "version": 3
   },
   "file_extension": ".py",
   "mimetype": "text/x-python",
   "name": "python",
   "nbconvert_exporter": "python",
   "pygments_lexer": "ipython3",
   "version": "3.7.2"
  }
 },
 "nbformat": 4,
 "nbformat_minor": 2
}
