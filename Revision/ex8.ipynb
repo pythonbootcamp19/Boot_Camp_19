{
 "cells": [
  {
   "cell_type": "code",
   "execution_count": 34,
   "metadata": {},
   "outputs": [
    {
     "name": "stdout",
     "output_type": "stream",
     "text": [
      "{} {} {} {}\n",
      "{}, {}, {}, {}, {}\n",
      "{} {} {} {} {}, {}, {}, {}, {}\n",
      "{'{} {} {} {}'} {'{}, {}, {}, {}, {}'}\n",
      "{a},{b}\n",
      "\n",
      "aaaaaaa\n",
      "bbbbbbb\n",
      "cccccccc\n",
      "dddddddd eeeee\n",
      "\t This is Bangalore.\n",
      "I'm \\a \\a cat.\n"
     ]
    }
   ],
   "source": [
    "a = \"{} {} {} {}\"\n",
    "b = \"{}, {}, {}, {}, {}\"\n",
    "c = \"\"\"\n",
    "aaaaaaa\n",
    "bbbbbbb\n",
    "cccccccc\n",
    "dddddddd eeeee\"\"\"\n",
    "\n",
    "d = \"\\t This is Bangalore.\"\n",
    "\n",
    "e = \"I'm \\\\a \\\\a cat.\"\n",
    "\n",
    "print(a)\n",
    "print(b)\n",
    "print(a,b)\n",
    "print ({a}, {b})\n",
    "print(\"{a}\"\",\"\"{b}\")\n",
    "print(c)\n",
    "print(d)\n",
    "print(e)"
   ]
  },
  {
   "cell_type": "code",
   "execution_count": null,
   "metadata": {},
   "outputs": [],
   "source": []
  }
 ],
 "metadata": {
  "kernelspec": {
   "display_name": "Python 3",
   "language": "python",
   "name": "python3"
  },
  "language_info": {
   "codemirror_mode": {
    "name": "ipython",
    "version": 3
   },
   "file_extension": ".py",
   "mimetype": "text/x-python",
   "name": "python",
   "nbconvert_exporter": "python",
   "pygments_lexer": "ipython3",
   "version": "3.7.2"
  }
 },
 "nbformat": 4,
 "nbformat_minor": 2
}
