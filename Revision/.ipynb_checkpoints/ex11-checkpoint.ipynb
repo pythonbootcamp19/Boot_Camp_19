{
 "cells": [
  {
   "cell_type": "code",
   "execution_count": 4,
   "metadata": {},
   "outputs": [
    {
     "name": "stdout",
     "output_type": "stream",
     "text": [
      "Name?:  AAA\n",
      "Age?: BBB\n",
      "Last Name?:  CCC\n",
      "{'AAA'} {'BBB'} {'CCC'}\n"
     ]
    }
   ],
   "source": [
    "print(\"Name?: \", end=' ')\n",
    "name = input()\n",
    "print(\"Age?:\", end=' ')\n",
    "age = input()\n",
    "\n",
    "print(\"Last Name?: \", end=' ')\n",
    "last_name = input()\n",
    "\n",
    "print({name}, {age}, {last_name})\n",
    "print(name, age, last_name)"
   ]
  },
  {
   "cell_type": "code",
   "execution_count": null,
   "metadata": {},
   "outputs": [],
   "source": []
  }
 ],
 "metadata": {
  "kernelspec": {
   "display_name": "Python 3",
   "language": "python",
   "name": "python3"
  },
  "language_info": {
   "codemirror_mode": {
    "name": "ipython",
    "version": 3
   },
   "file_extension": ".py",
   "mimetype": "text/x-python",
   "name": "python",
   "nbconvert_exporter": "python",
   "pygments_lexer": "ipython3",
   "version": "3.7.2"
  }
 },
 "nbformat": 4,
 "nbformat_minor": 2
}
