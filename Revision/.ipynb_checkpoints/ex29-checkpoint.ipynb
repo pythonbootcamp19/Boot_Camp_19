{
 "cells": [
  {
   "cell_type": "code",
   "execution_count": 23,
   "metadata": {},
   "outputs": [
    {
     "data": {
      "text/plain": [
       "['country']"
      ]
     },
     "execution_count": 23,
     "metadata": {},
     "output_type": "execute_result"
    }
   ],
   "source": [
    "def break_words():\n",
    "    word = 'country'\n",
    "    b = word.split(' ')\n",
    "    return b\n",
    "break_words()"
   ]
  },
  {
   "cell_type": "code",
   "execution_count": 48,
   "metadata": {},
   "outputs": [
    {
     "name": "stdout",
     "output_type": "stream",
     "text": [
      "enter age: 1\n",
      "gender?: F\n",
      "Female\n",
      "minor\n"
     ]
    }
   ],
   "source": [
    "age = int(input(\"enter age: \"))\n",
    "gender = input(\"gender?: \")\n",
    "if age <= 18:\n",
    "    if gender ==\"M\":\n",
    "        print(\"Male\")\n",
    "    elif gender ==\"F\":\n",
    "        print(\"Female\")\n",
    "    else: print(\"Enter M or F\")\n",
    "    print('minor')\n",
    "elif age < 65:\n",
    "    if gender ==\"M\":\n",
    "        print(\"Male\")\n",
    "    elif gender ==\"F\":\n",
    "        print(\"Female\")\n",
    "    else: print(\"Enter M or F\")\n",
    "    print('adult')\n",
    "else:\n",
    "    if gender ==\"M\":\n",
    "        print(\"Male\")\n",
    "    elif gender ==\"F\":\n",
    "        print(\"Female\")\n",
    "    else: print(\"Enter M or F\")\n",
    "\n",
    "    print('senior citizen')"
   ]
  },
  {
   "cell_type": "code",
   "execution_count": null,
   "metadata": {},
   "outputs": [],
   "source": []
  },
  {
   "cell_type": "code",
   "execution_count": null,
   "metadata": {},
   "outputs": [],
   "source": []
  }
 ],
 "metadata": {
  "kernelspec": {
   "display_name": "Python 3",
   "language": "python",
   "name": "python3"
  },
  "language_info": {
   "codemirror_mode": {
    "name": "ipython",
    "version": 3
   },
   "file_extension": ".py",
   "mimetype": "text/x-python",
   "name": "python",
   "nbconvert_exporter": "python",
   "pygments_lexer": "ipython3",
   "version": "3.7.2"
  }
 },
 "nbformat": 4,
 "nbformat_minor": 2
}
