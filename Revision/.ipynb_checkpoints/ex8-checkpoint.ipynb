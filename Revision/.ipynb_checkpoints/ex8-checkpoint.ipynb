{
 "cells": [
  {
   "cell_type": "code",
   "execution_count": 33,
   "metadata": {},
   "outputs": [
    {
     "ename": "SyntaxError",
     "evalue": "invalid syntax (<ipython-input-33-9f9abd6a90cb>, line 11)",
     "output_type": "error",
     "traceback": [
      "\u001b[0;36m  File \u001b[0;32m\"<ipython-input-33-9f9abd6a90cb>\"\u001b[0;36m, line \u001b[0;32m11\u001b[0m\n\u001b[0;31m    e = \"I'm \\\\\"a\" \\\\a cat.\"\u001b[0m\n\u001b[0m                ^\u001b[0m\n\u001b[0;31mSyntaxError\u001b[0m\u001b[0;31m:\u001b[0m invalid syntax\n"
     ]
    }
   ],
   "source": [
    "a = \"{} {} {} {}\"\n",
    "b = \"{}, {}, {}, {}, {}\"\n",
    "c = \"\"\"\n",
    "aaaaaaa\n",
    "bbbbbbb\n",
    "cccccccc\n",
    "dddddddd eeeee\"\"\"\n",
    "\n",
    "d = \"\\t This is Bangalore.\"\n",
    "\n",
    "e = \"I'm \\\\a \\\\a cat.\"\n",
    "\n",
    "print(a)\n",
    "print(b)\n",
    "print(a,b)\n",
    "print ({a}, {b})\n",
    "print(\"{a}\"\",\"\"{b}\")\n",
    "print(c)\n",
    "print(d)\n",
    "print(e)"
   ]
  },
  {
   "cell_type": "code",
   "execution_count": null,
   "metadata": {},
   "outputs": [],
   "source": []
  }
 ],
 "metadata": {
  "kernelspec": {
   "display_name": "Python 3",
   "language": "python",
   "name": "python3"
  },
  "language_info": {
   "codemirror_mode": {
    "name": "ipython",
    "version": 3
   },
   "file_extension": ".py",
   "mimetype": "text/x-python",
   "name": "python",
   "nbconvert_exporter": "python",
   "pygments_lexer": "ipython3",
   "version": "3.7.2"
  }
 },
 "nbformat": 4,
 "nbformat_minor": 2
}
