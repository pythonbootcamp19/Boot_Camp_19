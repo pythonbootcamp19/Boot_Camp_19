{
 "cells": [
  {
   "cell_type": "code",
   "execution_count": 14,
   "metadata": {},
   "outputs": [
    {
     "name": "stdout",
     "output_type": "stream",
     "text": [
      "Enter name of company: aa\n",
      "Enter official name of company: aa inc\n",
      "Enter number of employees: 2\n",
      "Enter number of founders: 2\n",
      "Name of founders?: john\n",
      "Name of founders?: vipin\n",
      "Enter name of company: bb\n",
      "Enter official name of company: bb inc\n",
      "Enter number of employees: 2\n",
      "Enter number of founders: 1\n",
      "Name of founders?: vik\n"
     ]
    }
   ],
   "source": [
    "## num_of_companies = int(input(\"Total num of companies: \"))\n",
    "user_profile = {}\n",
    "\n",
    "for i in range(num_of_companies):\n",
    "    name = input(\"Enter name of company: \")\n",
    "    official_name = input(\"Enter official name of company: \")\n",
    "    num_of_employees = int(input(\"Enter number of employees: \"))\n",
    "    num_of_founders = int(input(\"Enter number of founders: \"))\n",
    "    \n",
    "    names_of_founders = []\n",
    "\n",
    "    for num_founders in range(num_of_founders):\n",
    "        founder_name = input(\"Name of founders?: \")\n",
    "        names_of_founders.append(founder_name)\n",
    "        \n",
    "    company_profile()\n",
    "    user_profile[name] = company_profile()\n",
    "    return user_profile\n",
    "    \n",
    "\n",
    "            \n",
    "    #print(name, official_name, num_of_employees, names_of_founders)\n",
    "    \n",
    "def company_profile():\n",
    "    startup_profile = {}\n",
    "    startup_profile[\"name_of_comp\"] = name\n",
    "    startup_profile[\"official_name\"] = official_name\n",
    "    startup_profile[\"num_of_employees\"] = num_of_employees\n",
    "    startup_profile[\"num_of_founders\"] = num_of_founders\n",
    "    return startup_profile\n",
    "#     a = company_profile\n",
    "#     print(a)\n",
    "    \n",
    "    \n",
    "    \n",
    "    "
   ]
  },
  {
   "cell_type": "code",
   "execution_count": null,
   "metadata": {},
   "outputs": [],
   "source": []
  },
  {
   "cell_type": "code",
   "execution_count": null,
   "metadata": {},
   "outputs": [],
   "source": []
  }
 ],
 "metadata": {
  "kernelspec": {
   "display_name": "Python 3",
   "language": "python",
   "name": "python3"
  }
 },
 "nbformat": 4,
 "nbformat_minor": 2
}
