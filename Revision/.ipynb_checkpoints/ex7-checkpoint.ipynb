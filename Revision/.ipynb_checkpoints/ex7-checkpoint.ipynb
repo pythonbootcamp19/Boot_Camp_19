{
 "cells": [
  {
   "cell_type": "code",
   "execution_count": 9,
   "metadata": {},
   "outputs": [
    {
     "name": "stdout",
     "output_type": "stream",
     "text": [
      "@%@%@%@%@%@%@%@%@%@%\n",
      "@ %@ %@ %@ %@ %@ %@ %@ %@ %@ %\n",
      "@, % @, % @, % @, % @, % @, % @, % @, % @, % @, % \n"
     ]
    }
   ],
   "source": [
    "print(\"@\"\"%\"*10)\n",
    "print(\"@ %\" *10)\n",
    "print(\"@, % \"*10)"
   ]
  },
  {
   "cell_type": "code",
   "execution_count": 26,
   "metadata": {},
   "outputs": [
    {
     "name": "stdout",
     "output_type": "stream",
     "text": [
      "J a a g a\n",
      "Jaaga\n",
      "**********\n",
      "Jaaga . ********** Jaaga\n"
     ]
    }
   ],
   "source": [
    "a = \"J\"\n",
    "b = \"a\"\n",
    "c = \"a\"\n",
    "d = \"g\"\n",
    "e = \"a\"\n",
    "f = (\"*\"*10)\n",
    "print(a,b,c,d,e)\n",
    "print(a+b+c+d+e)\n",
    "print(f)\n",
    "print(a + b + c + d + e, end=' ')\n",
    "#print(a + b + c + d + e,)\n",
    "\n",
    "print(\". *\"*10, a + b + c + d + e)"
   ]
  },
  {
   "cell_type": "code",
   "execution_count": null,
   "metadata": {},
   "outputs": [],
   "source": []
  }
 ],
 "metadata": {
  "kernelspec": {
   "display_name": "Python 3",
   "language": "python",
   "name": "python3"
  },
  "language_info": {
   "codemirror_mode": {
    "name": "ipython",
    "version": 3
   },
   "file_extension": ".py",
   "mimetype": "text/x-python",
   "name": "python",
   "nbconvert_exporter": "python",
   "pygments_lexer": "ipython3",
   "version": "3.7.2"
  }
 },
 "nbformat": 4,
 "nbformat_minor": 2
}
