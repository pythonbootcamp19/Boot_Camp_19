{
 "cells": [
  {
   "cell_type": "code",
   "execution_count": 14,
   "metadata": {},
   "outputs": [
    {
     "name": "stdout",
     "output_type": "stream",
     "text": [
      "How much is your monthly income?: 40000\n",
      "\n",
      "\n",
      "How much is your daily food expense?:  100\n",
      "How much is your daily travel expense?:  200\n",
      "How much is your daily housing expense?:  10\n",
      "How much is your daily other expenses?:  40\n",
      "\n",
      "\n",
      "So your total monthly expenses (and % of your income)are as below: \n",
      "\n",
      "\n",
      "Your total monthly food expense is: , 3000 % of your income\n",
      "Your total monthly travel expense is: , 6000 % of your income\n",
      "Your total monthly housing expense is: , 300 % of your income\n",
      "Your total monthly other expenses is: , 1200 % of your other expenses\n"
     ]
    }
   ],
   "source": [
    "def monthly_expense_calculator(daily_expense, days):\n",
    "    total_monthly_expense = daily_expense * days\n",
    "    return total_monthly_expense\n",
    "#     result = monthly_expense_calculator(500,30)\n",
    "#     print(result)\n",
    "\n",
    "def percentage_of_income(monthly_expese, percentage):\n",
    "    total_percentage = \n",
    "    \n",
    "print(\"How much is your monthly income?:\" , end= ' ') \n",
    "monthly_income = int(input())\n",
    "      \n",
    "print(\"\\n\")\n",
    "\n",
    "print(f\"How much is your daily food expense?: \", end=' ') \n",
    "daily_food_expense = int(input())\n",
    "total_monthly_food_expense = monthly_expense_calculator(daily_food_expense, 30)\n",
    "\n",
    "print(f\"How much is your daily travel expense?: \", end=' ')\n",
    "daily_travel_expense = int(input())\n",
    "total_monthly_travel_expense = monthly_expense_calculator(daily_travel_expense, 30)\n",
    "\n",
    "\n",
    "print(f\"How much is your daily housing expense?: \", end=' ')\n",
    "daily_housing_expense = int(input())\n",
    "total_monthly_housing_expense = monthly_expense_calculator(daily_housing_expense, 30)\n",
    "\n",
    "print(f\"How much is your daily other expenses?: \", end=' ')\n",
    "daily_other_expense = int(input())\n",
    "total_monthly_other_expense = monthly_expense_calculator(daily_other_expense, 30)\n",
    "\n",
    "\n",
    "print(\"\\n\")\n",
    "\n",
    "print(\"So your total monthly expenses (and % of your income)are as below: \")\n",
    "print(\"\\n\")\n",
    "\n",
    "#print(f\"Your total monthly expense is: , {total_monthly_food_expense}\")\n",
    "#print(f\"Your Total Monthly Income is: , {}\")\n",
    "print(f\"Your total monthly food expense is: , {total_monthly_food_expense} % of your income\")\n",
    "print(f\"Your total monthly travel expense is: , {total_monthly_travel_expense} % of your income\")\n",
    "print(f\"Your total monthly housing expense is: , {total_monthly_housing_expense} % of your income\")\n",
    "print(f\"Your total monthly other expenses is: , {total_monthly_other_expense} % of your other expenses\")\n",
    "\n",
    "    \n",
    "    "
   ]
  },
  {
   "cell_type": "code",
   "execution_count": null,
   "metadata": {},
   "outputs": [],
   "source": []
  },
  {
   "cell_type": "code",
   "execution_count": null,
   "metadata": {},
   "outputs": [],
   "source": []
  }
 ],
 "metadata": {
  "kernelspec": {
   "display_name": "Python 3",
   "language": "python",
   "name": "python3"
  },
  "language_info": {
   "codemirror_mode": {
    "name": "ipython",
    "version": 3
   },
   "file_extension": ".py",
   "mimetype": "text/x-python",
   "name": "python",
   "nbconvert_exporter": "python",
   "pygments_lexer": "ipython3",
   "version": "3.7.2"
  }
 },
 "nbformat": 4,
 "nbformat_minor": 2
}
