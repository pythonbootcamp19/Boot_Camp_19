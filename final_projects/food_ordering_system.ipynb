{
 "cells": [
  {
   "cell_type": "code",
   "execution_count": null,
   "metadata": {},
   "outputs": [],
   "source": [
    "\"\"\"\n",
    "\n",
    "#What data we need (or have)?\n",
    "\n",
    "Data:\n",
    "\n",
    "1. Restaurant\n",
    "    - Address\n",
    "    - Phone\n",
    "    \n",
    "    Menu\n",
    "    - Food Items\n",
    "        - Food item names and \n",
    "        - Food item price\n",
    "\n",
    "Functions:\n",
    "\n",
    "1. Food Order\n",
    "    - Order Id\n",
    "    - Order Items\n",
    "    - Order Qty\n",
    "    - Price\n",
    "    - Item total\n",
    "    - Delivery charge\n",
    "    - Total\n",
    "    - Order status\n",
    "    \n",
    "\n",
    "\"\"\"\n"
   ]
  },
  {
   "cell_type": "code",
   "execution_count": 6,
   "metadata": {},
   "outputs": [
    {
     "name": "stdout",
     "output_type": "stream",
     "text": [
      "Udupi Veg\n"
     ]
    }
   ],
   "source": [
    "class Item:\n",
    "    def __init__(self, name, price):\n",
    "        self.name = name\n",
    "        self.price = price\n",
    "\n",
    "\n",
    "class Restaurant:\n",
    "    \n",
    "    def __init__(self, name, address, phone_no):\n",
    "        self.name = name\n",
    "        self.address = address\n",
    "        self.phone = phone_no\n",
    "        self.menu = []\n",
    "    \n",
    "    def add_item(self, item):\n",
    "        self.menu.append(item)\n",
    "        \n",
    "   "
   ]
  },
  {
   "cell_type": "code",
   "execution_count": 9,
   "metadata": {},
   "outputs": [
    {
     "name": "stdout",
     "output_type": "stream",
     "text": [
      "Udupi Veg\n"
     ]
    }
   ],
   "source": [
    "udupi = Restaurant(\"Udupi Veg\", \"Richmond Circle\", \"1234567890\")\n",
    "print(udupi.name)"
   ]
  },
  {
   "cell_type": "code",
   "execution_count": 11,
   "metadata": {},
   "outputs": [],
   "source": [
    "masala_dosa = Item(\"Masala Dosa\", 50)\n",
    "udupi.add_item(masala_dosa)"
   ]
  },
  {
   "cell_type": "code",
   "execution_count": null,
   "metadata": {},
   "outputs": [],
   "source": [
    "first_item = udu"
   ]
  }
 ],
 "metadata": {
  "kernelspec": {
   "display_name": "Python 3",
   "language": "python",
   "name": "python3"
  },
  "language_info": {
   "codemirror_mode": {
    "name": "ipython",
    "version": 3
   },
   "file_extension": ".py",
   "mimetype": "text/x-python",
   "name": "python",
   "nbconvert_exporter": "python",
   "pygments_lexer": "ipython3",
   "version": "3.7.2"
  }
 },
 "nbformat": 4,
 "nbformat_minor": 2
}
