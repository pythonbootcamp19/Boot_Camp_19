{
 "cells": [
  {
   "cell_type": "code",
   "execution_count": 3,
   "metadata": {},
   "outputs": [
    {
     "name": "stdout",
     "output_type": "stream",
     "text": [
      "Calories Calculator\n",
      "\n",
      "\n",
      "Weight(in kgs.): 100\n",
      "Height(in cms.): 165\n",
      "Age: 21\n",
      "2100.68\n"
     ]
    }
   ],
   "source": [
    "print(\"Calories Calculator\")\n",
    "print(\"\\n\")\n",
    "\n",
    "# print(f\"Weight(in kgs.): \", end=' ')\n",
    "# weight = int(input())\n",
    "# print(f\"Heigh(in cms.): \", end=' ')\n",
    "# height = int(input())\n",
    "# print(f\"Age: \", end=' ')\n",
    "# age = int(input())\n",
    "\n",
    "def personal_info():\n",
    "    weight = int(input(\"Weight(in kgs.): \"))\n",
    "    height = int(input(\"Height(in cms.): \"))\n",
    "    age = int(input(\"Age: \"))\n",
    "    #gender = int(input(\"Male: \"))\n",
    "    return weight, height, age\n",
    "\n",
    "def calculate_BMR():\n",
    "        \n",
    "    weight1, height1, age1 = personal_info()\n",
    "   \n",
    "    default_bmr_ratio = 88.362\n",
    "    y = 13.397*weight1\n",
    "    weight_BMR = default_bmr_ratio + y\n",
    "\n",
    "    default_height_ratio = 4.799\n",
    "    height_BMR = default_height_ratio*height1\n",
    "\n",
    "    default_age_ratio = 5.677\n",
    "    age_BMR = default_age_ratio*age1\n",
    "\n",
    "    BMR = weight_BMR + height_BMR - age_BMR\n",
    "    return BMR\n",
    "calories = calculate_BMR()\n",
    "\n",
    "print(calories)"
   ]
  },
  {
   "cell_type": "code",
   "execution_count": null,
   "metadata": {},
   "outputs": [],
   "source": []
  },
  {
   "cell_type": "code",
   "execution_count": null,
   "metadata": {},
   "outputs": [],
   "source": []
  }
 ],
 "metadata": {
  "kernelspec": {
   "display_name": "Python 3",
   "language": "python",
   "name": "python3"
  },
  "language_info": {
   "codemirror_mode": {
    "name": "ipython",
    "version": 3
   },
   "file_extension": ".py",
   "mimetype": "text/x-python",
   "name": "python",
   "nbconvert_exporter": "python",
   "pygments_lexer": "ipython3",
   "version": "3.7.2"
  }
 },
 "nbformat": 4,
 "nbformat_minor": 2
}
