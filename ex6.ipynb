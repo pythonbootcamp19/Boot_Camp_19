{
 "cells": [
  {
   "cell_type": "markdown",
   "metadata": {},
   "source": [
    "# Strings and Text"
   ]
  },
  {
   "cell_type": "markdown",
   "metadata": {},
   "source": [
    "A string is usually a bit of text you want to display to someone or “export” out of the program you are writing. Python knows you want something to be a string when you put either \" (double-quotes) or ' (single-quotes) around the text.\n",
    "\n",
    "Special type of string to “format”; it’s called an “f-string” and looks like this:\n",
    "\n",
    "f\"some stuff here {avariable}\"\n",
    "f\"some other stuff {anothervar}\"\n",
    "Python also has another kind of formatting using the .format() syntax\n",
    "\n",
    "f is for string formating. For e.g \n",
    "name = Vik\n",
    "My Name is: {name}\n",
    "My Name is: Vik"
   ]
  },
  {
   "cell_type": "markdown",
   "metadata": {},
   "source": [
    "joke_evaluation = \"Isn't that joke so funny?! {}\" (Curly bracket is a place holder. We will enter some value in the\n",
    "bracket)"
   ]
  },
  {
   "cell_type": "code",
   "execution_count": 5,
   "metadata": {
    "scrolled": true
   },
   "outputs": [
    {
     "name": "stdout",
     "output_type": "stream",
     "text": [
      "I said: There are 10 types of people.\n",
      "I also said: 'Thos who know binary and those who don't.'\n",
      "Isn't that joke so funny?!False\n",
      "Isnt'that joke so funny?! False\n",
      "Isn't that joke so funny?!{} False\n",
      "This is the left side of....a string with a right side.\n"
     ]
    }
   ],
   "source": [
    "types_of_people = 10\n",
    "x = f\"There are {types_of_people} types of people.\"\n",
    "binary = \"binary\"\n",
    "do_not = \"don't\"\n",
    "y = f\"Thos who know {binary} and those who {do_not}.\"\n",
    "print(f\"I said: {x}\")\n",
    "print(f\"I also said: '{y}'\")\n",
    "hilarious = False\n",
    "joke_evaluation = \"Isn't that joke so funny?!{}\"\n",
    "print(joke_evaluation.format(hilarious))\n",
    "print(f\"Isnt'that joke so funny?! {hilarious}\")\n",
    "print((joke_evaluation),(hilarious))\n",
    "\n",
    "w = \"This is the left side of....\"\n",
    "e = \"a string with a right side.\"\n",
    "print(w+e)"
   ]
  },
  {
   "cell_type": "code",
   "execution_count": null,
   "metadata": {},
   "outputs": [],
   "source": []
  }
 ],
 "metadata": {
  "kernelspec": {
   "display_name": "Python 3",
   "language": "python",
   "name": "python3"
  },
  "language_info": {
   "codemirror_mode": {
    "name": "ipython",
    "version": 3
   },
   "file_extension": ".py",
   "mimetype": "text/x-python",
   "name": "python",
   "nbconvert_exporter": "python",
   "pygments_lexer": "ipython3",
   "version": "3.7.2"
  }
 },
 "nbformat": 4,
 "nbformat_minor": 2
}
