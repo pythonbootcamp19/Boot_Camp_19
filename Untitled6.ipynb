{
 "cells": [
  {
   "cell_type": "code",
   "execution_count": null,
   "metadata": {},
   "outputs": [],
   "source": [
    "def take_and_store_input():\n",
    "    category = input(\"Enter a catagory:\")\n",
    "    product = input(\"Enter the product:\")\n",
    "    brand = input(\"Enter the brand:\")\n",
    "\n",
    "    print(f\"Category: {category}, Product: {product}, Brand: {brand}\")\n",
    "\n",
    "    # a data row is a dict which contains category, product, brand keys and values\n",
    "    # {\"cat\": \"auto\", \"product\": \"car\", \"brand\": \"maruti\"}\n",
    "    data_row = {}\n",
    "\n",
    "    data_row[\"cat\"] = category\n",
    "    data_row[\"product\"] = product\n",
    "    data_row[\"brand\"] = brand\n",
    "\n",
    "    return data_row\n",
    "    \n",
    "result = take_and_store_input()\n",
    "\n",
    "print(result)"
   ]
  },
  {
   "cell_type": "code",
   "execution_count": null,
   "metadata": {},
   "outputs": [],
   "source": []
  }
 ],
 "metadata": {
  "kernelspec": {
   "display_name": "Python 3",
   "language": "python",
   "name": "python3"
  }
 },
 "nbformat": 4,
 "nbformat_minor": 2
}
