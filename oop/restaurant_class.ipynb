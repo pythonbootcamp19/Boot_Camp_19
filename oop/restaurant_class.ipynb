{
 "cells": [
  {
   "cell_type": "code",
   "execution_count": 4,
   "metadata": {},
   "outputs": [
    {
     "name": "stdout",
     "output_type": "stream",
     "text": [
      "<class 'tuple'>\n"
     ]
    }
   ],
   "source": [
    "# vikas = Person('Vik', '1234567890', 'Bangalore')\n",
    "# print(vikas)\n",
    "\n",
    "vikas = 'Vik', '1234567890', 'Bangalore'\n",
    "print(type(vikas))\n"
   ]
  },
  {
   "cell_type": "code",
   "execution_count": null,
   "metadata": {},
   "outputs": [],
   "source": [
    "class Person:\n",
    "    \n",
    "    def __init__(self, name, phone_no, city):\n",
    "        self.name = name\n",
    "        self.phone_no = phone_no\n",
    "        self.city = city\n",
    "        \n",
    "    def greet(self):\n",
    "        return f'Hello {self.name}, Your phone_no is:{self.phone_no}, your city is:{self.city}'\n",
    "    \n",
    "vikas = Person('Vik', '1234567890', 'Bangalore')\n",
    "print(type(vikas))\n",
    "print(vikas.greet())\n",
    "print(vikas.phone_no)\n",
    "print(vikas.city)"
   ]
  },
  {
   "cell_type": "code",
   "execution_count": 27,
   "metadata": {},
   "outputs": [
    {
     "name": "stdout",
     "output_type": "stream",
     "text": [
      "<class '__main__.Restaurant_info'>\n",
      "Restaurant name is: Fresh Menu,\n",
      "Restaurant phone_no is: (+91)123456789, \n",
      "Restaurant address is: ABC Street, Richmond Town, \n",
      "City is: Bangalore\n"
     ]
    }
   ],
   "source": [
    "class Restaurant_info:\n",
    "    \n",
    "    def __init__(self, restaurant_name, phone_no, address, city):\n",
    "        self.restaurant_name = restaurant_name\n",
    "        self.phone_no = phone_no\n",
    "        self.address = address\n",
    "        self.city = city\n",
    "        return \n",
    "    \n",
    "    def restaurant_details(self):\n",
    "        return (f\"Restaurant name is: {self.restaurant_name},\\nRestaurant phone_no is: {self.phone_no}, \\nRestaurant address is: {self.address}, \\nCity is: {self.city}\")\n",
    "                    \n",
    "    \n",
    "fresh_menu = Restaurant_info('Fresh Menu', '(+91)123456789', 'ABC Street, Richmond Town', 'Bangalore')\n",
    "\n",
    "print(type(fresh_menu))\n",
    "print(fresh_menu.restaurant_details())"
   ]
  },
  {
   "cell_type": "code",
   "execution_count": null,
   "metadata": {},
   "outputs": [],
   "source": []
  },
  {
   "cell_type": "code",
   "execution_count": null,
   "metadata": {},
   "outputs": [],
   "source": []
  }
 ],
 "metadata": {
  "kernelspec": {
   "display_name": "Python 3",
   "language": "python",
   "name": "python3"
  },
  "language_info": {
   "codemirror_mode": {
    "name": "ipython",
    "version": 3
   },
   "file_extension": ".py",
   "mimetype": "text/x-python",
   "name": "python",
   "nbconvert_exporter": "python",
   "pygments_lexer": "ipython3",
   "version": "3.7.2"
  }
 },
 "nbformat": 4,
 "nbformat_minor": 2
}
