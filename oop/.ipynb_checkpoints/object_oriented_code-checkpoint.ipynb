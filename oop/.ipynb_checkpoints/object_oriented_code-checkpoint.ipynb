{
 "cells": [
  {
   "cell_type": "code",
   "execution_count": null,
   "metadata": {},
   "outputs": [],
   "source": [
    "#if we take the analogy of cars\n",
    "#The class is the blueprint of the car and object is the physical car\n",
    "#As you can't drive the buleprint of a car, you need to create the physical car according to the blueprint\n",
    "#but the blueprint does have all the details of the car\n",
    "#class can store data and code (and logic)\n",
    "#first create an object out of a class and then modify\n",
    "\n",
    "#Python convention - whenever you define a class you define it capital letter\n",
    "#Object will have data and logic\n",
    "\n",
    "#If we are going to change the variable in the future we don't create it in __init__ function\n",
    "#You can create how function will behave in _init_ function.\n",
    "#In Python as soon as your add 'self' function becomes method and varaiable becomes property\n",
    "#dir(name of the object). dir(sub_downloader) or you can use help\n",
    "\n",
    "\n"
   ]
  },
  {
   "cell_type": "code",
   "execution_count": null,
   "metadata": {},
   "outputs": [],
   "source": [
    "#Dog is a class that we defining here\n",
    "class Dog:\n",
    "    # once a function is part of a class we call it a method of that class\n",
    "    # every function inside class must take self as the first argument\n",
    "    def bark(self)\n",
    "        print(\"Woof!\")\n",
    "    \n",
    "\n",
    "    "
   ]
  },
  {
   "cell_type": "code",
   "execution_count": 6,
   "metadata": {},
   "outputs": [
    {
     "name": "stdout",
     "output_type": "stream",
     "text": [
      "<class '__main__.Person'>\n",
      "Hello Vik, Your phone_no is:1234567890, your city is:Bangalore\n",
      "1234567890\n",
      "Bangalore\n"
     ]
    }
   ],
   "source": [
    "class Person:\n",
    "    \n",
    "    def __init__(self, name, phone_no, city):\n",
    "        self.name = name\n",
    "        self.phone_no = phone_no\n",
    "        self.city = city\n",
    "        \n",
    "    def greet(self):\n",
    "        return f'Hello {self.name}, Your phone_no is:{self.phone_no}, your city is:{self.city}'\n",
    "    \n",
    "vikas = Person('Vik', '1234567890', 'Bangalore')\n",
    "print(type(vikas))\n",
    "print(vikas.greet())\n",
    "print(vikas.phone_no)\n",
    "print(vikas.city)"
   ]
  },
  {
   "cell_type": "code",
   "execution_count": 22,
   "metadata": {},
   "outputs": [
    {
     "name": "stdout",
     "output_type": "stream",
     "text": [
      "Hello Vik, Your phone_no is 1234567890, your city is Bangalore, your email is driver@gmail.com, your car_no is KA-01-1234, your car name is Maruti, your car color is While, and your licence number is LIC12345\n"
     ]
    }
   ],
   "source": [
    "class Person:\n",
    "    \n",
    "    def __init__(self, name, phone_no, city):\n",
    "        self.name = name\n",
    "        self.phone_no = phone_no\n",
    "        self.city = city\n",
    "\n",
    "        \n",
    "class Driver(Person):\n",
    "    \n",
    "    def __init__(self, name, phone_no, city, email, car_no, car_name, car_color, lic_no):\n",
    "        self.email = email\n",
    "        self.car_no = car_no\n",
    "        self.car_name = car_name\n",
    "        self.car_color = car_color\n",
    "        self.lic_no = lic_no\n",
    "        super().__init__(name,phone_no,city)\n",
    "    \n",
    "    def show_driver_info(self):\n",
    "        print (f'Hello {self.name}, Your phone_no is {self.phone_no}, your city is {self.city}, your email is {self.email}, your car_no is {self.car_no}, your car name is {self.car_name}, your car color is {self.car_color}, and your licence number is {self.lic_no}')\n",
    "\n",
    "vikas = Driver('Vik', '1234567890', 'Bangalore', 'driver@gmail.com', 'KA-01-1234', 'Maruti', 'While', 'LIC12345')\n",
    "vikas.show_driver_info()\n",
    "#print(vik.show_driver_info)"
   ]
  },
  {
   "cell_type": "code",
   "execution_count": null,
   "metadata": {},
   "outputs": [],
   "source": []
  },
  {
   "cell_type": "code",
   "execution_count": null,
   "metadata": {},
   "outputs": [],
   "source": []
  }
 ],
 "metadata": {
  "kernelspec": {
   "display_name": "Python 3",
   "language": "python",
   "name": "python3"
  },
  "language_info": {
   "codemirror_mode": {
    "name": "ipython",
    "version": 3
   },
   "file_extension": ".py",
   "mimetype": "text/x-python",
   "name": "python",
   "nbconvert_exporter": "python",
   "pygments_lexer": "ipython3",
   "version": "3.7.2"
  }
 },
 "nbformat": 4,
 "nbformat_minor": 2
}
