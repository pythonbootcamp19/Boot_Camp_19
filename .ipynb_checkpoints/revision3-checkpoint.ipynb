{
 "cells": [
  {
   "cell_type": "markdown",
   "metadata": {},
   "source": [
    "# Python Crash Course - Cheatsheet"
   ]
  },
  {
   "cell_type": "code",
   "execution_count": 4,
   "metadata": {},
   "outputs": [],
   "source": [
    "# https://ehmatthes.github.io/pcc/cheatsheets/README.html\n"
   ]
  },
  {
   "cell_type": "markdown",
   "metadata": {},
   "source": [
    "# Roadmaps for Developers (Frontend/Backend/DevOps)"
   ]
  },
  {
   "cell_type": "code",
   "execution_count": null,
   "metadata": {},
   "outputs": [],
   "source": [
    "https://roadmap.sh/"
   ]
  },
  {
   "cell_type": "markdown",
   "metadata": {},
   "source": [
    "# Variables"
   ]
  },
  {
   "cell_type": "code",
   "execution_count": 1,
   "metadata": {},
   "outputs": [
    {
     "name": "stdout",
     "output_type": "stream",
     "text": [
      "1,1.1,(1+2j),a,True\n"
     ]
    }
   ],
   "source": [
    "a = 1       # integer\n",
    "b = 1.1     # float\n",
    "c = 1 + 2j  # complex number (a + bi)\n",
    "d = \"a\"    # string\n",
    "e = True    # boolean (True / False)\n",
    "\n",
    "#print(e)\n",
    "print(f\"{a},{b},{c},{d},{e}\")"
   ]
  },
  {
   "cell_type": "markdown",
   "metadata": {},
   "source": [
    "# Strings\n"
   ]
  },
  {
   "cell_type": "code",
   "execution_count": 2,
   "metadata": {},
   "outputs": [
    {
     "name": "stdout",
     "output_type": "stream",
     "text": [
      "Hello World\n",
      "\n",
      "\n",
      "John's book\n",
      "I live in \"UK\"\n",
      "and\\or\n"
     ]
    }
   ],
   "source": [
    "# Escape sequences\n",
    "\n",
    "#\\’ Single Quote(')\n",
    "my_message1 = 'John\\'s book'\n",
    "\n",
    "#\\\" Double Quote(\")\n",
    "my_message2 = \"I live in \\\"UK\\\"\"\n",
    "\n",
    "#\\\\ Backslash(\\)\n",
    "a = \"and\"\n",
    "b = \"or\"\n",
    "my_message3 = (f\"{a}\\\\{b}\")\n",
    "\n",
    "#\\n New Line (ASCII Linefeed(LF))\n",
    "print(\"Hello World\")\n",
    "print(\"\\n\") # will add a new line\n",
    "print(my_message1)\n",
    "print(my_message2)\n",
    "print(my_message3)"
   ]
  },
  {
   "cell_type": "code",
   "execution_count": 3,
   "metadata": {},
   "outputs": [
    {
     "name": "stdout",
     "output_type": "stream",
     "text": [
      "John,Smith\n",
      "MY NAME IS JOHN. I LIVE IN U.K\n",
      "my name is john. i live in u.k\n",
      "My Name Is John. I Live In U.K\n",
      "\n",
      "\n",
      "---------\n",
      " my name is John.\n",
      "my name is John.\n",
      "----------\n",
      "ny name is John.\n",
      "my name is John.\n"
     ]
    }
   ],
   "source": [
    "# Formatted strings\n",
    "first = \"John\"\n",
    "last = \"Smith\"\n",
    "name = (f\"{first},{last}\")\n",
    "print(name)\n",
    "\n",
    "# String methods\n",
    "x = \"my name is john. I LIVE IN U.K\"\n",
    "\n",
    "#It'll print the string in upper case\n",
    "print(x.upper())\n",
    "\n",
    "#It'll print the string in lower case\n",
    "print(x.lower())\n",
    "\n",
    "#It'll print the string in title case\n",
    "print(x.title())\n",
    "\n",
    "print('\\n')\n",
    "\n",
    "#Strip() - method removes characters from both left\n",
    "#and right based on the argument(a string specifying\n",
    "#the set of characters to be removed).\n",
    "\n",
    "#it'll remove the space before (and after). \n",
    "#Check the output.\n",
    "print(\"---------\")\n",
    "y = \" my name is John.\"\n",
    "print(y)\n",
    "print(y.strip())\n",
    "print(\"----------\")\n",
    "\n",
    "#Find and replace\n",
    "z1 = \"ny name is John.\"\n",
    "print(z1)\n",
    "z1.find(\"ny\")\n",
    "print(z1.replace(\"ny\",\"my\"))"
   ]
  },
  {
   "cell_type": "code",
   "execution_count": 4,
   "metadata": {},
   "outputs": [
    {
     "name": "stdout",
     "output_type": "stream",
     "text": [
      "H\n",
      "d\n",
      "Hello\n"
     ]
    }
   ],
   "source": [
    "#String indexing/slicing\n",
    "\n",
    "message = 'Hello world'\n",
    "print(message[0])\n",
    "print(message[-1])\n",
    "print(message[0:5])"
   ]
  },
  {
   "cell_type": "markdown",
   "metadata": {},
   "source": [
    "# Data Structures:"
   ]
  },
  {
   "cell_type": "code",
   "execution_count": 39,
   "metadata": {
    "scrolled": false
   },
   "outputs": [
    {
     "data": {
      "text/plain": [
       "\"\\nThere are three major Python data structures:\\n\\n# Lists\\n\\nbook_list = ['A Game of Thrones', 'Digital Fortress',\\n'Practical Statistics for Data Scientists']\\n\\n# Tuples\\n\\nbook_tuple = ('A Game of Thrones', 'Digital Fortress', \\n'Practical Statistics for Data Scientists')\\n\\n\\n# Dictionaries\\nbook_dictionary = {'George R. R. Martin': 'A Game of Thrones', \\n                'Dan Brown': 'Digital Fortress', \\n                'A. & P. Bruce': 'Practical Statistics for Data Scientists'}\\n\\n\""
      ]
     },
     "execution_count": 39,
     "metadata": {},
     "output_type": "execute_result"
    }
   ],
   "source": [
    "#https://data36.com/python-data-structures-data-science-basics/\n",
    "\n",
    "\"\"\"\n",
    "There are three major Python data structures:\n",
    "\n",
    "# Lists\n",
    "\n",
    "book_list = ['A Game of Thrones', 'Digital Fortress',\n",
    "'Practical Statistics for Data Scientists']\n",
    "\n",
    "# Tuples\n",
    "\n",
    "book_tuple = ('A Game of Thrones', 'Digital Fortress', \n",
    "'Practical Statistics for Data Scientists')\n",
    "\n",
    "\n",
    "# Dictionaries\n",
    "book_dictionary = {'George R. R. Martin': 'A Game of Thrones', \n",
    "                'Dan Brown': 'Digital Fortress', \n",
    "                'A. & P. Bruce': 'Practical Statistics for Data Scientists'}\n",
    "\n",
    "\"\"\"\n",
    "\n",
    "#https://data36.com/python-data-structures-data-science-basics/\n"
   ]
  },
  {
   "cell_type": "markdown",
   "metadata": {},
   "source": [
    "# Type Conversion\n"
   ]
  },
  {
   "cell_type": "code",
   "execution_count": 6,
   "metadata": {},
   "outputs": [
    {
     "name": "stdout",
     "output_type": "stream",
     "text": [
      "1\n",
      "1.0\n",
      "True\n"
     ]
    }
   ],
   "source": [
    "\"\"\"Python defines type conversion functions \n",
    "to directly convert one data type \n",
    "to another which is useful \n",
    "in day to day and competitive programming.\"\"\"\n",
    "\n",
    "x = 1\n",
    "\n",
    "print(int(x))\n",
    "print(float(x))\n",
    "print(bool(x))"
   ]
  },
  {
   "cell_type": "code",
   "execution_count": 7,
   "metadata": {},
   "outputs": [
    {
     "name": "stdout",
     "output_type": "stream",
     "text": [
      "1001010010\n",
      "20020\n",
      "10010.0\n"
     ]
    }
   ],
   "source": [
    "#Type conversion\n",
    "\n",
    "#initializing string\n",
    "s = \"10010\"\n",
    "#It's still string, so it'll pring the value twice\n",
    "c = s * 2\n",
    "#Printing string converting to int.\n",
    "d = int(s)\n",
    "dz = d*2\n",
    "\n",
    "#print string converting to float\n",
    "e = float(s)\n",
    "\n",
    "print(c)\n",
    "print(dz)\n",
    "print(e)"
   ]
  },
  {
   "cell_type": "code",
   "execution_count": 8,
   "metadata": {},
   "outputs": [
    {
     "name": "stdout",
     "output_type": "stream",
     "text": [
      "('g', 'e', 'e', 'k', 's')\n",
      "5\n",
      "{'k', 'g', 's', 'e'}\n",
      "4\n",
      "['g', 'e', 'e', 'k', 's']\n",
      "5\n"
     ]
    }
   ],
   "source": [
    "#Type conversion\n",
    "# Python code to demonstrate Type conversion \n",
    "# using  tuple(), set(), list() \n",
    "\n",
    "s = 'geeks'\n",
    "c = tuple(s)\n",
    "print(c)\n",
    "print(len(c))\n",
    "\n",
    "#Set() will remove duplicate value and it'll print in\n",
    "#it's own order.\n",
    "\n",
    "f = 'geekks'\n",
    "q = set(f)\n",
    "print(q)\n",
    "print(len(q))\n",
    "\n",
    "s = 'geeks'\n",
    "c = list(s)\n",
    "print(c)\n",
    "print(len(c))"
   ]
  },
  {
   "cell_type": "code",
   "execution_count": 9,
   "metadata": {},
   "outputs": [
    {
     "name": "stdout",
     "output_type": "stream",
     "text": [
      "[3, 4, 1, 4, 5]\n",
      "(3, 4, 1, 4, 5)\n",
      "{1, 3, 4, 5}\n",
      "{1, 3, 4, 5}\n"
     ]
    }
   ],
   "source": [
    "#Type conversion\n",
    "#Code1: Demonstrating set() with list and tuple\n",
    "\"\"\"The difference between list and tuple is that the list\n",
    "is mutable and tuple is immutable(you can't change the value).\n",
    "\"\"\"\n",
    "#initializing list\n",
    "list1 = [3,4,1,4,5]\n",
    "\n",
    "#initializing tuple\n",
    "tuple1 = (3,4,1,4,5)\n",
    "\n",
    "#printing iterables before conversion\n",
    "\n",
    "print(str(list1))\n",
    "print(str(tuple1))\n",
    "\n",
    "#Iterables after conversion are\n",
    "#notice distinct and sorted elements\n",
    "\n",
    "print(str(set(list1)))\n",
    "print(str(set(tuple1)))"
   ]
  },
  {
   "cell_type": "code",
   "execution_count": 66,
   "metadata": {},
   "outputs": [
    {
     "name": "stdout",
     "output_type": "stream",
     "text": [
      "8\n"
     ]
    }
   ],
   "source": [
    "mylist = [1, 4, 0, 3, 2, 6, 8, 7]\n",
    "mylist.sort()\n",
    "list = mylist[-1]\n",
    "print(list)"
   ]
  },
  {
   "cell_type": "code",
   "execution_count": 51,
   "metadata": {},
   "outputs": [
    {
     "name": "stdout",
     "output_type": "stream",
     "text": [
      "[1, 2, 3]\n"
     ]
    }
   ],
   "source": [
    "mylist = [1, 4, 0, 3, 2]\n",
    "mylist.sort() #[0, 1, 2, 3, 4]\n",
    "trimmed = mylist[1:-1] #[1, 2, 3]\n",
    "print(trimmed)"
   ]
  },
  {
   "cell_type": "code",
   "execution_count": 10,
   "metadata": {},
   "outputs": [
    {
     "name": "stdout",
     "output_type": "stream",
     "text": [
      "{4: 'geeks', 1: 'for', 3: 'geeks'}\n",
      "{1, 3, 4}\n"
     ]
    }
   ],
   "source": [
    "#Type conversion\n",
    "#Code2:Demonstration of working of set on dictionary\n",
    "\n",
    "#Python3 code to demonstrate the working\n",
    "#of set() on dictionary\n",
    "\n",
    "#initializing list\n",
    "dictionary1 = {4:'geeks', 1:'for', 3:'geeks'}\n",
    "\n",
    "# Printing dictionary before conversion \n",
    "# internaly sorted \n",
    "print(str(dictionary1))\n",
    "\n",
    "# Dictionary after conversion are  \n",
    "# notice lost keys \n",
    "print(str(set(dictionary1)))"
   ]
  },
  {
   "cell_type": "markdown",
   "metadata": {},
   "source": [
    "# Conditional Statements\n"
   ]
  },
  {
   "cell_type": "code",
   "execution_count": 11,
   "metadata": {},
   "outputs": [
    {
     "name": "stdout",
     "output_type": "stream",
     "text": [
      "c\n"
     ]
    }
   ],
   "source": [
    "x = 10\n",
    "\n",
    "if x == 1:  \n",
    "    print(\"a\")\n",
    "elif x == 2:  \n",
    "    print(\"b\")\n",
    "else:   \n",
    "    print(\"c\")\n",
    " \n",
    "# # Ternary operator \n",
    "\n",
    "# x = \"a\" if n > 1 else \"b\"\n",
    " \n",
    "# # Chaining comparison operators\n",
    "# if 18 <= age < 65:\n",
    "#     print(\"age < 18\")\n"
   ]
  },
  {
   "cell_type": "markdown",
   "metadata": {},
   "source": [
    "# List"
   ]
  },
  {
   "cell_type": "code",
   "execution_count": null,
   "metadata": {},
   "outputs": [],
   "source": [
    "#List\n",
    "\"\"\"\n",
    "go to: https://developers.google.com/edu/python/lists\n",
    "\n",
    "Contents:\n",
    "\n",
    "FOR and IN\n",
    "Range\n",
    "While Loop\n",
    "List Methods\n",
    "List Build Up\n",
    "List Slices\n",
    "\"\"\"\n"
   ]
  },
  {
   "cell_type": "code",
   "execution_count": 12,
   "metadata": {},
   "outputs": [],
   "source": [
    "#Creating lists\n",
    "\n",
    "letters = [\"a\", \"b\", \"c\"]     \n",
    "matrix = [[0, 1], [1, 2]]\n",
    "zeros = [0] * 5\n",
    "combined = zeros + letters\n",
    "numbers = list(range(20))\n",
    " \n",
    "# Accessing items\n",
    "letters = [\"a\", \"b\", \"c\", \"d\"]\n",
    "letters[0]  # \"a\"\n",
    "letters[-1] # \"d\"\n",
    " \n",
    "# Slicing lists \n",
    "letters[0:3]   # \"a\", \"b\", \"c\"\n",
    "letters[:3]    # \"a\", \"b\", \"c\"\n",
    "letters[0:]    # \"a\", \"b\", \"c\", \"d\"\n",
    "letters[:]     # \"a\", \"b\", \"c\", \"d\"\n",
    "letters[::2]   # \"a\", \"c\"\n",
    "letters[::-1]  # \"d\", \"c\", \"b\", \"a\" \n",
    " \n",
    "# Unpacking \n",
    "first, second, *other = letters \n",
    " \n",
    "# Looping over lists \n",
    "for letter in letters: \n",
    "    ... \n",
    " \n",
    "for index, letter in enumerate(letters): \n",
    "    ... \n",
    " \n",
    "# Adding items \n",
    "letters.append(\"e\")\n",
    "letters.insert(0, \"-\")\n",
    " \n",
    "# Removing items \n",
    "letters.pop()\n",
    "letters.pop(0)\n",
    "letters.remove(\"b\")\n",
    "del letters[0:3]\n",
    " \n",
    "# Finding items \n",
    "if \"f\" in letters: \n",
    "    letters.index(\"f\")\n",
    " \n",
    "# Sorting lists \n",
    "letters.sort()\n",
    "letters.sort(reverse=True) \n",
    " \n",
    "# Custom sorting \n",
    "items = [\n",
    "    (\"Product1\", 10),\n",
    "    (\"Product2\", 9),\n",
    "    (\"Product3\", 11)\n",
    "]\n",
    " \n",
    "items.sort(key=lambda item: item[1])\n",
    " \n",
    "# Map and filter \n",
    "prices = list(map(lambda item: item[1], items))\n",
    "expensive_items = list(filter(lambda item: item[1] >= 10, items))\n",
    " \n",
    "# List comprehensions \n",
    "prices = [item[1] for item in items]\n",
    "expensive_items = [item for item in items if item[1] >= 10]\n",
    " \n",
    "# Zip function \n",
    "list1 = [1, 2, 3]\n",
    "list2 = [10, 20, 30]\n",
    "combined = list(zip(list1, list2))    # [(1, 10), (2, 20)]\n"
   ]
  },
  {
   "cell_type": "code",
   "execution_count": 13,
   "metadata": {},
   "outputs": [
    {
     "name": "stdout",
     "output_type": "stream",
     "text": [
      "['one, two, three, four, five']\n",
      "1\n",
      "\n",
      "\n",
      "['one', 'two', 'three', 'four', 'five']\n",
      "5\n"
     ]
    }
   ],
   "source": [
    "#List\n",
    "\"\"\"\n",
    "s = ['h','e','l','l','o']   #create a list\n",
    "s.append('d')   #append to end of list\n",
    "len(s)         #number of items in list\n",
    "s.sort()      #sorting the list\n",
    "s.reverse() #reversing the list\n",
    "s.extend(['w','o']) #grow list\n",
    "s.insert(1,2)   #insert into list\n",
    "s.remove('d') #remove first item in list with value e\n",
    "s.pop() #remove last item in the list\n",
    "s.pop(1) #remove indexed value from list\n",
    "s.count('o') #search list and return number of instances found\n",
    "s = range(0,10) #create a list over range \n",
    "s = range(0,10,2) #same as above, with start index and increment\n",
    "\"\"\"\n",
    "\n",
    "\n",
    "emptyList = []\n",
    "\n",
    "list1 = ['one, two, three, four, five']\n",
    "\n",
    "list2 = ['one', 'two', 'three', 'four', 'five']\n",
    "\n",
    "print(list1)\n",
    "print(len(list1))\n",
    "\n",
    "print('\\n')\n",
    "\n",
    "print(list2)\n",
    "print(len(list2)) # will give the length of the list"
   ]
  },
  {
   "cell_type": "code",
   "execution_count": 14,
   "metadata": {},
   "outputs": [
    {
     "name": "stdout",
     "output_type": "stream",
     "text": [
      "3\n",
      "['movies', 'music', 'pictures', 'books', 'blogs']\n",
      "5\n"
     ]
    }
   ],
   "source": [
    "#List append()\n",
    "\n",
    "media = [\"movies\",\"music\",\"pictures\"]\n",
    "\n",
    "print(len(media))\n",
    "\n",
    "media.append(\"books\")\n",
    "media.append(\"blogs\")\n",
    "\n",
    "print(media)\n",
    "print(len(media))"
   ]
  },
  {
   "cell_type": "code",
   "execution_count": 15,
   "metadata": {},
   "outputs": [
    {
     "name": "stdout",
     "output_type": "stream",
     "text": [
      "['files', 'movies', 'books', 'blogs', 'music', 'pictures']\n"
     ]
    }
   ],
   "source": [
    "#List insert()\n",
    "list = [\"movies\", \"music\", \"pictures\"]\n",
    "\n",
    "list.insert(0,\"files\")\n",
    "list.insert(2,\"books\")\n",
    "list.insert(3,\"blogs\")\n",
    "\n",
    "print(list)"
   ]
  },
  {
   "cell_type": "code",
   "execution_count": 16,
   "metadata": {},
   "outputs": [
    {
     "name": "stdout",
     "output_type": "stream",
     "text": [
      "['files', 'movies', 'books', 'music', 'pictures']\n"
     ]
    }
   ],
   "source": [
    "#List extend()\n",
    "\n",
    "media_list = ['files', 'movies', 'books']\n",
    "media_list1 = ['music', 'pictures']\n",
    "               \n",
    "media_list.extend(media_list1)\n",
    "\n",
    "print(media_list)"
   ]
  },
  {
   "cell_type": "code",
   "execution_count": 17,
   "metadata": {},
   "outputs": [
    {
     "name": "stdout",
     "output_type": "stream",
     "text": [
      "['winter', 'spring']\n"
     ]
    }
   ],
   "source": [
    "#List pop\n",
    "\n",
    "seasons = [\"summer\", \"winter\", \"spring\", \"fall\"]\n",
    "seasons.pop(0)\n",
    "seasons.pop(-1)\n",
    "print(seasons)\n",
    "\n"
   ]
  },
  {
   "cell_type": "code",
   "execution_count": 18,
   "metadata": {},
   "outputs": [
    {
     "name": "stdout",
     "output_type": "stream",
     "text": [
      "['movies', 'books', 'blogs', 'music', 'pictures']\n"
     ]
    }
   ],
   "source": [
    "#List remove()\n",
    "\n",
    "media_list = ['files', 'movies', 'books', 'blogs', 'music', 'pictures']\n",
    "\n",
    "media_list.remove('files')\n",
    "\n",
    "print(media_list)"
   ]
  },
  {
   "cell_type": "code",
   "execution_count": 19,
   "metadata": {},
   "outputs": [
    {
     "name": "stdout",
     "output_type": "stream",
     "text": [
      "['yellow', 'red', 'blue']\n",
      "['square', 'triangle', 'rectangle']\n",
      "['red', 'blue']\n"
     ]
    }
   ],
   "source": [
    "#List delete\n",
    "color = [\"yellow\", \"red\", \"blue\"]\n",
    "print(color)\n",
    "shape = [\"square\", \"triangle\", \"rectangle\"]\n",
    "print(shape)\n",
    "\n",
    "del color[0]\n",
    "print(color)"
   ]
  },
  {
   "cell_type": "code",
   "execution_count": 20,
   "metadata": {},
   "outputs": [
    {
     "name": "stdout",
     "output_type": "stream",
     "text": [
      "Yes\n",
      "No\n"
     ]
    }
   ],
   "source": [
    "#List and if statement\n",
    "days = [\"Sun\", \"Monday\", \"Tuesday\", \"Wednesday\"]\n",
    "\n",
    "if \"Sun\" in days:\n",
    "    print(\"Yes\")\n",
    "else:\n",
    "    print(\"No\")\n",
    "\n",
    "    \n",
    "if \"Saturday\" in days:\n",
    "    print(\"Yes\")\n",
    "else:\n",
    "    print(\"No\")\n"
   ]
  },
  {
   "cell_type": "code",
   "execution_count": 21,
   "metadata": {},
   "outputs": [
    {
     "name": "stdout",
     "output_type": "stream",
     "text": [
      "month you entered is not in the list\n",
      "month you entered is on the list\n"
     ]
    }
   ],
   "source": [
    "#List and if statement\n",
    "#Keyword 'not' can be combined with 'in'\n",
    "\n",
    "months = ['jan','feb','mar','apr']\n",
    "\n",
    "input = \"dec\"\n",
    "\n",
    "if input not in months:\n",
    "    print(\"month you entered is not in the list\")\n",
    "else:\n",
    "    print(\"month you entered is in the list\")\n",
    "    \n",
    "input1 = \"mar\"\n",
    "if input1 not in months:\n",
    "    print(\"month you entered is not in the list\")\n",
    "else:\n",
    "    print(\"month you entered is on the list\")"
   ]
  },
  {
   "cell_type": "code",
   "execution_count": 22,
   "metadata": {},
   "outputs": [
    {
     "name": "stdout",
     "output_type": "stream",
     "text": [
      "['one', 'two', 'three', 'four', 'five']\n",
      "['five', 'four', 'three', 'two', 'one']\n"
     ]
    }
   ],
   "source": [
    "#List reverse\n",
    "numbers = [\"one\",\"two\",\"three\",\"four\",\"five\"]\n",
    "print(numbers)\n",
    "numbers.reverse()\n",
    "print(numbers)"
   ]
  },
  {
   "cell_type": "code",
   "execution_count": 23,
   "metadata": {},
   "outputs": [
    {
     "name": "stdout",
     "output_type": "stream",
     "text": [
      "[1, 2, 3, 4, 5]\n",
      "['a', 'b', 'c', 'd', 'e']\n"
     ]
    }
   ],
   "source": [
    "#List sort\n",
    "numbers = [5,4,3,2,1]\n",
    "letters = ['e','d','c','b','a']\n",
    "\n",
    "print(sorted(numbers))\n",
    "print(sorted(letters))"
   ]
  },
  {
   "cell_type": "code",
   "execution_count": 24,
   "metadata": {},
   "outputs": [
    {
     "name": "stdout",
     "output_type": "stream",
     "text": [
      "23\n",
      "1\n",
      "5\n"
     ]
    }
   ],
   "source": [
    "#List length\n",
    "\n",
    "mylist = \"one,two,three,four,five\"\n",
    "mylist1 = [\"one,two,three,four,five\"]\n",
    "mylist2 = [\"one\",\"two\",\"three\",\"four\",\"five\"]\n",
    "\n",
    "print(len(mylist))\n",
    "print(len(mylist1))\n",
    "print(len(mylist2))"
   ]
  },
  {
   "cell_type": "code",
   "execution_count": 25,
   "metadata": {},
   "outputs": [
    {
     "name": "stdout",
     "output_type": "stream",
     "text": [
      "['one', 'two', 'three', 'four', 'five']\n",
      "5\n"
     ]
    }
   ],
   "source": [
    "#List split\n",
    "\n",
    "number_list = \"one,two,three,four,five\"\n",
    "number_list1 = [\"one,two,three,four,five\"]\n",
    "number_list2 = [\"one\",\"two\",\"three\",\"four\",\"five\"]\n",
    "\n",
    "new_list = number_list.split(',')\n",
    "print(new_list)\n",
    "print(len(new_list))\n",
    "\n",
    "#you can not split the number_list1 and number_list2\n",
    "#because it has no attribute to split ','."
   ]
  },
  {
   "cell_type": "code",
   "execution_count": 26,
   "metadata": {},
   "outputs": [
    {
     "name": "stdout",
     "output_type": "stream",
     "text": [
      "My name is John. I live in Bangalore\n",
      "36\n",
      "\n",
      "\n",
      "['My name is John. I live in Bangalore']\n",
      "1\n",
      "\n",
      "\n",
      "['My name is John', ' I live in Bangalore']\n",
      "2\n",
      "\n",
      "\n",
      "['My', 'name', 'is', 'John.', 'I', 'live', 'in', 'Bangalore']\n",
      "8\n"
     ]
    }
   ],
   "source": [
    "a = \"My name is John. I live in Bangalore\"\n",
    "print(a)\n",
    "print(len(a))\n",
    "print('\\n')\n",
    "\n",
    "b = a.split(',')\n",
    "print(b)\n",
    "print(len(b))\n",
    "print('\\n')\n",
    "\n",
    "c = a.split('.')\n",
    "print(c)\n",
    "print(len(c))\n",
    "print('\\n')\n",
    "\n",
    "d = a. split(' ')\n",
    "print(d)\n",
    "print(len(d))"
   ]
  },
  {
   "cell_type": "code",
   "execution_count": 27,
   "metadata": {},
   "outputs": [
    {
     "data": {
      "text/plain": [
       "True"
      ]
     },
     "execution_count": 27,
     "metadata": {},
     "output_type": "execute_result"
    }
   ],
   "source": [
    "#List boolean\n",
    "#It'll check if all the conditions are true.\n",
    "#It'll give false even one condition(s) are false.\n",
    "\n",
    "list_boo = ['first','second','third']\n",
    "list_boo[0] == 'first'\n",
    "list_boo[1] == 'second'\n",
    "list_boo[2] == 'third'\n",
    "\n",
    "#Below will give the result false\n",
    "# list_boo = ['first','second','third']\n",
    "# list_boo[0] == 'first'\n",
    "# list_boo[1] == 'second'\n",
    "# list_boo[1] == 'third'"
   ]
  },
  {
   "cell_type": "code",
   "execution_count": 28,
   "metadata": {},
   "outputs": [
    {
     "name": "stdout",
     "output_type": "stream",
     "text": [
      "['green', 'red', 'blue']\n"
     ]
    }
   ],
   "source": [
    "#List slicing\n",
    "\"\"\"variable_name[start:end] items start through end-1\n",
    "variable_name[start:] items start through the rest of the array\n",
    "variable_name[:end] items from the beginning through end-1\n",
    "variable_name[:] whole array\"\n",
    "\n",
    "Start or end may be a negative number. It counts from the end of the\n",
    "array instead of at the beginning.\n",
    "\n",
    "a[-1] # last item in the array\n",
    "a[-2:] # last two items in the array\n",
    "a[:-2] # everything except the last two items\n",
    "\"\"\"\n",
    "\n",
    "z = ['yellow','green','red','blue','white']\n",
    "z1 = z[1:-1]\n",
    "print(z1)"
   ]
  },
  {
   "cell_type": "code",
   "execution_count": 29,
   "metadata": {},
   "outputs": [
    {
     "name": "stdout",
     "output_type": "stream",
     "text": [
      "1\n",
      "2\n",
      "3\n",
      "4\n",
      "5\n"
     ]
    }
   ],
   "source": [
    "#List loops\n",
    "\n",
    "items_1 = [1,2,3,4,5]\n",
    "\n",
    "for i in items_1:\n",
    "    print(i)\n"
   ]
  },
  {
   "cell_type": "code",
   "execution_count": 30,
   "metadata": {},
   "outputs": [
    {
     "name": "stdout",
     "output_type": "stream",
     "text": [
      "2\n",
      "12\n",
      "32\n",
      "62\n"
     ]
    }
   ],
   "source": [
    "#List for loops incrementing value\n",
    "num_val = [1,10,20,30]\n",
    "cal = 1\n",
    "for num_vals in num_val:\n",
    "    cal = cal+num_vals\n",
    "    print(cal)\n",
    "    "
   ]
  },
  {
   "cell_type": "code",
   "execution_count": 31,
   "metadata": {},
   "outputs": [
    {
     "name": "stdout",
     "output_type": "stream",
     "text": [
      "0\n",
      "1\n",
      "2\n",
      "3\n",
      "4\n"
     ]
    }
   ],
   "source": [
    "#List for loops range\n",
    "for i in range(0,5):\n",
    "    print(i)"
   ]
  },
  {
   "cell_type": "code",
   "execution_count": 32,
   "metadata": {},
   "outputs": [
    {
     "name": "stdout",
     "output_type": "stream",
     "text": [
      "0\n",
      "1\n",
      "2\n"
     ]
    }
   ],
   "source": [
    "#List range\n",
    "\n",
    "for i in range(0,3):\n",
    "    print(i)"
   ]
  },
  {
   "cell_type": "code",
   "execution_count": 33,
   "metadata": {},
   "outputs": [
    {
     "name": "stdout",
     "output_type": "stream",
     "text": [
      "{1: 'a', 2: 'b', 3: 'c', 4: 'd', 5: 'e', 6: 'f'}\n"
     ]
    }
   ],
   "source": [
    "#List - Zip function - converting list into a Dictionary\n",
    "# Take value from two seperate lists and make values of one list as a key and second as value\n",
    "\n",
    "#output - {1:a,2:b,3:c,4:d,5:e,6:f}\n",
    "\n",
    "key_list = [1,2,3,4,5,6]\n",
    "value_list = [\"a\",\"b\",\"c\",\"d\",\"e\",\"f\"]\n",
    "\n",
    "output_dictionary = {}\n",
    "\n",
    "for key, value in zip(key_list,value_list):\n",
    "    output_dictionary[key] = value\n",
    "print(output_dictionary)\n",
    "\n",
    "#print(len(output_dictionary))    \n",
    "\n",
    "#---\n",
    "# output_dictionary = (\"%d:%s\" % (key,value))\n",
    "# print(output_dictionary)\n",
    "#----\n"
   ]
  },
  {
   "cell_type": "code",
   "execution_count": 34,
   "metadata": {},
   "outputs": [
    {
     "name": "stdout",
     "output_type": "stream",
     "text": [
      "6\n"
     ]
    }
   ],
   "source": [
    "#List - convert two lists to a dictionary. \n",
    "#another way to solve the above problem.\n",
    "\n",
    "key_list = [1,2,3,4,5,6]\n",
    "value_list = [\"a\",\"b\",\"c\",\"d\",\"e\",\"f\"]\n",
    "\n",
    "print(len(key_list))\n",
    "\n",
    "# dictt = {}\n",
    "\n",
    "# for i in range len(key_list):\n",
    "#     print(i)\n",
    "    \n",
    "#     dictt[key_list[i]] = value_list[i]\n",
    "# print(dictt)\n"
   ]
  },
  {
   "cell_type": "markdown",
   "metadata": {},
   "source": [
    "# Tuples"
   ]
  },
  {
   "cell_type": "code",
   "execution_count": 12,
   "metadata": {},
   "outputs": [
    {
     "ename": "SyntaxError",
     "evalue": "invalid syntax (<ipython-input-12-bd907088f62e>, line 2)",
     "output_type": "error",
     "traceback": [
      "\u001b[0;36m  File \u001b[0;32m\"<ipython-input-12-bd907088f62e>\"\u001b[0;36m, line \u001b[0;32m2\u001b[0m\n\u001b[0;31m    point(0:2)     # (1, 2)\u001b[0m\n\u001b[0m           ^\u001b[0m\n\u001b[0;31mSyntaxError\u001b[0m\u001b[0;31m:\u001b[0m invalid syntax\n"
     ]
    }
   ],
   "source": [
    "point = (1, 2, 3)\n",
    "point(0:2)     # (1, 2)\n",
    "x, y, z = point \n",
    "if 10 in point: \n",
    "    ... \n",
    "#Swapping variables \n",
    "x = 10\n",
    "y = 11\n",
    "x, y = y, x"
   ]
  },
  {
   "cell_type": "markdown",
   "metadata": {},
   "source": [
    "# Arrays"
   ]
  },
  {
   "cell_type": "code",
   "execution_count": 16,
   "metadata": {},
   "outputs": [],
   "source": [
    "from array import array \n",
    " \n",
    "numbers = array(\"i\", [1, 2, 3])\n",
    "\n",
    "#print(dir(numbers)) # Shift + Enter will give your lists of all the methods for arrays"
   ]
  },
  {
   "cell_type": "markdown",
   "metadata": {},
   "source": [
    "# Sets"
   ]
  },
  {
   "cell_type": "code",
   "execution_count": null,
   "metadata": {},
   "outputs": [],
   "source": [
    "first = {1, 2, 3, 4}\n",
    "second = {1, 5}\n",
    " \n",
    "first | second  # {1, 2, 3, 4, 5}\n",
    "first & second  # {1}\n",
    "first - second  # {2, 3, 4}\n",
    "first ^ second  # {2, 3, 4, 5}\n",
    " \n",
    "if 1 in first: \n",
    "    ... \n"
   ]
  },
  {
   "cell_type": "markdown",
   "metadata": {},
   "source": [
    "# Dictionary"
   ]
  },
  {
   "cell_type": "code",
   "execution_count": null,
   "metadata": {},
   "outputs": [],
   "source": [
    "#Dictionary\n",
    "#variable name = {} #to create an empty dictionary \n",
    "#dictionary has key : value\n",
    "#Nested dictionary - you can create a dictionary within a dictionary"
   ]
  },
  {
   "cell_type": "code",
   "execution_count": 17,
   "metadata": {},
   "outputs": [
    {
     "name": "stdout",
     "output_type": "stream",
     "text": [
      "{'iphone1': 2007, 'iphone2': 2008, 'iphone3': 2009, 'iphone4': 2010}\n"
     ]
    }
   ],
   "source": [
    "phone_released_year = {\"iphone1\":2007,\n",
    "            \"iphone2\":2008,\n",
    "            \"iphone3\":2009,\n",
    "            \"iphone4\":2010\n",
    "            }\n",
    "\n",
    "print(phone_released_year)\n",
    "\n",
    "#print(dir(phone_released_year)) - it'll give you  a list of all the methods... "
   ]
  },
  {
   "cell_type": "code",
   "execution_count": null,
   "metadata": {},
   "outputs": [],
   "source": [
    "#Dictionary - add key and value to the dictionary\n",
    "\n",
    "phone_released_year[\"iphone5\"] = 2011\n",
    "\n",
    "print(phone_released_year)"
   ]
  },
  {
   "cell_type": "code",
   "execution_count": null,
   "metadata": {},
   "outputs": [],
   "source": [
    "#Dictionary - remove key and value to the dictionary\n",
    "del phone_released_year[\"iphone1\"]\n",
    "print(phone_released_year)"
   ]
  },
  {
   "cell_type": "code",
   "execution_count": null,
   "metadata": {},
   "outputs": [],
   "source": [
    "#Dictionary length\n",
    "print(len(phone_released_year))"
   ]
  },
  {
   "cell_type": "code",
   "execution_count": null,
   "metadata": {},
   "outputs": [],
   "source": [
    "#Test the dictionary\n",
    "my_dictionary = {'a':'one',\n",
    "                'b':'two'}\n",
    "\n",
    "print('a' in my_dictionary)\n",
    "print('b' in my_dictionary)\n",
    "print('c' in my_dictionary)"
   ]
  },
  {
   "cell_type": "code",
   "execution_count": null,
   "metadata": {},
   "outputs": [],
   "source": [
    "#Test the dictionary using for loop\n",
    "\n",
    "my_dictionary = {'a':'one',\n",
    "                'b':'two'}\n",
    "\n",
    "for i in my_dictionary:\n",
    "    if 'a' in my_dictionary:\n",
    "        print(\"key found\")\n",
    "        break\n",
    "    else:\n",
    "        print(\"no key found\")"
   ]
  },
  {
   "cell_type": "code",
   "execution_count": null,
   "metadata": {},
   "outputs": [],
   "source": [
    "#Dictionary - get a value of a specified key..\n",
    "\n",
    "my_dictionary = {'a':'one',\n",
    "                'b':'two'}\n",
    "\n",
    "print (my_dictionary.get('a'))"
   ]
  },
  {
   "cell_type": "code",
   "execution_count": null,
   "metadata": {},
   "outputs": [],
   "source": [
    "#Dictionary - print all keys with a for loop\n",
    "\n",
    "iphones_released_years = {\"iphone1\":2007,\n",
    "            \"iphone2\":2008,\n",
    "            \"iphone3\":2009,\n",
    "            \"iphone4\":2010\n",
    "            }\n",
    "\n",
    "\n",
    "print(\"-\"*10)\n",
    "print(\"iphones released so far:\")\n",
    "print(\"-\"*10)\n",
    "for model in iphones_released_years.items():\n",
    "    print(model)"
   ]
  },
  {
   "cell_type": "code",
   "execution_count": null,
   "metadata": {},
   "outputs": [],
   "source": [
    "iphones_released_years = {\"iphone1\":2007,\n",
    "            \"iphone2\":2008,\n",
    "            \"iphone3\":2009,\n",
    "            \"iphone4\":2010\n",
    "            }\n",
    "for key in iphones_released_years:\n",
    "    print(key)"
   ]
  },
  {
   "cell_type": "code",
   "execution_count": null,
   "metadata": {},
   "outputs": [],
   "source": [
    "#Dictionary items\n",
    "#create two variables to unpack value of items\n",
    "\n",
    "iphones_released_years = {\"iphone1\":2007,\n",
    "            \"iphone2\":2008,\n",
    "            \"iphone3\":2009,\n",
    "            \"iphone4\":2010\n",
    "            }\n",
    "for key, val in iphones_released_years.items():\n",
    "    print(key,\"=>\", val)"
   ]
  },
  {
   "cell_type": "code",
   "execution_count": null,
   "metadata": {},
   "outputs": [],
   "source": [
    "#Dictionary - sort dictionary\n",
    "models_years = {\"iphone4\":2010,\n",
    "            \"iphone2\":2008,\n",
    "            \"iphone1\":2007,\n",
    "            \"iphone3\":2009\n",
    "            }\n",
    "for keys, values in sorted(models_years.items()):\n",
    "    print(keys,values)"
   ]
  },
  {
   "cell_type": "markdown",
   "metadata": {},
   "source": [
    "# Nested Dictionary"
   ]
  },
  {
   "cell_type": "code",
   "execution_count": 1,
   "metadata": {},
   "outputs": [
    {
     "name": "stdout",
     "output_type": "stream",
     "text": [
      "{'dict1': {'key_A': 'value_A'}, 'dict2': {'key_B': 'value_B'}}\n"
     ]
    }
   ],
   "source": [
    "#Nested Dictionary - how to define a nested dictionary\n",
    "\n",
    "nested_dict = { 'dict1': {'key_A': 'value_A'}, \n",
    "                'dict2': {'key_B': 'value_B'}}\n",
    "\n",
    "print(nested_dict)"
   ]
  },
  {
   "cell_type": "markdown",
   "metadata": {},
   "source": [
    "# Loops"
   ]
  },
  {
   "cell_type": "code",
   "execution_count": null,
   "metadata": {},
   "outputs": [],
   "source": [
    "for n in range(1, 10): \n",
    "    print(n)\n",
    " \n",
    "    while n < 10: \n",
    "    print(n)\n",
    "    n += 1"
   ]
  },
  {
   "cell_type": "code",
   "execution_count": null,
   "metadata": {},
   "outputs": [],
   "source": [
    "#Range\n",
    "\n",
    "for d in range(1,5):\n",
    "    if d == 4:\n",
    "        break\n",
    "    print(d)"
   ]
  },
  {
   "cell_type": "code",
   "execution_count": null,
   "metadata": {},
   "outputs": [],
   "source": [
    "#While loop \n",
    "#Depending on the use case but developer use it very rarely\n",
    "\n",
    "while True:\n",
    "    raw_input1 = input(\"Start typing....\")\n",
    "    if raw_input1 == \"quit\":\n",
    "        break\n",
    "    print(f\"your answer was,{raw_input1}\")\n"
   ]
  },
  {
   "cell_type": "code",
   "execution_count": null,
   "metadata": {},
   "outputs": [],
   "source": [
    "#While loop\n",
    "\n",
    "counter = 0\n",
    "while counter <= 6:\n",
    "    print(counter)\n",
    "    counter = counter+1"
   ]
  },
  {
   "cell_type": "code",
   "execution_count": null,
   "metadata": {},
   "outputs": [],
   "source": [
    "#While loop\n",
    "\n",
    "counter = 0\n",
    "while counter < 6:\n",
    "    counter = counter+1\n",
    "    print(counter)"
   ]
  },
  {
   "cell_type": "code",
   "execution_count": null,
   "metadata": {},
   "outputs": [],
   "source": [
    "#Nested loops - loops inside the a loop\n",
    "for x in range(1,3):\n",
    "    for y in range(1,5):\n",
    "        print(x,y)"
   ]
  },
  {
   "cell_type": "code",
   "execution_count": 5,
   "metadata": {},
   "outputs": [
    {
     "name": "stdout",
     "output_type": "stream",
     "text": [
      "c\n",
      "o\n",
      "m\n",
      "p\n",
      "u\n",
      "t\n",
      "e\n",
      "r\n"
     ]
    }
   ],
   "source": [
    "#Loops through words\n",
    "word = \"computer\"\n",
    "for letter in word:\n",
    "    print(letter)"
   ]
  },
  {
   "cell_type": "markdown",
   "metadata": {},
   "source": [
    "# Functions"
   ]
  },
  {
   "cell_type": "code",
   "execution_count": null,
   "metadata": {},
   "outputs": [],
   "source": [
    "\"\"\"\n",
    "Functions are named blocks of code designed to do\n",
    "one specific job. Functions allow you to write code\n",
    "once that can then be run whenever you need to\n",
    "accomplish the same task. Functions can take in the\n",
    "information they need, and return the information they\n",
    "generate. Using functions effectively makes your\n",
    "programs easier to write, read, test, and fix.\n",
    "\"\"\""
   ]
  },
  {
   "cell_type": "code",
   "execution_count": null,
   "metadata": {},
   "outputs": [],
   "source": [
    "\"\"\"\n",
    "#In Python, function is a group of related statements\n",
    "that perform a specific task. Functions help break our \n",
    "program into smaller and moduler chunks.\n",
    "\n",
    "# There are two different types of functions in Python.\n",
    "User-defined function and built-in functions(Functions that\n",
    "readily come with python)\n",
    "\n",
    "for more detailed content go to: \n",
    "https://en.wikibooks.org/wiki/Python_Programming/Functions\n",
    "\"\"\""
   ]
  },
  {
   "cell_type": "markdown",
   "metadata": {},
   "source": [
    "# (a) User Defined Function"
   ]
  },
  {
   "cell_type": "code",
   "execution_count": 35,
   "metadata": {},
   "outputs": [
    {
     "name": "stdout",
     "output_type": "stream",
     "text": [
      "Hello,World\n"
     ]
    }
   ],
   "source": [
    "#Syntax of Function\n",
    "\n",
    "\"\"\"\n",
    "def function_name(parameters):\n",
    "#\t\"docstring\"\n",
    "\tstatement(s)\n",
    "  return(return statement is used to exit a function. it is optional.)  \n",
    "#you can return one or multiple values\n",
    "# Declaring Arguments when calling function that takes\n",
    "some values for furtuer processing, we need to send some\n",
    "values as Function Arguments.\n",
    "\"\"\"\n",
    "\n",
    "\"\"\"\n",
    "In computer programming, a parameter or a formal argument, \n",
    "is a special kind of variable, used in a subroutine to refer\n",
    "to one of the pieces of data provided as input to the subroutine.\n",
    "\n",
    "For example, if one defines the add subroutine as def add(x, y): \n",
    "return x + y, then x, y are parameters, while if this is called as add(2, 3), \n",
    "then 2, 3 are the arguments. Note that variables (and expressions thereof) \n",
    "from the calling context can be arguments: if the subroutine is called as a = 2; b = 3; \n",
    "add(a, b) then the variables a, b are the arguments, not the values 2, 3. \n",
    "See the Parameters and arguments section for more information.\n",
    "\"\"\""
   ]
  },
  {
   "cell_type": "code",
   "execution_count": 36,
   "metadata": {},
   "outputs": [
    {
     "data": {
      "text/plain": [
       "16"
      ]
     },
     "execution_count": 36,
     "metadata": {},
     "output_type": "execute_result"
    }
   ],
   "source": [
    "#Function returns a single value:\n",
    "\n",
    "x1 = 4\n",
    "\n",
    "def cal(x1):\n",
    "    return x1*x1\n",
    "\n",
    "cal(x1)\n"
   ]
  },
  {
   "cell_type": "code",
   "execution_count": 37,
   "metadata": {},
   "outputs": [
    {
     "name": "stdout",
     "output_type": "stream",
     "text": [
      "Hello,World\n"
     ]
    }
   ],
   "source": [
    "#Function returns multiple values:\n",
    "\n",
    "def two_items(list1):\n",
    "    return list1[0], list1[1]\n",
    "a, b = two_items([\"Hello\", \"World\",\"How\",\"are\",\"you?\"])\n",
    "print(f\"{a},{b}\")"
   ]
  },
  {
   "cell_type": "code",
   "execution_count": 45,
   "metadata": {},
   "outputs": [
    {
     "name": "stdout",
     "output_type": "stream",
     "text": [
      "30is greater than20\n"
     ]
    }
   ],
   "source": [
    "# Declaring Arguments in functions\n",
    "\n",
    "def find_max(a,b):\n",
    "    if(a>b):\n",
    "        print(str(a) + \"is greater than\" +str(b))\n",
    "    elif(b>a):\n",
    "        print(str(b) + \"is greater than\" +str(a))\n",
    "\n",
    "find_max(30,20)"
   ]
  },
  {
   "cell_type": "code",
   "execution_count": null,
   "metadata": {},
   "outputs": [],
   "source": [
    "def increment(number, by=1):   \n",
    "    return number + by\n",
    " \n",
    "increment(number,by=1)\n",
    "\n",
    "# Keyword arguments \n",
    "increment(2, by=1)\n",
    " \n",
    "# Variable number of arguments \n",
    "def multiply(*numbers): \n",
    "    for number in numbers: \n",
    "        print(number)\n",
    " \n",
    " \n",
    "multiply(1, 2, 3, 4)\n",
    " \n",
    "# Variable number of keyword arguments \n",
    "def save_user(**user):  \n",
    "    ...\n",
    " \n",
    " \n",
    "save_user(id=1, name=\"Mosh\")"
   ]
  },
  {
   "cell_type": "code",
   "execution_count": null,
   "metadata": {},
   "outputs": [],
   "source": [
    "number = 2\n",
    "by = 4\n",
    "\n",
    "def increment(number, by):   \n",
    "    return number + by\n",
    " \n",
    "increment(number,by)\n"
   ]
  },
  {
   "cell_type": "code",
   "execution_count": null,
   "metadata": {},
   "outputs": [],
   "source": [
    "#number = 5\n",
    "def increment(number, by=1):   \n",
    "    return number + by\n",
    " \n",
    "increment(number,by=1)\n",
    "\n",
    "# Keyword arguments \n",
    "increment(2, by=1)\n"
   ]
  },
  {
   "cell_type": "markdown",
   "metadata": {},
   "source": [
    "# (b) Built-in Functions and Methods\n"
   ]
  },
  {
   "cell_type": "code",
   "execution_count": null,
   "metadata": {},
   "outputs": [],
   "source": [
    "#Most important built-in Python functions \n",
    "#for data project\n",
    "\"\"\"\n",
    "#print() - it prints stuff to the screen.\n",
    "\n",
    "input: print(\"Hello, World!\")\n",
    "output: Hello, World\n",
    "\n",
    "#abs() - returns the absolute value of a numeric value \n",
    "(e.g. integer or float). Obviously it can’t be a string.\n",
    "It has to be a numeric value.\n",
    "\n",
    "input: print(-4/3)\n",
    "output: -1.333333333333\n",
    "\n",
    "round() - returns the rounded value of numeric value\n",
    "input: print(round(-4/3))\n",
    "output: -1\n",
    "\n",
    "#min() - returns the smallest item of a list. It can even\n",
    "be a string.\n",
    "\n",
    "input: print(min(3,2,5))\n",
    "output: 2\n",
    "\n",
    "input: print(min('c','d','e'))\n",
    "output: c\n",
    "\n",
    "#max()\n",
    "\n",
    "input: print(max(3,2,5))\n",
    "output: 5\n",
    "\n",
    "input: print(max('c','d','e'))\n",
    "output: e\n",
    "\n",
    "#sorted() - It sorts a list into ascending order. The list\n",
    "can contain strings or numbers.\n",
    "\n",
    "input: a = [3,2,1]\n",
    "print(sorted(a))\n",
    "output: [1, 2, 3]\n",
    "\n",
    "#sum() - it sums a list.\n",
    "\n",
    "Example1:\n",
    "input: axu = [3,2,1]\n",
    "sum(axu)\n",
    "output: 6\n",
    "\n",
    "Example2:\n",
    "input: axu = [4/3, 2/3, 1/3, 1/3, 1/3]\n",
    "sum(axu)\n",
    "output:3.0000000000000004\n",
    "\n",
    "#len() - returns the number of elements in a list\n",
    "or the number of characters in a string.\n",
    "\n",
    "input: print(len('Hello!'))\n",
    "output: 6\n",
    "\n",
    "#type()\n",
    "\n",
    "Example1:\n",
    "input: a = True\n",
    "       type(a)\n",
    "output: bool\n",
    "\n",
    "Example2:\n",
    "input: b = 2\n",
    "       type(b)\n",
    "output: int\n",
    "\n",
    "\"\"\"\n",
    "\n"
   ]
  },
  {
   "cell_type": "code",
   "execution_count": 46,
   "metadata": {},
   "outputs": [
    {
     "name": "stdout",
     "output_type": "stream",
     "text": [
      "HELLO WORLD!\n"
     ]
    }
   ],
   "source": [
    "#List of the most important functions and methods that\n",
    "#you use all the time.\n",
    "\n",
    "#Variable Name\n",
    "name_a = 'Hello World!'\n",
    "\n",
    "#Here's a simple example of a Python function:\n",
    "len(name_a)\n",
    "#Result:12\n",
    "\n",
    "#And an example for Python method:\n",
    "print(name_a.upper())\n",
    "#Result:HELLO WORLD!\n"
   ]
  },
  {
   "cell_type": "markdown",
   "metadata": {},
   "source": [
    "# Methods for Python Strings"
   ]
  },
  {
   "cell_type": "code",
   "execution_count": null,
   "metadata": {},
   "outputs": [],
   "source": [
    "#The most important built-in Python methods for Python strings.\n",
    "\n",
    "\"\"\"\n",
    "#Methods for Python Strings\n",
    "\n",
    "#print(dir(variable name)) - When we pass a variable in dir \n",
    "it'll show us all of the attributes and metods we have access \n",
    "to with that variable. But that doesn't show what any of these \n",
    "actually do so to see more information about these\n",
    "metods, we can use the help function. For e.g. print(help(str))\n",
    "or print(help(list)), etc.\n",
    "\n",
    "#lower() - returns the lowercase version of a string.\n",
    "\n",
    "input: a = 'MuG'\n",
    "       print(a.lower())\n",
    "output: mug\n",
    "\n",
    "#upper() - returns the uppdercse version of a string.\n",
    "\n",
    "input: a = \"hello\"\n",
    "       print(a.upper())\n",
    "output: HELLO\n",
    "\n",
    "#strip() - if the string has whitespaces at the beginning\n",
    "or at the end, it removes them.\n",
    "\n",
    "input: \n",
    "a = '   hello  '\n",
    "print(a)\n",
    "print(a.strip())\n",
    "output:\n",
    "  hello\n",
    "hello\n",
    "\n",
    "#split() - splits your string into a list. Your argument \n",
    "specifies the delimiter\n",
    "\n",
    "input: a = 'Hello World'\n",
    "print(a.split(' ')) #Note:in this case the space is the delimiter.\n",
    "output:['Hello', 'World']\n",
    "\n",
    "#join() - it joins the elements of a list into one string.\n",
    "\n",
    "input:a = ['Hello', 'World']\n",
    "print(' '.join(a))\n",
    "output: Hello World\n",
    "\n",
    "#replace() - it replaces what you want to replace with a new\n",
    "             value. This method takes two arguments. First it takes\n",
    "             what we want to replace, and second argument which is \n",
    "             seperated by a comma is what we want to replace world with.\n",
    "             \n",
    "input: a = 'Hello World'\n",
    "new_message = message.replace('world','universe') - #what we want to replace \n",
    "              is seperated by a comma unless you put the replacement in a \n",
    "              new variable you won't see new value/string(because it's only \n",
    "              returning a new string with those vlaues replace).\n",
    "              We need a new variable for new return string.\n",
    "print(new_message)\n",
    "\n",
    "#format string - {} is a place holder. For detail string formatting video\n",
    "go to: https://www.youtube.com/watch?v=vTX3IwquFkc\n",
    "\n",
    "#for slicing - go to: https://www.youtube.com/watch?v=ajrtAuDg3yw\n",
    "\"\"\"\n"
   ]
  },
  {
   "cell_type": "code",
   "execution_count": 27,
   "metadata": {},
   "outputs": [
    {
     "ename": "NameError",
     "evalue": "name 'datatype' is not defined",
     "output_type": "error",
     "traceback": [
      "\u001b[0;31m---------------------------------------------------------------------------\u001b[0m",
      "\u001b[0;31mNameError\u001b[0m                                 Traceback (most recent call last)",
      "\u001b[0;32m<ipython-input-27-7a4e9e657f94>\u001b[0m in \u001b[0;36m<module>\u001b[0;34m\u001b[0m\n\u001b[1;32m      1\u001b[0m \u001b[0;31m#print(help(list))\u001b[0m\u001b[0;34m\u001b[0m\u001b[0;34m\u001b[0m\u001b[0;34m\u001b[0m\u001b[0m\n\u001b[1;32m      2\u001b[0m \u001b[0;34m\u001b[0m\u001b[0m\n\u001b[0;32m----> 3\u001b[0;31m \u001b[0mprint\u001b[0m\u001b[0;34m(\u001b[0m\u001b[0mhelp\u001b[0m\u001b[0;34m(\u001b[0m\u001b[0mdatatype\u001b[0m\u001b[0;34m)\u001b[0m\u001b[0;34m)\u001b[0m\u001b[0;34m\u001b[0m\u001b[0;34m\u001b[0m\u001b[0m\n\u001b[0m",
      "\u001b[0;31mNameError\u001b[0m: name 'datatype' is not defined"
     ]
    }
   ],
   "source": [
    "#print(help(list))\n",
    "\n",
    "print(help(datatype))"
   ]
  },
  {
   "cell_type": "code",
   "execution_count": null,
   "metadata": {},
   "outputs": [],
   "source": [
    "# To see list of all the different methods we could use on our string\n",
    "gretting = 'hello'\n",
    "name = 'john'\n",
    "#print(dir(name)) - When we pass a variable in dir it'll show us all of the\n",
    "#attributes and metods we have access to with that variable"
   ]
  },
  {
   "cell_type": "markdown",
   "metadata": {},
   "source": [
    "# Methods for Python Lists"
   ]
  },
  {
   "cell_type": "code",
   "execution_count": null,
   "metadata": {},
   "outputs": [],
   "source": [
    "#method(arg) - arg = arguments\n",
    "\"\"\"\n",
    "#.append(arg) - method adds an element to the end our our list.\n",
    "\n",
    "input: dog = ['Samosa',9,2001]\n",
    "dog.append(4)\n",
    "print(dog)\n",
    "output:['Samosa', 9, 2001, 4]\n",
    "\n",
    "#.remove(arg) - specify the element that we want to remove\n",
    "\n",
    "input:dog = ['Samosa',9,2001,4]\n",
    "dog.remove(2001)\n",
    "print(dog)\n",
    "output:['Samosa', 9, 4]\n",
    "\n",
    "#.count(arg) - returns the number of the specified value in the list.\n",
    "\n",
    "Example:dog.count(9)\n",
    "\n",
    "input: dog = ['Samosa',9,9,2009]\n",
    "dog.count(9)\n",
    "output: 2\n",
    "\n",
    "#.clear(arg) - removes all elements of the list. It will basically\n",
    "delete the list.\n",
    "\n",
    "input: dog = ['Samosa',9,9,2009]\n",
    "dog.clear()\n",
    "print(dog)\n",
    "output: []\n",
    "\n",
    "\"\"\""
   ]
  },
  {
   "cell_type": "markdown",
   "metadata": {},
   "source": [
    "# Methods for Python Dictionaries"
   ]
  },
  {
   "cell_type": "code",
   "execution_count": null,
   "metadata": {},
   "outputs": [],
   "source": [
    "\"\"\"\n",
    "#.keys() - will return all the keys from your dictionary.\n",
    "\n",
    "input: dog_dict = {'name':'Samosa',\n",
    "           'age':9,\n",
    "           'mob':9,\n",
    "           'year':2009}\n",
    "print(dog_dict.keys())\n",
    "output: dict_keys(['name', 'age', 'mob', 'year'])\n",
    "\n",
    "#.values() - will return all the values from your dictionary.\n",
    "\n",
    "input: dog_dict = {'name':'Samosa',\n",
    "           'age':9,\n",
    "           'mob':9,\n",
    "           'year':2009}\n",
    "print(dog_dict.values())\n",
    "output: dict_values(['Samosa', 9, 9, 2009])\n",
    "\n",
    "#.clear() - will delete everything from your dictionary.\n",
    "\n",
    "input: dog_dict = {'name':'Samosa',\n",
    "           'age':9,\n",
    "           'mob':9,\n",
    "           'year':2009}\n",
    "dog_dict.clear()\n",
    "print(dog_dict)\n",
    "output: {}\n",
    "\n",
    "#*** Note:\n",
    "\n",
    "Note:\n",
    "Adding an element to a dictionary doesn’t require you to \n",
    "use a method; you have to do it by simply defining a \n",
    "key-value pair like this:\n",
    "\n",
    "dog_dict['key'] = 'value'\n",
    "Eg.\n",
    "input: \n",
    "dog_dict = {}\n",
    "dog_dict['name'] = 'Samosa'\n",
    "dog_dict\n",
    "print(dog_dict)\n",
    "output:\n",
    "{'name': 'Samosa'}\n",
    "\"\"\""
   ]
  },
  {
   "cell_type": "markdown",
   "metadata": {},
   "source": [
    "# Nested Functions"
   ]
  },
  {
   "cell_type": "code",
   "execution_count": null,
   "metadata": {},
   "outputs": [],
   "source": [
    "\"\"\"\n",
    "Nested functions are functions defined within other \n",
    "functions. \n",
    "\"\"\""
   ]
  },
  {
   "cell_type": "markdown",
   "metadata": {},
   "source": [
    "# Nested Methods"
   ]
  },
  {
   "cell_type": "code",
   "execution_count": null,
   "metadata": {},
   "outputs": [],
   "source": [
    "\"\"\"\n",
    "https://codippa.com/nested-methods-in-python/\n",
    "\"\"\""
   ]
  },
  {
   "cell_type": "markdown",
   "metadata": {},
   "source": [
    "# API"
   ]
  },
  {
   "cell_type": "code",
   "execution_count": null,
   "metadata": {},
   "outputs": [],
   "source": [
    "#Consuming data from API\n",
    "\"\"\"\n",
    "*** API\n",
    "\n",
    "# API stands for Application Prgoramming Interface\n",
    "\n",
    "# API allows one piece of software to communicate \n",
    "with another piece of software. Just like human interact with \n",
    "web/mobile application, instead applications are doing via API.\n",
    "\n",
    "#There are many different kids of APIs but when people talk about\n",
    "google's api or twitter's api what they are talking about it is\n",
    "REST (Representational State Transfer) API.\n",
    "\n",
    "#Usually a REST API works pretty much the same way a website does.\n",
    "You make a call from client to a server and you get data back over the \n",
    "http protocol\n",
    "\n",
    "#Facebook's graph API - www.facebook.com/youtube now type \n",
    "graph.facebook.com/youtube -(we made an api request in browser)\n",
    "what we get back is a response to our API request in JSON format. \n",
    "JSON data is a structured data organized according to key value pairs. \n",
    "It'similar to excel spreadsheet you might ask for\n",
    "the data that's in cell a16, you can ask json array for the data if you \n",
    "want to know how many likes this Facebook page had for the data contained \n",
    "under the key likes.\n",
    "\n",
    "*** Parameters\n",
    "# https://graph.facebook.com/youtube?fields=id,name,likes\n",
    "only id, name, and likes will return because these parameters have filtered\n",
    "the data that we get out of this response.\n",
    "\n",
    "*** Google Maps API - it allows you to take a city name or an address and \n",
    "turn it into a set of GPS coordinates \n",
    "#\n",
    "\"\"\" \n",
    "\n",
    "#Writing data to APIs\n",
    "\n",
    "\"\"\"\n",
    "#Concept of HTTP request methods. Big two are GET and POST methods. \n",
    "For lists of all the methods, go to: \n",
    "https://en.wikipedia.org/wiki/Hypertext_Transfer_Protocol#Request_methods\n",
    "\n",
    "# GET - what you use to consume data. What we saw above by passing\n",
    "URL parameters in order to get data back from the API\n",
    "\n",
    "# POST - request for writing data to the API. The best practice is to \n",
    "actually put the data in the body of the request. The normal web browser doesn't\n",
    "allow you to put data in the body of a request. But you can use\n",
    "Postman REST client (www.postman.com).\n",
    "\n",
    "#Authentication - lot of websites are using for their authentication is\n",
    "OAuth or OAuth2. What OAuth is doing is getting credentials, kind of like\n",
    "username and password although they're called a clientID and client secret\n",
    "and then you're exchanging those for what's known as an access token and then\n",
    "you pass that access token to Twitter for e.g and Twitter knows that the\n",
    "request to make the tweet is coming from you, so it sends out the tweet from\n",
    "your Twitter account.\n",
    "\"\"\"\n",
    "#-------------\n",
    "\n",
    "#Ref.: https://www.youtube.com/watch?v=7YcW25PHnAA\n",
    "#For list of go to: https://www.programmableweb.com/apis/directory"
   ]
  },
  {
   "cell_type": "markdown",
   "metadata": {},
   "source": [
    "# Modules"
   ]
  },
  {
   "cell_type": "code",
   "execution_count": null,
   "metadata": {},
   "outputs": [],
   "source": [
    "\"\"\"\n",
    "\n",
    "Module is a file which contains python functions, global variables etc.\n",
    "It is nothing but .py file which has python executable code/statement\n",
    "\n",
    "#Step1: create a file 'user.py'\n",
    "\n",
    "def welcome_message(user_name):\n",
    "    message = f\"Welcome {user_name}\"\n",
    "    return message\n",
    "\n",
    "Step2: Import 'user' module into foo.py\n",
    "\n",
    "import user\n",
    "print(user.welcome_message(\"Vik\"))\n",
    "#print(module.method(parameter))\n",
    "\n",
    "Step3:\n",
    "From terminal run: python3 foo.py\n",
    "\n",
    "output will be:\n",
    "Welcome Vik\n",
    "\n",
    "\n",
    "\"\"\"\n",
    "#https://www.quora.com/What-is-the-difference-between-Python-modules-packages-libraries-and-frameworks"
   ]
  },
  {
   "cell_type": "markdown",
   "metadata": {},
   "source": [
    "# Import Modules"
   ]
  },
  {
   "cell_type": "code",
   "execution_count": null,
   "metadata": {},
   "outputs": [],
   "source": [
    "#Import modules - \n",
    "\n",
    "\"\"\"\n",
    "#import - Python modules can get access to code from another\n",
    "module by importing the file/function using import. \n",
    "for e.g.:\n",
    "\n",
    "input: from math import sqrt  #math is a module and sqrt is a function.\n",
    "In another words from module import function(or parameters)\n",
    "print(sqrt(4)))\n",
    "output:2.0\n",
    "\n",
    "In the above example. The \"math\" module is a standard module\n",
    "in Python and \"sqrt\" is a function which is always available. \n",
    "\n",
    "To use mathematical functions(sqrt in above example) under this module, \n",
    "you have to import the module using \"import math\".\n",
    "\n",
    "For list of Functions in Python Math Module go to:\n",
    "https://www.programiz.com/python-programming/modules/math\n",
    "\n",
    "# \"from sys import argv\" (from the \"module sys\", import the \n",
    "\"function name or parameter argv\")\n",
    "\n",
    "#from sys(is a module that contains \"system functionality\") \n",
    "import argv(is a list of the arguments to your program). \n",
    "\n",
    "# import time - will import the time module\n",
    "\n",
    "\"\"\""
   ]
  },
  {
   "cell_type": "markdown",
   "metadata": {},
   "source": [
    "# Package"
   ]
  },
  {
   "cell_type": "code",
   "execution_count": null,
   "metadata": {},
   "outputs": [],
   "source": [
    "\"\"\"\n",
    "Package is namespace (In simple terms,think of a \n",
    "namespace as a person's surname. It allows you to \n",
    "use the same function or class name in different \n",
    "parts of the same program without causing a name \n",
    "collision.) which contains multiple package/modules. \n",
    "\n",
    "It is a directory which contains a special file __init__.py\n",
    "\n",
    "#Let's create a directory 'user'. Now this package contains \n",
    "multiple packages/modules to handle user related requests.\n",
    "\n",
    "-----------------------------\n",
    "user/      #top level package\n",
    "    __init__.py\n",
    "    \n",
    "    get/   #first subpackage\n",
    "        __init__.py\n",
    "        info.py\n",
    "        points.py\n",
    "        transactions.py\n",
    "    \n",
    "    create/ #secon subpackage\n",
    "        __init__.py\n",
    "        api.py\n",
    "        platform.py\n",
    "-----------------------------\n",
    "Now you can import it in following way\n",
    "\n",
    "-----------------------------\n",
    "from user.get import info # imports info module from get pacakage\n",
    "from user.create import api # imports api module from create package\n",
    "-----------------------------\n",
    "\n",
    "When we import any package, python interpreter searches for sub directories/\n",
    "packages.\n",
    "\n",
    "\"\"\"\n",
    "\n",
    "#https://www.quora.com/What-is-the-difference-between-Python-modules-packages-libraries-and-frameworks\n",
    "# to read more about what is 'namespace' go to:\n",
    "#https://stackoverflow.com/questions/3384204/what-are-namespaces"
   ]
  },
  {
   "cell_type": "markdown",
   "metadata": {},
   "source": [
    "# Library"
   ]
  },
  {
   "cell_type": "code",
   "execution_count": null,
   "metadata": {},
   "outputs": [],
   "source": [
    "\"\"\"\n",
    "It is collection of various packages. There is no difference\n",
    "between package and python library conceptually.\n",
    "\n",
    "Have a look at requests(https://github.com/psf/requests) library.\n",
    "We use it as a package.\n",
    "\n",
    "\"\"\"\n",
    "#https://www.quora.com/What-is-the-difference-between-Python-modules-packages-libraries-and-frameworks"
   ]
  },
  {
   "cell_type": "markdown",
   "metadata": {},
   "source": [
    "# Framework"
   ]
  },
  {
   "cell_type": "code",
   "execution_count": null,
   "metadata": {},
   "outputs": [],
   "source": [
    "\"\"\"\n",
    "It is a collection of various libraries which architects\n",
    "the code flow.\n",
    "\n",
    "Let's take example of Django(https://www.djangoproject.com/)\n",
    "which has various in-build libraries like Auth, user, \n",
    "database connector etc.\n",
    "\n",
    "\"\"\""
   ]
  },
  {
   "cell_type": "markdown",
   "metadata": {},
   "source": [
    "# Web Scrapping"
   ]
  },
  {
   "cell_type": "code",
   "execution_count": 2,
   "metadata": {},
   "outputs": [],
   "source": [
    "#!pip3 install requests\n",
    "#import requests - if you don't get any errors it's working."
   ]
  },
  {
   "cell_type": "code",
   "execution_count": null,
   "metadata": {},
   "outputs": [],
   "source": [
    "#HTTP Response Codes (200 and 204)\n",
    "\"\"\"\n",
    "response code of 200, meaning, \n",
    "\"I did what you asked me to and everything went fine\". \n",
    "Response codes are always a three digit numerical code. \n",
    "The response code 200 literally means \"OK\" and is the code \n",
    "most often used when responding to a GET request.\n",
    "\n",
    "A POST request, however, may result in code 204 (\"No Content\") \n",
    "being sent back, meaning \"Everything went OK but I don't really \n",
    "have anything to show you.\"\n",
    "\"\"\""
   ]
  },
  {
   "cell_type": "code",
   "execution_count": null,
   "metadata": {},
   "outputs": [],
   "source": [
    "\"\"\"\n",
    "#pip3 install pipenv\n",
    "#pipenv -h # -h means help. If you get a help it means it's working.\n",
    "Everytime new project, you create a newfolder and created a new envrironment\n",
    "#pipenv install requests jupyter - will download 'requests' and 'jupyter' libraries\n",
    "and dependencies.\n",
    "#pipenv run jupyter notebook - will run jupyter notebook\n",
    "\n",
    "#pipenv install requests -html \n",
    "#pipenv run jupyter notebook\n",
    "#http://python-requests.org/\n",
    "\"\"\"\n"
   ]
  },
  {
   "cell_type": "code",
   "execution_count": null,
   "metadata": {},
   "outputs": [],
   "source": [
    "\"\"\"\n",
    "WEB SCRAPPING\n",
    "\n",
    "#To install requests-html and jupyter in virtualenv\n",
    "pipenv install requests -html \n",
    "\n",
    "#To start jupyter notebook from virtualenv\n",
    "pipenv run jupyter notebook\n",
    "\n",
    "# http://python-requests.org/\n",
    "\n",
    "#print(response.content) - will get you the content of the website\n",
    "\n",
    "#alway add \".\" before the class for e.g. \".subtext\"\n",
    "\n",
    "\"\"\""
   ]
  },
  {
   "cell_type": "markdown",
   "metadata": {},
   "source": [
    "# Generating Random Id"
   ]
  },
  {
   "cell_type": "code",
   "execution_count": 1,
   "metadata": {},
   "outputs": [],
   "source": [
    "import uuid"
   ]
  },
  {
   "cell_type": "markdown",
   "metadata": {},
   "source": [
    "# Python map() function"
   ]
  },
  {
   "cell_type": "code",
   "execution_count": null,
   "metadata": {},
   "outputs": [],
   "source": []
  },
  {
   "cell_type": "markdown",
   "metadata": {},
   "source": [
    "# Help"
   ]
  },
  {
   "cell_type": "code",
   "execution_count": null,
   "metadata": {},
   "outputs": [],
   "source": [
    "\n",
    "\"\"\"\n",
    "input: sub_downloader = SubtitleDownloader()\n",
    "input: help(sub_downloader)\n",
    "\n",
    "\n",
    "output:\n",
    "Help on SubtitleDownloader in module __main__ object:\n",
    "\n",
    "class SubtitleDownloader(builtins.object)\n",
    " |  An example use of this class.\n",
    " |  sub_downloader = SubtitleDownloader(verbose=True)\n",
    " |  \n",
    " |  \n",
    " |  sub_downloader.search_for_subtitle(\"fight club\")\n",
    " |  sub_downloader.response_to_dict()\n",
    " |  sub_downloader.select_movie_number(movie_number=1)\n",
    " |  sub_downloader.get_subtitles_from_selected_movie()\n",
    " |  sub_downloader.download_subtitle_zip()\n",
    " |  \n",
    " |  Methods defined here:\n",
    " |  \n",
    " |  __init__(self, verbose=False)\n",
    " |      Initialize self.  See help(type(self)) for accurate signature.\n",
    " |  \n",
    " |  download_page_to_zip_url(self)\n",
    " |      Get the download link for the zip file from the download page.\n",
    " |  \n",
    " |  download_subtitle_zip(self)\n",
    " |      get the zip url and download it.\n",
    " |  \n",
    " |  download_zip_file(self, zip_url)\n",
    " |      Downloads the zip file in the current directory.\n",
    " |  \n",
    " |  filter_subtitles(self, subtitle_info_list, filter_language='English')\n",
    " |      Takes all the subtitle dicts and filter them for language and takes the first one.\n",
    " |  \n",
    " |  get_subtitles_from_selected_movie(self)\n",
    " |      Find all the sub for selected movie and select the best one.\n",
    " |  \n",
    " |  response_to_dict(self)\n",
    " |      Takes the reponse page, finds all the search results\n",
    " |      convert search results into dict and return the list of dicts.\n",
    " |  \n",
    " |  search_for_subtitle(self, query)\n",
    " |      Take a query string, make the url to search and get the response\n",
    " |  \n",
    " |  search_result_to_movie_info(self, single_search_result)\n",
    " |      Takes html of a search result, converts it into a dict\n",
    " |      and return the dict.\n",
    " |  \n",
    " |  select_movie_number(self, movie_number=None)\n",
    " |      Let the user select a movie to download subtitle for.\n",
    " |  \n",
    " |  subtitle_html_to_dict(self, single_subtitle)\n",
    " |      Takes html for single subtitle result and convert it to dict then return it.\n",
    " |  \n",
    " |  url_to_response(self, url)\n",
    " |      takes a url, make a request and return the response\n",
    " |  \n",
    " |  ----------------------------------------------------------------------\n",
    " |  Data descriptors defined here:\n",
    " |  \n",
    " |  __dict__\n",
    " |      dictionary for instance variables (if defined)\n",
    " |  \n",
    " |  __weakref__\n",
    " |      list of weak references to the object (if defined)\n",
    " \n",
    " \n",
    " \"\"\""
   ]
  },
  {
   "cell_type": "markdown",
   "metadata": {},
   "source": [
    "# Object Oriented Programming"
   ]
  },
  {
   "cell_type": "code",
   "execution_count": null,
   "metadata": {},
   "outputs": [],
   "source": [
    "\"\"\"\n",
    "\n",
    "#if we take the analogy of cars\n",
    "#The class is the blueprint of the car and object is the physical car\n",
    "#As you can't drive the buleprint of a car, you need to create the physical car according to the blueprint\n",
    "but the blueprint does have all the details of the car\n",
    "#class can store data and code (and logic)\n",
    "#first create an object out of a class and then modify\n",
    "\n",
    "#Python convention - whenever you define a class you define it capital letter\n",
    "#Object will have data and logic\n",
    "\n",
    "#If we are going to change the variable in the future we don't create it in __init__ function\n",
    "#You can create how function will behave in _init_ function.\n",
    "#In Python as soon as your add 'self', the function becomes method and varaiable becomes property\n",
    "#dir(name of the object). dir(sub_downloader) or you can use help\n",
    "\n",
    "\n",
    "\"\"\"\n",
    "#https://www.jeffknupp.com/blog/2017/03/27/improve-your-python-python-classes-and-object-oriented-programming/\n"
   ]
  },
  {
   "cell_type": "markdown",
   "metadata": {},
   "source": [
    "# Self"
   ]
  },
  {
   "cell_type": "code",
   "execution_count": 37,
   "metadata": {},
   "outputs": [],
   "source": [
    "\"\"\"\n",
    "self represents the instance of the class. By using the \"self\"\n",
    "keyword we can access the attributes and methods of the class in Python.\n",
    "It binds the attributes with the given arguments.\n",
    "\n",
    "\"\"\"\n"
   ]
  },
  {
   "cell_type": "markdown",
   "metadata": {},
   "source": [
    "# Workflow"
   ]
  },
  {
   "cell_type": "code",
   "execution_count": null,
   "metadata": {},
   "outputs": [],
   "source": []
  },
  {
   "cell_type": "markdown",
   "metadata": {},
   "source": [
    "# Classes()"
   ]
  },
  {
   "cell_type": "code",
   "execution_count": null,
   "metadata": {},
   "outputs": [],
   "source": [
    "\"\"\"\n",
    "\n",
    "Classes are the foundation of object-oriented\n",
    "programming. Classes represent real-world things\n",
    "you want to model in your programs: for example\n",
    "dogs, cars, and robots. You use a class to make\n",
    "objects, which are specific instances of dogs, cars,\n",
    "and robots. A class defines the general behavior that\n",
    "a whole category of objects can have, and the\n",
    "information that can be associated with those objects.\n",
    "Classes can inherit from each other – you can\n",
    "write a class that extends the functionality of an\n",
    "existing class. This allows you to code efficiently for a\n",
    "wide variety of situations.\n",
    "\n",
    "\"\"\""
   ]
  },
  {
   "cell_type": "code",
   "execution_count": 4,
   "metadata": {},
   "outputs": [],
   "source": [
    "\"\"\"\n",
    "\n",
    "class Car():\n",
    "    \n",
    "    #simple model of a car\n",
    "    def __init__(self, make, model, year, fuel_capacity=15):\n",
    "   \n",
    "        #Initialize car attributes\n",
    "        self.make = make\n",
    "        self.model = model\n",
    "        self.year = year\n",
    "        \n",
    "        #fuel capacity\n",
    "        self.fuel_capacity = fuel_capacity\n",
    "        self.fuel_level = 0\n",
    "        \n",
    "    def fill_tank(self, fuel_amount):\n",
    "        pass\n",
    "        \n",
    "\"\"\"\n",
    "\n",
    "\"\"\"\n",
    "#For more info. go to:\n",
    "\n",
    "https://www.jeffknupp.com/blog/2017/03/27/improve-your-python-python-classes-and-object-oriented-programming/\n",
    "\n",
    "\"\"\"\n"
   ]
  },
  {
   "cell_type": "code",
   "execution_count": 75,
   "metadata": {},
   "outputs": [
    {
     "name": "stdout",
     "output_type": "stream",
     "text": [
      "audi\n",
      "a4\n",
      "2016\n",
      "audi a4 2016\n",
      "Fuel tank is full.\n",
      "The car is moving\n",
      "\n",
      "\n",
      "audi a4 2016\n",
      "audi a4 2016\n",
      "maruti swift 2015\n",
      "Toyota Corolla 2009\n",
      "\n",
      "\n",
      "new fuel level is: 5\n",
      "0\n",
      "15\n",
      "\n",
      "\n",
      "None\n"
     ]
    }
   ],
   "source": [
    "class Car():\n",
    "    \n",
    "#simple model of a car\n",
    "    def __init__(self, make, model, year):\n",
    "        \n",
    "#Initialize car attributes\n",
    "        self.make = make\n",
    "        self.model = model\n",
    "        self.year = year\n",
    "        \n",
    "#fuel capacity\n",
    "        self.fuel_capacity = 20\n",
    "        self.fuel_level = 5\n",
    "        \n",
    "    def fill_tank(self):\n",
    "#Fill gas tank to capacity\n",
    "        self.fuel_level = self.fuel_capacity\n",
    "        print(\"Fuel tank is full.\")\n",
    "        \n",
    "    def drive(self):\n",
    "#Simulate driving\n",
    "        print(\"The car is moving\")\n",
    "    \n",
    "#Without def __str__ output will be \"<__main__.Car object at 0x1131ff9e8>\"\n",
    "# but after def __str__ out will be \"audi a4 2016\"\n",
    "\n",
    "    def __str__(self):\n",
    "        return f'{self.make} {self.model} {self.year}'\n",
    "    \n",
    "#Modify attributes\n",
    "    \"\"\"You can modify an attribute's value directly, or you\n",
    "    can write methods that manage updating values more carefully.\"\"\"\n",
    "\n",
    "#Modifying an attribute directly\n",
    "    \"\"\"\n",
    "    my_new_car = Car('audi', 'a4', 2016)\n",
    "    my_new_car.fuel_level = 5 \n",
    "    \"\"\"\n",
    "\n",
    "#Writing a method to update an attribute's value\n",
    "\n",
    "    def update_fuel_level(self, new_level):\n",
    "        \"\"\"Update the fuel level\"\"\"\n",
    "        if new_level <= self.fuel_capacity:\n",
    "            self.fuel_level = new_level\n",
    "            print(f\"new fuel level is: {self.fuel_level}\")\n",
    "        else:\n",
    "            print(\"The tank can't hold that much\")\n",
    "            \n",
    "            \n",
    "        return 0\n",
    "\n",
    "#Writing a method to increment an attribute's value\n",
    "    def add_fuel(self,amount):\n",
    "        \"\"\"Add fuel to the tank.\"\"\"\n",
    "        if(self.fuel_level + amount <= self.fuel_capacity):\n",
    "            self.fuel_level += amount\n",
    "            print(self.fuel_level)\n",
    "            print('\\n')\n",
    "            #print(\"Added fuel.\")\n",
    "        else:\n",
    "            print(\"The tank won't hold that much.\")\n",
    "\n",
    "\n",
    "#Creating an object from a class. In below example, my_car is an object\n",
    "    \n",
    "my_car = Car('audi', 'a4', 2016)\n",
    " \n",
    "#Accessing attribute values\n",
    "print(my_car.make)\n",
    "print(my_car.model)\n",
    "print(my_car.year)\n",
    "print(my_car.make,my_car.model,my_car.year)\n",
    "\n",
    "#Calling methods\n",
    "my_car.fill_tank()\n",
    "my_car.drive()\n",
    "\n",
    "#Creating multiple objects\n",
    "my_car = Car('audi', 'a4', 2016)\n",
    "my_old_car = Car('maruti', 'swift', 2015)\n",
    "my_current_car = Car('Toyota', 'Corolla', 2009)\n",
    "print('\\n')\n",
    "\n",
    "print(my_car)\n",
    "print(my_car.make, my_car.model, my_car.year)\n",
    "print(my_old_car.make, my_old_car.model, my_old_car.year)\n",
    "print(my_current_car.make, my_current_car.model, my_current_car.year)\n",
    "print('\\n')\n",
    "\n",
    "print(my_car.update_fuel_level(5))\n",
    "print(my_car.add_fuel(10))\n",
    "\n"
   ]
  },
  {
   "cell_type": "code",
   "execution_count": 64,
   "metadata": {},
   "outputs": [
    {
     "name": "stdout",
     "output_type": "stream",
     "text": [
      "25\n"
     ]
    }
   ],
   "source": [
    "#Increment the value (+=)\n",
    "\n",
    "a = 20\n",
    "b = 5\n",
    "a += b\n",
    "print(a)"
   ]
  },
  {
   "cell_type": "markdown",
   "metadata": {},
   "source": [
    "# Back-End/Flask"
   ]
  },
  {
   "cell_type": "code",
   "execution_count": null,
   "metadata": {},
   "outputs": [],
   "source": [
    "#\n",
    "\"\"\"\n",
    "#pipenv install flask\n",
    "#After the installation to execute the file\n",
    "pipenv run python 1_simple_app.py\n",
    "#Flask is a framework which is used for web development\n",
    "#Framework is a code somebody has writtend which you can use to build your app.\n",
    "#Flask, DJango, are frameworks. Tenser flow is ML framework.\n",
    "#Flask provids you the ability to add url for your Python functions.\n",
    "#First 2 lines of codes are boilder code.\n",
    "#@ is a decorator. It'll attach to your function. It takes the function hello_world\n",
    "\"\"\""
   ]
  },
  {
   "cell_type": "markdown",
   "metadata": {},
   "source": [
    "# Loads/Dumps"
   ]
  },
  {
   "cell_type": "code",
   "execution_count": null,
   "metadata": {},
   "outputs": [],
   "source": [
    "\"\"\"\n",
    "# Loads gives Python dictionary\n",
    "# Dumps gives gives JSON string\n",
    "\n",
    "\"\"\""
   ]
  },
  {
   "cell_type": "markdown",
   "metadata": {},
   "source": [
    "# Decorator"
   ]
  },
  {
   "cell_type": "code",
   "execution_count": null,
   "metadata": {},
   "outputs": [],
   "source": [
    "#@ is a decorator.\n",
    "#@app.route('/hello') -  for e.g.web browser www.abc.com/hello\n",
    "@app.route('/hello')\n",
    "def hello_world():\n",
    "    return 'Hello, World!. This is Vik'"
   ]
  },
  {
   "cell_type": "markdown",
   "metadata": {},
   "source": [
    "# Boilerplate Code"
   ]
  },
  {
   "cell_type": "code",
   "execution_count": null,
   "metadata": {},
   "outputs": [],
   "source": [
    "#Write the following code before you write any code.\n",
    "\n",
    "\"\"\"\n",
    "from flask import Flask\n",
    "import json\n",
    "app = Flask(__name__)\n",
    "\"\"\"\n",
    "\n",
    "\n",
    "\n",
    "\"\"\"\n",
    "Basically you have two ways of using a \n",
    "Python module: Run it directly as a script, \n",
    "or import it. If you write following code and if\n",
    "somebody is trying to import the code it won't work.\n",
    "\n",
    "if __name__ == \"__main__\":\n",
    "    app.run(debug=True)\n",
    "\"\"\"\n"
   ]
  },
  {
   "cell_type": "markdown",
   "metadata": {},
   "source": [
    "# Json (JavaScript Object Notation) format"
   ]
  },
  {
   "cell_type": "code",
   "execution_count": null,
   "metadata": {},
   "outputs": [],
   "source": [
    "\"\"\"\n",
    "Whether we are accessing data of others or making our\n",
    "data available to others through API, it's always\n",
    "in JSON format. Computers can read JSON format.\n",
    "It is used primarily to transmit data between a \n",
    "server and web application.\"\n",
    "\"\"\"\n",
    "\n",
    "#Some important command to remember:\n",
    "\"\"\"\n",
    "import json\n",
    "json.dumps(variable name)\n",
    "\"\"\"\n",
    "#"
   ]
  },
  {
   "cell_type": "markdown",
   "metadata": {},
   "source": [
    "# JSON Viewer"
   ]
  },
  {
   "cell_type": "code",
   "execution_count": null,
   "metadata": {},
   "outputs": [],
   "source": [
    "https://codebeautify.org/jsonviewer"
   ]
  },
  {
   "cell_type": "code",
   "execution_count": null,
   "metadata": {},
   "outputs": [],
   "source": [
    "#Early exit.\n",
    "#Google what is early exit is in Python"
   ]
  },
  {
   "cell_type": "markdown",
   "metadata": {},
   "source": [
    "# Logging (LogGuru - Logging library)"
   ]
  },
  {
   "cell_type": "code",
   "execution_count": null,
   "metadata": {},
   "outputs": [],
   "source": [
    "#Logging -  Log of whatever is happening"
   ]
  },
  {
   "cell_type": "markdown",
   "metadata": {},
   "source": [
    "# TinyDB"
   ]
  },
  {
   "cell_type": "code",
   "execution_count": null,
   "metadata": {},
   "outputs": [],
   "source": [
    "#to install: \n",
    "\n",
    "#pipenv install tinydb"
   ]
  },
  {
   "cell_type": "markdown",
   "metadata": {},
   "source": [
    "# URL Encoder"
   ]
  },
  {
   "cell_type": "code",
   "execution_count": 2,
   "metadata": {},
   "outputs": [],
   "source": [
    "\"\"\"\n",
    "Type or paste your input string to see URL encoded go to:\n",
    "https://www.urlencoder.io/\n",
    "\"\"\"\n",
    "#https://www.urlencoder.io/"
   ]
  },
  {
   "cell_type": "markdown",
   "metadata": {},
   "source": [
    "# URL Parameters (Variables)"
   ]
  },
  {
   "cell_type": "code",
   "execution_count": 2,
   "metadata": {},
   "outputs": [],
   "source": [
    "#URL parameters - How to pass it to the destination URL\n",
    "https://support.clickmeter.com/hc/en-us/articles/211032666-URL-parameters-How-to-pass-it-to-the-destination-URL\n",
    "\n",
    "#URL encoder - https://www.urlencoder.io/\n",
    "\"\"\"\n",
    "for e.g\n",
    "Type(or paste) string here....\n",
    "my name is John\n",
    "\n",
    "URL encoded output....\n",
    "my%20name%20is%20John\n",
    "\n",
    "\"\"\""
   ]
  },
  {
   "cell_type": "markdown",
   "metadata": {},
   "source": [
    "# HTTP Request Methods (GET and POST methods)"
   ]
  },
  {
   "cell_type": "code",
   "execution_count": null,
   "metadata": {},
   "outputs": [],
   "source": [
    "\"\"\"\n",
    "# HTTP Methods - GET, POST, PUT, HEAD, DELETE, PATCH, OPTIONS\n",
    "\n",
    "# The GET Method:\n",
    "\n",
    "GET is used to request data from a specified resource\n",
    "GET is one of the most common HTTP methods\n",
    "\n",
    "Note that the query string(name/value pairs) is sent in the \n",
    "URL of a GET request: /test/demo_form.php?name1=value1&name2=value2\n",
    "\n",
    "# The POST Method:\n",
    "\n",
    "POST is used to send data to a server to create/update a resource.\n",
    "\n",
    "The data sent to the server with POST is stored in the reuqest body of the\n",
    "HTTP request:\n",
    "\n",
    "POST /test/demo_form.php HTTP/1.1\n",
    "Host: w3schools.com\n",
    "name1=value1&name2=value2\n",
    "\n",
    "\"\"\""
   ]
  },
  {
   "cell_type": "markdown",
   "metadata": {},
   "source": [
    "# Passing parameters (variables) in a URL"
   ]
  },
  {
   "cell_type": "code",
   "execution_count": null,
   "metadata": {},
   "outputs": [],
   "source": []
  },
  {
   "cell_type": "markdown",
   "metadata": {},
   "source": [
    "# Postman"
   ]
  },
  {
   "cell_type": "code",
   "execution_count": null,
   "metadata": {},
   "outputs": [],
   "source": [
    "getpostman.com"
   ]
  },
  {
   "cell_type": "code",
   "execution_count": null,
   "metadata": {},
   "outputs": [],
   "source": [
    "\"\"\"\n",
    "# Postman is nothing more than a browser but with lot more functionality\n",
    "that a normal browser usually will not show you\n",
    "\n",
    "Postman is readymade API client. To access data of API.\n",
    "It'll convert JSON format automatically.\n",
    "\n",
    "CRUD = Create, Read, Update, Delete -  Basic operations we do in computing.\n",
    "\n",
    "http request builder = Method, Address, Body, Header, Cookies\n",
    "\n",
    "http request types = C (post method) R(get method) U(put method) d(del method)\n",
    "\n",
    "\"\"\"\n",
    "\n",
    "\n",
    "\"\"\"\n",
    "#Postman is ideal if you're writing your own API. If you are writing server-side \n",
    "code and If you need to test your code and check how it's working. With Postman \n",
    "you can immediately start interacting with your back-end and get some feedback \n",
    "on how things are going, if the API is working the way you expect it to, \n",
    "you can test the different parameters, different authentication methods, \n",
    "setting headers, cookies whatever application needs to, etc. All these without \n",
    "building client-side, and writing any front-end code.\n",
    "\n",
    "#The only job of the postman is make request without you having to go to a browser.\n",
    "\n",
    "#You don't have to build your own API to take advantage of Postman. You can use \n",
    "third party API in your application. For e.g. you can use Facebook, Twitter, Google\n",
    "or whatever APIs are out there and check what information is available, how you can\n",
    "interact with it, etc. You can do all of these without writing a single line of code.\n",
    "It is a very powerful way of testing because it imporves the development time and you know\n",
    "in advance that the API is working in a certain way. So there'll be no surprise when you actually\n",
    "start using it.\n",
    "\n",
    "\"\"\"\n",
    "\n",
    "#-------\n",
    "#https://www.youtube.com/watch?v=FjgYtQK_zLE\n",
    "#https://www.youtube.com/watch?v=FjgYtQK_zLE&t=226s\n",
    "#https://www.guru99.com/postman-tutorial.html#1\n"
   ]
  },
  {
   "cell_type": "markdown",
   "metadata": {},
   "source": [
    "# Password Verification"
   ]
  },
  {
   "cell_type": "code",
   "execution_count": null,
   "metadata": {},
   "outputs": [],
   "source": [
    "#Hash\n",
    "#MD5 hastag - MD5 is an algorithm for generating hashing\n",
    "#passwordgenerator\n",
    "#geekforgeeks MD5 Hash in Python\n",
    "#Password verification is one of the use case of hash.\n",
    "#MD5 generator"
   ]
  },
  {
   "cell_type": "markdown",
   "metadata": {},
   "source": [
    "# Bootstrap / Semantic UI"
   ]
  },
  {
   "cell_type": "code",
   "execution_count": null,
   "metadata": {},
   "outputs": [],
   "source": [
    "# Bootstrap - how you want something to show in html.\n",
    "\n",
    "#www.semantic-ui.com\n"
   ]
  },
  {
   "cell_type": "markdown",
   "metadata": {},
   "source": [
    "# Flask"
   ]
  },
  {
   "cell_type": "code",
   "execution_count": null,
   "metadata": {},
   "outputs": [],
   "source": []
  },
  {
   "cell_type": "markdown",
   "metadata": {},
   "source": [
    "# DJango"
   ]
  },
  {
   "cell_type": "code",
   "execution_count": null,
   "metadata": {},
   "outputs": [],
   "source": [
    "#www.djangogirls.org"
   ]
  },
  {
   "cell_type": "markdown",
   "metadata": {},
   "source": [
    "# Hasura"
   ]
  },
  {
   "cell_type": "code",
   "execution_count": null,
   "metadata": {},
   "outputs": [],
   "source": [
    "\"\"\"\n",
    "For creating a simple API automatically use Hasura.\n",
    "\"\"\"\n",
    "#hasura.io"
   ]
  },
  {
   "cell_type": "markdown",
   "metadata": {},
   "source": [
    "# Font Awesome"
   ]
  },
  {
   "cell_type": "code",
   "execution_count": 1,
   "metadata": {},
   "outputs": [],
   "source": [
    "#www.fontawesome.com"
   ]
  },
  {
   "cell_type": "markdown",
   "metadata": {},
   "source": [
    "# Boilerplates/Templates"
   ]
  },
  {
   "cell_type": "code",
   "execution_count": null,
   "metadata": {},
   "outputs": [],
   "source": [
    "#Whenever you start a project look for \"flask boilerplate\" or \"flask cookiecutter\"\n",
    "https://github.com/cookiecutter-flask/cookiecutter-flask\n",
    "\n",
    "\n",
    "#Cookiecutter creates boilerplates from templates.\n",
    "https://cookiecutter.readthedocs.io/en/latest/\n"
   ]
  },
  {
   "cell_type": "markdown",
   "metadata": {},
   "source": [
    "# Mockup Tools"
   ]
  },
  {
   "cell_type": "code",
   "execution_count": null,
   "metadata": {},
   "outputs": [],
   "source": [
    "#https://grid.layoutit.com/\n",
    "#https://layoutit.com/"
   ]
  },
  {
   "cell_type": "markdown",
   "metadata": {},
   "source": [
    "# SQL Datbase"
   ]
  },
  {
   "cell_type": "code",
   "execution_count": null,
   "metadata": {},
   "outputs": [],
   "source": [
    "\"\"\"\n",
    "\n",
    "#ORM = layer on top of SQL. Advantage of ORM is you can write\n",
    "Python function to call ORM and then ORM will talk to SQL. So you don't need to know SQL.\n",
    "\n",
    "#sqlalchemy is one of the ORM.\n",
    "#from sqlalchemy import create\n",
    "\n",
    "#Extenstion for VS Code - SQL Lite \n",
    "\"\"\"\n"
   ]
  },
  {
   "cell_type": "markdown",
   "metadata": {},
   "source": [
    "# Python commands"
   ]
  },
  {
   "cell_type": "code",
   "execution_count": null,
   "metadata": {},
   "outputs": [],
   "source": [
    "#pipenv install....\n",
    "#pipenv run...."
   ]
  },
  {
   "cell_type": "markdown",
   "metadata": {},
   "source": [
    "# Project"
   ]
  },
  {
   "cell_type": "code",
   "execution_count": null,
   "metadata": {},
   "outputs": [],
   "source": [
    "#Blood donation system. In case you need a blood in emergency. There's no central system to donate blood.\n",
    "\"\"\"\n",
    "\n",
    "- Blood group\n",
    "- City\n",
    "- Contact Number\n",
    "- Limit how much blood can you donate per month\n",
    "\n",
    "#Input from user:\n",
    "\n",
    "- System shows how much blood a person has donated in that particular month\n",
    "- 2 kinds of people. Donar and Receiver\n",
    "- Donar - Age, Blood Type, City, Phone #, \n",
    "- Receiver - Blood Type, City\n",
    "\n",
    "#We need to save only donar's information in the databse. Not reciever\n",
    "\n",
    "\n",
    "#html form (home.html page)\n",
    "#TinyDB database\n",
    "#Always make the bare minimum first and then improve\n",
    "#Always make sure that functionality is working\n",
    "#Time = from datetime import datetime\n",
    "#Date time object = print(latest_time.hour)\n",
    "#Print(latest_time.second)\n",
    "print(latest_time.day)\n",
    "\n",
    "\n",
    "\"\"\""
   ]
  },
  {
   "cell_type": "markdown",
   "metadata": {},
   "source": [
    "# List Comprehension"
   ]
  },
  {
   "cell_type": "code",
   "execution_count": null,
   "metadata": {},
   "outputs": [],
   "source": []
  },
  {
   "cell_type": "markdown",
   "metadata": {},
   "source": [
    "# Projects"
   ]
  },
  {
   "cell_type": "code",
   "execution_count": null,
   "metadata": {},
   "outputs": [],
   "source": [
    "#How to select a problem to solve?\n",
    "\"\"\"\n",
    "\n",
    "Public Sector\n",
    "- public transport\n",
    "- Education sector\n",
    "- data.gov.in (for Govt of India APIs)\n",
    "\n",
    "Or\n",
    "Solve a problem for business\n",
    "\n",
    "Or\n",
    "Personal Problem\n",
    "- Lost and found\n",
    "- Local tour guide for experience/Personal Assistance\n",
    "- \n",
    "\n",
    "#Indian govt data/api\n",
    "\n",
    "data.gov.in\n",
    "\n",
    "\"\"\""
   ]
  }
 ],
 "metadata": {
  "kernelspec": {
   "display_name": "Python 3",
   "language": "python",
   "name": "python3"
  },
  "language_info": {
   "codemirror_mode": {
    "name": "ipython",
    "version": 3
   },
   "file_extension": ".py",
   "mimetype": "text/x-python",
   "name": "python",
   "nbconvert_exporter": "python",
   "pygments_lexer": "ipython3",
   "version": "3.7.2"
  }
 },
 "nbformat": 4,
 "nbformat_minor": 2
}
