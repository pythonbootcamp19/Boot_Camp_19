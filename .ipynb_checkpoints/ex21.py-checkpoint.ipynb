{
 "cells": [
  {
   "cell_type": "code",
   "execution_count": 1,
   "metadata": {},
   "outputs": [
    {
     "name": "stdout",
     "output_type": "stream",
     "text": [
      "Let's do some math with just functions!\n",
      "ADDING 30 + 5\n",
      "SUBTRACTING 78 - 4\n",
      "MULTIPLYING 90 * 2\n",
      "DIVIDING 100 / 2\n",
      "Age: 35, Height: 74, Weight: 180, IQ: 50.0\n",
      "Here is a puzzle.\n",
      "ADDING 30 + 5\n"
     ]
    }
   ],
   "source": [
    "def add(a, b):\n",
    "    print(f\"ADDING {a} + {b}\")\n",
    "    return a+b\n",
    "# a = 5\n",
    "# b = 6\n",
    "\n",
    "def subtract(a, b):\n",
    "    print(f\"SUBTRACTING {a} - {b}\")\n",
    "    return a-b\n",
    "    \n",
    "def multiply(a, b):\n",
    "    print(f\"MULTIPLYING {a} * {b}\")\n",
    "    return a*b\n",
    "          \n",
    "def divide(a, b):\n",
    "    print(f\"DIVIDING {a} / {b}\")\n",
    "    return a/b\n",
    "\n",
    "print(\"Let's do some math with just functions!\")\n",
    "\n",
    "age = add(30,5)\n",
    "height = subtract(78,4)\n",
    "weight = multiply(90,2)\n",
    "iq = divide(100, 2)\n",
    "\n",
    "print(f\"Age: {age}, Height: {height}, Weight: {weight}, IQ: {iq}\")\n",
    "\n",
    "# A puzzle for the extra credit, type it in anyways\n",
    "\n",
    "print(\"Here is a puzzle.\")\n",
    "\n",
    "# belows is a nested function. The inner most function will be executed first.\n",
    "what = add(30,5)\n",
    "          \n",
    "#Or you can write it another way.\n",
    "# result_of_divide = divide (iq, 2)\n",
    "# result_of_multiply = multiply(weight, result_of_divide)\n",
    "# result_of_substract = subtract(height, result_of_multiply)\n",
    "# result_of_add = add(age, result_of_subtract)\n",
    "# what = result_of_add\n"
   ]
  },
  {
   "cell_type": "code",
   "execution_count": 2,
   "metadata": {},
   "outputs": [],
   "source": [
    "# def add(a=5, b=4):\n",
    "#     print(f\"ADDING {a} + {b}\")\n",
    "#     c = a+b\n",
    "#     return c\n",
    "# #add(3,2)\n",
    "# z = c\n",
    "# print(z)"
   ]
  },
  {
   "cell_type": "code",
   "execution_count": 5,
   "metadata": {},
   "outputs": [
    {
     "name": "stdout",
     "output_type": "stream",
     "text": [
      "30\n"
     ]
    }
   ],
   "source": [
    "#add(10,20)\n",
    "print(add(10,20))\n",
    "def add(a,b):\n",
    "    print(f\"ADDING {a} + {b}\")\n",
    "    c = a+b\n",
    "    return c"
   ]
  },
  {
   "cell_type": "code",
   "execution_count": null,
   "metadata": {},
   "outputs": [],
   "source": []
  },
  {
   "cell_type": "code",
   "execution_count": null,
   "metadata": {},
   "outputs": [],
   "source": []
  }
 ],
 "metadata": {
  "kernelspec": {
   "display_name": "Python 3",
   "language": "python",
   "name": "python3"
  },
  "language_info": {
   "codemirror_mode": {
    "name": "ipython",
    "version": 3
   },
   "file_extension": ".py",
   "mimetype": "text/x-python",
   "name": "python",
   "nbconvert_exporter": "python",
   "pygments_lexer": "ipython3",
   "version": "3.7.2"
  }
 },
 "nbformat": 4,
 "nbformat_minor": 2
}
