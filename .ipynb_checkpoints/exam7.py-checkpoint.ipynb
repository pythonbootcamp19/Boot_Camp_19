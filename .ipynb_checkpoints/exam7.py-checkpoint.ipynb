{
 "cells": [
  {
   "cell_type": "markdown",
   "metadata": {},
   "source": [
    "# Counts the length of file"
   ]
  },
  {
   "cell_type": "markdown",
   "metadata": {},
   "source": [
    "input(), open(), len() are in built Python functions. All functions are in brackets (). txt.read() is a method because it is attached to an object. The difference between method and function is, method is attached to an object where a function is independent (not attached) of an object."
   ]
  },
  {
   "cell_type": "code",
   "execution_count": 1,
   "metadata": {},
   "outputs": [
    {
     "name": "stdout",
     "output_type": "stream",
     "text": [
      "Enter your file name? :exam7.txt\n",
      "Length of the filename is: , 25\n"
     ]
    }
   ],
   "source": [
    "file_name = input(\"Enter your file name? :\")\n",
    "txt = open(file_name)\n",
    "file_data = txt.read()\n",
    "length_file_data = len(file_data)\n",
    "print(f\"Length of the filename is: , {length_file_data}\")"
   ]
  },
  {
   "cell_type": "code",
   "execution_count": 4,
   "metadata": {},
   "outputs": [
    {
     "ename": "SyntaxError",
     "evalue": "EOL while scanning string literal (<ipython-input-4-ed6d2a7d51e7>, line 14)",
     "output_type": "error",
     "traceback": [
      "\u001b[0;36m  File \u001b[0;32m\"<ipython-input-4-ed6d2a7d51e7>\"\u001b[0;36m, line \u001b[0;32m14\u001b[0m\n\u001b[0;31m    print(f\"Enter line3: , {line3_input}\"\")\u001b[0m\n\u001b[0m                                           ^\u001b[0m\n\u001b[0;31mSyntaxError\u001b[0m\u001b[0;31m:\u001b[0m EOL while scanning string literal\n"
     ]
    }
   ],
   "source": [
    "file_name = input(\"Enter your file name? :\")\n",
    "txt = open(file_name, 'w')\n",
    "out_file.write(file_name)\n",
    "\n",
    "# file_data = txt.read()\n",
    "# length_file_data = len(file_data)\n",
    "# file_name_to = input(\"What is the file name you are copying to?: \")\n",
    "# out_file = open(file_name_to, 'w')\n",
    "# out_file.write(from_file)\n",
    "\n",
    "line1_input = input(\"Enter line 1: \")\n",
    "\n",
    "line2_input = input(\"Enter line 2: \")\n",
    "\n",
    "line3_input = input(\"Enter line 3: \")\n",
    "\n",
    "print(f\"Enter line 1: , {line1_input}\")\n",
    "print(f\"Enter line2: , {line2_input}\")\n",
    "print(f\"Enter line3: , {line3_input}\"\")\n",
    "\n",
    "file_data = txt.read()\n",
    "length_file_data = len(file_data)\n",
    "print(f\"Length of the filename is: , {length_file_data}\")"
   ]
  },
  {
   "cell_type": "code",
   "execution_count": null,
   "metadata": {},
   "outputs": [],
   "source": []
  },
  {
   "cell_type": "code",
   "execution_count": null,
   "metadata": {},
   "outputs": [],
   "source": []
  }
 ],
 "metadata": {
  "kernelspec": {
   "display_name": "Python 3",
   "language": "python",
   "name": "python3"
  },
  "language_info": {
   "codemirror_mode": {
    "name": "ipython",
    "version": 3
   },
   "file_extension": ".py",
   "mimetype": "text/x-python",
   "name": "python",
   "nbconvert_exporter": "python",
   "pygments_lexer": "ipython3",
   "version": "3.7.2"
  }
 },
 "nbformat": 4,
 "nbformat_minor": 2
}
