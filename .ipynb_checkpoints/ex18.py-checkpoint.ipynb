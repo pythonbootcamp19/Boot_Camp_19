{
 "cells": [
  {
   "cell_type": "markdown",
   "metadata": {},
   "source": [
    "Function is a way to store code.\n",
    "we use variables to store data and we use function to store code."
   ]
  },
  {
   "cell_type": "code",
   "execution_count": 2,
   "metadata": {},
   "outputs": [
    {
     "name": "stdout",
     "output_type": "stream",
     "text": [
      "arg1: Zed, arg2: Shaw\n",
      "arg1: Zed, arg2: Shaw\n",
      "arg1: First!\n",
      "I got nothin'.'\n"
     ]
    }
   ],
   "source": [
    "#Names, Variables, Code, Functions\n",
    "#Functions do three things:\n",
    "#1. They name pieces of code the way variables name strings and numbers.\n",
    "#2. They take arguments the way your scripts take argv.\n",
    "#3. Using 1 and 2, they let you make your own “mini-scripts” or “tiny commands.”\n",
    "#You can create a function by using the word def in Python. I’m going to have you make four different functions that work like #your scripts, and then I’ll show you how each one is related.\n",
    "# this one is like your scripts with argv\n",
    "#def = define\n",
    "# print_two = function name\n",
    "#args = arguments\n",
    "#*args = multiple arguments\n",
    "\n",
    "# #Create a function checklist for later exercises.\n",
    "# 1. Did you start your function definition with def?\n",
    "# 2. Does your function name have only characters and _ (underscore) characters?\n",
    "# 3. Did you put an open parenthesis right after the function name?\n",
    "# 4. Did you put your arguments after the parenthesis separated by commas?\n",
    "# 5. Did you make each argument unique (meaning no duplicated names)?\n",
    "# 6. Did you put a close parenthesis and a colon after the arguments?\n",
    "# 7. Did you indent all lines of code you want in the function four spaces? No more, no less.\n",
    "# 8. Did you “end” your function by going back to writing with no indent (dedenting, we call it)?\n",
    "\n",
    "# When you run (“use” or “call”) a function, check these things:\n",
    "# 1. Did you call/use/run this function by typing its name?\n",
    "# 2. Did you put the ( character after the name to run it?\n",
    "# 3. Did you put the values you want into the parentheses separated by commas?\n",
    "# 4. Did you end the function call with a ) character?\n",
    "# Use these two checklists on the remaining lessons until you do not need them anymore.\n",
    "# Finally, repeat this a few times to yourself: To “run,” “call,” or “use” a function each means the same thing.\n",
    "\n",
    "def print_two(*args):\n",
    "    arg1, arg2 = args\n",
    "    print(f\"arg1: {arg1}, arg2: {arg2}\")\n",
    "        \n",
    "def print_two_again(arg1, arg2):\n",
    "    print(f\"arg1: {arg1}, arg2: {arg2}\")\n",
    "    \n",
    "    #this just takes one argument\n",
    "def print_one(arg1):\n",
    "    print(f\"arg1: {arg1}\")\n",
    "    \n",
    "    #this one takes no arguments\n",
    "def print_none():\n",
    "    print(\"I got nothin'.'\")\n",
    "    \n",
    "print_two(\"Zed\",\"Shaw\")\n",
    "print_two_again(\"Zed\", \"Shaw\")\n",
    "print_one(\"First!\")\n",
    "print_none()"
   ]
  },
  {
   "cell_type": "code",
   "execution_count": null,
   "metadata": {},
   "outputs": [],
   "source": []
  }
 ],
 "metadata": {
  "kernelspec": {
   "display_name": "Python 3",
   "language": "python",
   "name": "python3"
  },
  "language_info": {
   "codemirror_mode": {
    "name": "ipython",
    "version": 3
   },
   "file_extension": ".py",
   "mimetype": "text/x-python",
   "name": "python",
   "nbconvert_exporter": "python",
   "pygments_lexer": "ipython3",
   "version": "3.7.2"
  }
 },
 "nbformat": 4,
 "nbformat_minor": 2
}
