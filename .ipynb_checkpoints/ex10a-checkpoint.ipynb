{
 "cells": [
  {
   "cell_type": "code",
   "execution_count": 2,
   "metadata": {},
   "outputs": [
    {
     "name": "stdout",
     "output_type": "stream",
     "text": [
      "\n",
      "Today I ate:\n",
      "\t# Sandwich\n",
      "\t# Biscuits\n",
      "\t# Mushrooms\n",
      "\t# Banana\n",
      "\n",
      "\n",
      "My plans for tonight are:\n",
      "\t# Walk\n",
      "\t# eat dinner\n",
      "\t# Sleep\n",
      "\n"
     ]
    }
   ],
   "source": [
    "ate_today = \"\"\"\n",
    "Today I ate:\n",
    "\\t# Sandwich\n",
    "\\t# Biscuits\n",
    "\\t# Mushrooms\n",
    "\\t# Banana\n",
    "\"\"\"\n",
    "\n",
    "plans_tonight = \"\"\"\n",
    "My plans for tonight are:\n",
    "\\t# Walk\n",
    "\\t# eat dinner\n",
    "\\t# Sleep\n",
    "\"\"\"\n",
    "print (ate_today)\n",
    "print (plans_tonight)\n"
   ]
  },
  {
   "cell_type": "code",
   "execution_count": null,
   "metadata": {},
   "outputs": [],
   "source": []
  }
 ],
 "metadata": {
  "kernelspec": {
   "display_name": "Python 3",
   "language": "python",
   "name": "python3"
  },
  "language_info": {
   "codemirror_mode": {
    "name": "ipython",
    "version": 3
   },
   "file_extension": ".py",
   "mimetype": "text/x-python",
   "name": "python",
   "nbconvert_exporter": "python",
   "pygments_lexer": "ipython3",
   "version": "3.7.2"
  }
 },
 "nbformat": 4,
 "nbformat_minor": 2
}
