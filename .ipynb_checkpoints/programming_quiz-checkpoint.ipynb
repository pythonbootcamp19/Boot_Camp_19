{
 "cells": [
  {
   "cell_type": "code",
   "execution_count": 3,
   "metadata": {
    "scrolled": true
   },
   "outputs": [
    {
     "ename": "TypeError",
     "evalue": "'int' object is not subscriptable",
     "output_type": "error",
     "traceback": [
      "\u001b[0;31m---------------------------------------------------------------------------\u001b[0m",
      "\u001b[0;31mTypeError\u001b[0m                                 Traceback (most recent call last)",
      "\u001b[0;32m<ipython-input-3-c717145a56f3>\u001b[0m in \u001b[0;36m<module>\u001b[0;34m\u001b[0m\n\u001b[1;32m     30\u001b[0m \u001b[0;34m\u001b[0m\u001b[0m\n\u001b[1;32m     31\u001b[0m \u001b[0;32mfor\u001b[0m \u001b[0mquestion\u001b[0m\u001b[0;34m,\u001b[0m \u001b[0mquestion_no\u001b[0m \u001b[0;32min\u001b[0m \u001b[0mquiz_questions\u001b[0m\u001b[0;34m.\u001b[0m\u001b[0mitems\u001b[0m\u001b[0;34m(\u001b[0m\u001b[0;34m)\u001b[0m\u001b[0;34m:\u001b[0m\u001b[0;34m\u001b[0m\u001b[0;34m\u001b[0m\u001b[0m\n\u001b[0;32m---> 32\u001b[0;31m     \u001b[0manswer\u001b[0m \u001b[0;34m=\u001b[0m \u001b[0mask_question\u001b[0m\u001b[0;34m(\u001b[0m\u001b[0mquestion\u001b[0m\u001b[0;34m,\u001b[0m \u001b[0mquestion\u001b[0m\u001b[0;34m)\u001b[0m\u001b[0;34m\u001b[0m\u001b[0;34m\u001b[0m\u001b[0m\n\u001b[0m\u001b[1;32m     33\u001b[0m \u001b[0;34m\u001b[0m\u001b[0m\n\u001b[1;32m     34\u001b[0m \u001b[0;34m\u001b[0m\u001b[0m\n",
      "\u001b[0;32m<ipython-input-3-c717145a56f3>\u001b[0m in \u001b[0;36mask_question\u001b[0;34m(question, question_no)\u001b[0m\n\u001b[1;32m     18\u001b[0m \u001b[0;34m\u001b[0m\u001b[0m\n\u001b[1;32m     19\u001b[0m \u001b[0;32mdef\u001b[0m \u001b[0mask_question\u001b[0m\u001b[0;34m(\u001b[0m\u001b[0mquestion\u001b[0m\u001b[0;34m,\u001b[0m \u001b[0mquestion_no\u001b[0m\u001b[0;34m)\u001b[0m\u001b[0;34m:\u001b[0m\u001b[0;34m\u001b[0m\u001b[0;34m\u001b[0m\u001b[0m\n\u001b[0;32m---> 20\u001b[0;31m     \u001b[0mprint\u001b[0m\u001b[0;34m(\u001b[0m\u001b[0;34mf\"Q{question_no} : {question['question']}\"\u001b[0m\u001b[0;34m)\u001b[0m\u001b[0;34m\u001b[0m\u001b[0;34m\u001b[0m\u001b[0m\n\u001b[0m\u001b[1;32m     21\u001b[0m     \u001b[0;31m#print(f\"Q{question} : {question_no['question_no']}\")\u001b[0m\u001b[0;34m\u001b[0m\u001b[0;34m\u001b[0m\u001b[0;34m\u001b[0m\u001b[0m\n\u001b[1;32m     22\u001b[0m \u001b[0;34m\u001b[0m\u001b[0m\n",
      "\u001b[0;31mTypeError\u001b[0m: 'int' object is not subscriptable"
     ]
    }
   ],
   "source": [
    "quiz_questions = {\n",
    "    1 : {\"question\":\"What will 'unemptylist = []' do?\",\n",
    "        \"a\": \"Will create an empty dictionary\",\n",
    "        \"b\": \"Will do nothing\",\n",
    "        \"c\": \"Will create an empty list\",\n",
    "        \"correct\": \"c\"},\n",
    "    2 : {\"question\":\"What will be the function to calculate the length of 'list=[1, hello,2,world]'\",\n",
    "         \"a\": \"calculate(list)\",\n",
    "         \"b\": \"len(list)\",\n",
    "         \"c\": \"range(list)\",\n",
    "         \"correct\": \"b\"},\n",
    "    3: {\"question\":\"My name is John. print(len(a)). What will be the output?\",\n",
    "        \"a\": 15,\n",
    "        \"b\": 1,\n",
    "        \"c\": 0,\n",
    "        \"correct\":\"a\"}\n",
    "}\n",
    "\n",
    "def ask_question(question, question_no):\n",
    "    print(f\"Q{question_no} : {question['question']}\")\n",
    "    #print(f\"Q{question} : {question_no['question_no']}\")\n",
    "          \n",
    "    print(\"A-\", question[\"a\"])\n",
    "    print(\"B-\", question[\"b\"])\n",
    "    print(\"C-\", question[\"c\"])\n",
    "    answer = input(\"Enter correct option: \")\n",
    "    answer = answer.lower()\n",
    "    print(answer)\n",
    "    print(\"\\n\")\n",
    "\n",
    "for question, question_no in quiz_questions.items():\n",
    "    answer = ask_question(question_no, question)\n",
    "\n",
    "          \n",
    "# def answer(question, answer):\n",
    "    \n",
    "#           if quiz_answer == question\"correct\":\n",
    "#               print(\"Right\")\n",
    "#           else:\n",
    "#               print(\"Wrong\")\n",
    "    \n"
   ]
  },
  {
   "cell_type": "code",
   "execution_count": null,
   "metadata": {},
   "outputs": [],
   "source": []
  },
  {
   "cell_type": "code",
   "execution_count": null,
   "metadata": {},
   "outputs": [],
   "source": []
  }
 ],
 "metadata": {
  "kernelspec": {
   "display_name": "Python 3",
   "language": "python",
   "name": "python3"
  },
  "language_info": {
   "codemirror_mode": {
    "name": "ipython",
    "version": 3
   },
   "file_extension": ".py",
   "mimetype": "text/x-python",
   "name": "python",
   "nbconvert_exporter": "python",
   "pygments_lexer": "ipython3",
   "version": "3.7.2"
  }
 },
 "nbformat": 4,
 "nbformat_minor": 2
}
