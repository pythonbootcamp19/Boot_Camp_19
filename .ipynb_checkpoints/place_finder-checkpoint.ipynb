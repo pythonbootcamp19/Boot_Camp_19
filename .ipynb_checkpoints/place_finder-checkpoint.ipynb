{
 "cells": [
  {
   "cell_type": "code",
   "execution_count": 48,
   "metadata": {},
   "outputs": [
    {
     "name": "stdout",
     "output_type": "stream",
     "text": [
      "Do you care about the 'cost, rating and rent?:' yes\n"
     ]
    }
   ],
   "source": [
    "places = {}\n",
    "\n",
    "places = {'id1':{'p1': 'Rich Homes','city':'Richmond Circle', 'pin':560025, 'distance':5, 'rating':5, 'rent':10000},\n",
    "          'id2':{'p2': 'Galaxy Apt','city': 'Electronic City', 'pin':560100, 'distance':10, 'rating':4, 'rent':9000},\n",
    "          'id3':{'p3': 'Navjeevan Soc.','city': 'Bellandur', 'pin':560103, 'distance':15, 'rating':3, 'rent':8000},\n",
    "          'id4':{'p4': 'Kala Nagar','city': 'Electronic City', 'pin':560100, 'distance':3, 'rating':2, 'rent':5000},\n",
    "          'id5':{'p5': 'UB apt.','city': 'M.G.Road', 'pin':560001, 'distance':1, 'rating':1, 'rent':1000}\n",
    "}\n",
    "\n",
    "def distance():\n",
    "    for distance_keys, distance_values in places.items():\n",
    "        print(distance_values.get('distance'))\n",
    "\n",
    "#distance()\n",
    "\n",
    "def distance():\n",
    "    for distance_keys, distance_values in places.items():\n",
    "        print(distance_values.get('distance'))\n",
    "        \n",
    "def rating():\n",
    "    for ratings_keys, ratings_values in places.items():\n",
    "        print(ratings_values.get('rating'))\n",
    "\n",
    "def rent():\n",
    "    for rents_keys, rents_values in places.items():\n",
    "        print(rents_values.get('rent'))\n",
    "\n",
    "ask_user = input(\"Do you care about the 'cost, rating and rent?:' \")\n",
    "\n",
    "def filter_function(): \n",
    "    if ask_user == 'yes':\n",
    "        user_input = input('Distance, Ratings or Rent?: ')\n",
    "        if user_input == \"distance\":\n",
    "            distance = input('Enter the distance:')\n",
    "        elif user_input == \"rating\":\n",
    "            ratings = input('Enter the ratings:')\n",
    "        else:\n",
    "            rent = input('Enter the rent: ')\n",
    "\n",
    "def match_result():\n",
    "    filter_function()\n",
    "#    distance()\n",
    "    if \"distance\" == 1:\n",
    "        print(\"yes\")\n",
    "    \n",
    "# a = match_result()\n",
    "# print(a)"
   ]
  },
  {
   "cell_type": "code",
   "execution_count": null,
   "metadata": {},
   "outputs": [],
   "source": []
  },
  {
   "cell_type": "code",
   "execution_count": null,
   "metadata": {},
   "outputs": [],
   "source": []
  }
 ],
 "metadata": {
  "kernelspec": {
   "display_name": "Python 3",
   "language": "python",
   "name": "python3"
  },
  "language_info": {
   "codemirror_mode": {
    "name": "ipython",
    "version": 3
   },
   "file_extension": ".py",
   "mimetype": "text/x-python",
   "name": "python",
   "nbconvert_exporter": "python",
   "pygments_lexer": "ipython3",
   "version": "3.7.2"
  }
 },
 "nbformat": 4,
 "nbformat_minor": 2
}
