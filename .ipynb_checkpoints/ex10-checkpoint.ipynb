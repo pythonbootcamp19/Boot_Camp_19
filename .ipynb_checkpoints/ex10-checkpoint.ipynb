{
 "cells": [
  {
   "cell_type": "markdown",
   "metadata": {},
   "source": [
    "# What Was That?"
   ]
  },
  {
   "cell_type": "markdown",
   "metadata": {},
   "source": [
    "\\t is tab, \\n whatever is after \\n will be printed in the next line, \"\"\" \"\"\" multiline, \\t* is tab and bulletpoints, "
   ]
  },
  {
   "cell_type": "markdown",
   "metadata": {},
   "source": [
    "Escape Sequences\n",
    "\n",
    "This is all of the escape sequences Python supports. You may not use many of these, but memorize their format and what they do anyway. Try them out in some strings to see if you can make them work.\n",
    "Escape What it does.\n",
    "\n",
    "\\\\ Backslash (\\)\n",
    "\\'Single-quote (')\n",
    "\\\"Double-quote (\")\n",
    "\\a ASCII bell (BEL)\n",
    "\\b ASCII backspace (BS)\n",
    "\\f ASCII formfeed (FF)\n",
    "\\n ASCII linefeed (LF)\n",
    "\\N{name} Character named name in the Unicode database (Unicode only)\n",
    "\\r Carriage return (CR)\n",
    "\\t Horizontal tab (TAB)\n",
    "\\uxxxx Character with 16-bit hex value xxxx\n",
    "\\Uxxxxxxxx Character with 32-bit hex value xxxxxxxx\n",
    "\\v ASCII vertical tab (VT)\n",
    "\\000 Character with octal value 000\n",
    "\\xhh Character with hex value hh"
   ]
  },
  {
   "cell_type": "code",
   "execution_count": 7,
   "metadata": {},
   "outputs": [
    {
     "name": "stdout",
     "output_type": "stream",
     "text": [
      "\tI'm tabbed in.\n",
      "I'm split\n",
      "on a line.\n",
      "I'm \\ a \\ cat.\n",
      "\n",
      "\n",
      "I'll do a list:\n",
      "\t* Cat food\n",
      "\t* Fishies\n",
      "\t* Catnip\n",
      "\t* Grass\n",
      "\n",
      "\n"
     ]
    }
   ],
   "source": [
    "tabby_cat = \"\\tI'm tabbed in.\"\n",
    "persian_cat = \"I'm split\\non a line.\"\n",
    "backslash_cat = \"I'm \\\\ a \\\\ cat.\"\n",
    "\n",
    "fat_cat =  \"\"\"\n",
    "\n",
    "I'll do a list:\n",
    "\\t* Cat food\n",
    "\\t* Fishies\n",
    "\\t* Catnip\\n\\t* Grass\n",
    "\n",
    "\"\"\"\n",
    "\n",
    "print(tabby_cat)\n",
    "print(persian_cat)\n",
    "print(backslash_cat)\n",
    "print(fat_cat)"
   ]
  },
  {
   "cell_type": "code",
   "execution_count": null,
   "metadata": {},
   "outputs": [],
   "source": []
  }
 ],
 "metadata": {
  "kernelspec": {
   "display_name": "Python 3",
   "language": "python",
   "name": "python3"
  },
  "language_info": {
   "codemirror_mode": {
    "name": "ipython",
    "version": 3
   },
   "file_extension": ".py",
   "mimetype": "text/x-python",
   "name": "python",
   "nbconvert_exporter": "python",
   "pygments_lexer": "ipython3",
   "version": "3.7.2"
  }
 },
 "nbformat": 4,
 "nbformat_minor": 2
}
