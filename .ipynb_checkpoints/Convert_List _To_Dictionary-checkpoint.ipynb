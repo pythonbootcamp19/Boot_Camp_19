{
 "cells": [
  {
   "cell_type": "code",
   "execution_count": 54,
   "metadata": {},
   "outputs": [
    {
     "name": "stdout",
     "output_type": "stream",
     "text": [
      "{1: 'a', 2: 'b', 3: 'c', 4: 'd', 5: 'e', 6: 'f'}\n"
     ]
    }
   ],
   "source": [
    "#output - {1:a,2:b,3:c,4:d,5:e,6:f}\n",
    "\n",
    "a = [1,2,3,4,5,6]\n",
    "b = [\"a\",\"b\",\"c\",\"d\",\"e\",\"f\"]\n",
    "key_list = a\n",
    "value_list = b\n",
    "\n",
    "output_dictionary = {}\n",
    "\n",
    "for key, value in zip(key_list,value_list):\n",
    "    output_dictionary[key] = value\n",
    "    \n",
    "print(output_dictionary)\n",
    "\n",
    "# print(len(output_dictionary))    \n",
    "#---\n",
    "# output_dictionary = (\"%d:%s\" % (key,value))\n",
    "# print(output_dictionary)\n",
    "#----\n"
   ]
  },
  {
   "cell_type": "code",
   "execution_count": null,
   "metadata": {},
   "outputs": [],
   "source": []
  }
 ],
 "metadata": {
  "kernelspec": {
   "display_name": "Python 3",
   "language": "python",
   "name": "python3"
  },
  "language_info": {
   "codemirror_mode": {
    "name": "ipython",
    "version": 3
   },
   "file_extension": ".py",
   "mimetype": "text/x-python",
   "name": "python",
   "nbconvert_exporter": "python",
   "pygments_lexer": "ipython3",
   "version": "3.7.2"
  }
 },
 "nbformat": 4,
 "nbformat_minor": 2
}
