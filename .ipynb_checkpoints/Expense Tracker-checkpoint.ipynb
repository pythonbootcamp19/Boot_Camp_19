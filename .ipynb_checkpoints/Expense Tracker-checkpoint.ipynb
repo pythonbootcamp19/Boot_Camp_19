{
 "cells": [
  {
   "cell_type": "code",
   "execution_count": 3,
   "metadata": {},
   "outputs": [
    {
     "name": "stdout",
     "output_type": "stream",
     "text": [
      "Monthly Expense Tracker\n",
      "\n",
      "\n",
      "Total Available Amount Per Month?:                     30000\n",
      "\n",
      "\n",
      "Daily travel expense?:                 100\n",
      "Daily food expense?:                   300\n",
      "Dailly accommodation?:                 100\n",
      "Daily MISC. expense?:                  50\n",
      "............................................................\n",
      "Your total monthly expense is:    Rs. 16500 | Money available: Rs. 13500\n"
     ]
    }
   ],
   "source": [
    "print(\"Monthly Expense Tracker\")\n",
    "print('\\n')\n",
    "print(\"Total Available Amount Per Month?:                    \", end=' ')\n",
    "total_budget = int(input())\n",
    "print('\\n')\n",
    "print(\"Daily travel expense?:\", ' ' *15, end=' ')\n",
    "daily_travel_expense = int(input())\n",
    "print(\"Daily food expense?:\", ' ' *17, end=' ')\n",
    "daily_food_expense = int(input())\n",
    "print(\"Dailly accommodation?:\", ' '*15, end=' ')\n",
    "daily_accommodation_expense = int(input())\n",
    "print(\"Daily MISC. expense?:\", ' '*16, end=' ')\n",
    "daily_misc_expense = int(input())\n",
    "\n",
    "total_daily_expense = daily_travel_expense + daily_food_expense + daily_accommodation_expense + daily_misc_expense\n",
    "total_monthly_expense = total_daily_expense * 30\n",
    "net_total_monthly_expense = total_budget - total_monthly_expense\n",
    "print('.'*60)\n",
    "print(\"Your total monthly expense is:\", ' '*2, 'Rs.', total_monthly_expense, \"|\", \"Money available:\", 'Rs.', net_total_monthly_expense)"
   ]
  },
  {
   "cell_type": "code",
   "execution_count": null,
   "metadata": {},
   "outputs": [],
   "source": []
  },
  {
   "cell_type": "code",
   "execution_count": null,
   "metadata": {},
   "outputs": [],
   "source": []
  }
 ],
 "metadata": {
  "kernelspec": {
   "display_name": "Python 3",
   "language": "python",
   "name": "python3"
  },
  "language_info": {
   "codemirror_mode": {
    "name": "ipython",
    "version": 3
   },
   "file_extension": ".py",
   "mimetype": "text/x-python",
   "name": "python",
   "nbconvert_exporter": "python",
   "pygments_lexer": "ipython3",
   "version": "3.7.2"
  }
 },
 "nbformat": 4,
 "nbformat_minor": 2
}
