{
 "cells": [
  {
   "cell_type": "code",
   "execution_count": 1,
   "metadata": {},
   "outputs": [
    {
     "name": "stdout",
     "output_type": "stream",
     "text": [
      "Distance Calculator\n",
      "\n",
      "\n",
      "How many floors are there in a building?:\n",
      "6\n",
      "At what floor are you?: 0\n",
      "Which floor are you going to?: 6\n",
      "At which floor the lift is?: 3\n",
      "The total number of floors traveled are:  9\n"
     ]
    }
   ],
   "source": [
    "print (\"Distance Calculator\")\n",
    "print('\\n')\n",
    "\n",
    "print(\"How many floors are there in a building?:\", end=' ')\n",
    "total_floors = int(input())\n",
    "\n",
    "print(\"At what floor are you?:\", end=' ')\n",
    "starting_floor = int(input())\n",
    "\n",
    "print(\"Which floor are you going to?:\", end=' ')\n",
    "end_floor = int(input())\n",
    "\n",
    "print(\"At which floor the lift is?:\", end=' ')\n",
    "which_floor_lift_is = int(input())\n",
    "\n",
    "\n",
    "total_floors_travelled = which_floor_lift_is + starting_floor + end_floor\n",
    "\n",
    "print(\"The total number of floors traveled are: \", total_floors_travelled)\n",
    "\n",
    "\n",
    "\n"
   ]
  },
  {
   "cell_type": "code",
   "execution_count": null,
   "metadata": {},
   "outputs": [],
   "source": []
  },
  {
   "cell_type": "code",
   "execution_count": null,
   "metadata": {},
   "outputs": [],
   "source": []
  }
 ],
 "metadata": {
  "kernelspec": {
   "display_name": "Python 3",
   "language": "python",
   "name": "python3"
  },
  "language_info": {
   "codemirror_mode": {
    "name": "ipython",
    "version": 3
   },
   "file_extension": ".py",
   "mimetype": "text/x-python",
   "name": "python",
   "nbconvert_exporter": "python",
   "pygments_lexer": "ipython3",
   "version": "3.7.2"
  }
 },
 "nbformat": 4,
 "nbformat_minor": 2
}
