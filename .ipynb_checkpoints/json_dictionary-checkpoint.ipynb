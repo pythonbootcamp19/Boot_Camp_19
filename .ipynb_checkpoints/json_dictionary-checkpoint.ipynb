{
 "cells": [
  {
   "cell_type": "code",
   "execution_count": 4,
   "metadata": {
    "scrolled": true
   },
   "outputs": [
    {
     "name": "stdout",
     "output_type": "stream",
     "text": [
      "Enter the number of people: 3\n",
      "Enter name: Vik\n",
      "Enter age: 21\n",
      "Enter country: India\n",
      "Enter name: John\n",
      "Enter age: 21\n",
      "Enter country: UK\n",
      "Enter name: Sri\n",
      "Enter age: 30\n",
      "Enter country: India\n",
      "Enter filter key: age\n",
      "Enter filter value: country\n",
      "Name \t| Age \t| Country\n",
      "------------------------------\n"
     ]
    }
   ],
   "source": [
    "def take_user_details():\n",
    "    \"\"\"\n",
    "    This function asks 4 questions to the user\n",
    "    1. number of people\n",
    "    based on the number of people it'll ask for user details\n",
    "    n number of times where n is number of people.\n",
    "    \n",
    "    2. user details consist of name, age and country.\n",
    "    \n",
    "    after taking user details it stores them in a dict and\n",
    "    keep putting the dict into a list.\n",
    "    \"\"\"\n",
    "    no_of_people = int(input(\"Enter the number of people: \"))\n",
    "\n",
    "\n",
    "    user_list = []\n",
    "\n",
    "    for user in range(no_of_people):\n",
    "        user_details = {}\n",
    "        user_details[\"name\"] = input(\"Enter name: \")\n",
    "        user_details[\"age\"] = int(input(\"Enter age: \"))\n",
    "        user_details[\"country\"] = input(\"Enter country: \")\n",
    "\n",
    "        user_list.append(user_details)\n",
    "\n",
    "    return user_list\n",
    "\n",
    "\n",
    "def filter_users(filter_key, filter_value, all_users):\n",
    "    \"\"\"\n",
    "    parameters : filter_key -> Str, \n",
    "                 filter_value -> Str, \n",
    "                 all_users -> List[Dict]\n",
    "                 \n",
    "    filter_key = \"country\"\n",
    "    filter_value = \"US\"\n",
    "    \"\"\"\n",
    "\n",
    "\n",
    "    filter_result = []\n",
    "    for user in all_users:\n",
    "        if user[filter_key] == filter_value:\n",
    "            filter_result.append(user)\n",
    "\n",
    "    return filter_result\n",
    "\n",
    "def show_output(search_result):\n",
    "    print(\"Name \\t| Age \\t| Country\")\n",
    "    print(\"-\" * 30)\n",
    "\n",
    "    for sample_user in search_result:\n",
    "        print(f\"{sample_user['name']} \\t| {sample_user['age']} \\t| {sample_user['country']}\")\n",
    "\n",
    "\n",
    "all_users = take_user_details()\n",
    "\n",
    "filter_key = input(\"Enter filter key: \")\n",
    "filter_value = input(\"Enter filter value: \")\n",
    "\n",
    "search_result = filter_users(filter_key, filter_value, all_users)\n",
    "show_output(search_result)"
   ]
  },
  {
   "cell_type": "code",
   "execution_count": 6,
   "metadata": {},
   "outputs": [
    {
     "name": "stdout",
     "output_type": "stream",
     "text": [
      "Enter filter key: age\n",
      "Enter filter value: country\n",
      "Name \t| Age \t| Country\n",
      "------------------------------\n"
     ]
    }
   ],
   "source": [
    "filter_key = input(\"Enter filter key: \")\n",
    "filter_value = input(\"Enter filter value: \")\n",
    "\n",
    "search_result = filter_users(filter_key, filter_value, all_users)\n",
    "show_output(search_result)\n"
   ]
  },
  {
   "cell_type": "code",
   "execution_count": 18,
   "metadata": {},
   "outputs": [],
   "source": [
    "import json\n",
    "import os\n",
    "\n",
    "def store_data_in_file(data_list):\n",
    "    filename = \"aug_14th_data.json\"\n",
    "    \n",
    "    if os.path.exists(filename):\n",
    "        print(\"file already there\")\n",
    "        json_data = open(filename, \"r\").read()\n",
    "        \n",
    "        data_list_from_file = json.loads(json_data)\n",
    "        new_data_list = data_list_from_file + data_list\n",
    "        \n",
    "    else:\n",
    "        new_data_list = data_list\n",
    "\n",
    "    data_list_json = json.dumps(new_data_list)\n",
    "\n",
    "    json_file = open(filename, \"w\")\n",
    "\n",
    "    json_file.write(data_list_json)\n",
    "    json_file.close()\n",
    "    \n",
    "my_list = [\"namaste\", \"ni hao\", \"koni chiva\"]\n",
    "store_data_in_file(my_list)"
   ]
  },
  {
   "cell_type": "code",
   "execution_count": 25,
   "metadata": {},
   "outputs": [
    {
     "name": "stdout",
     "output_type": "stream",
     "text": [
      "['namaste', 'ni hao', 'koni chiva']\n",
      "<class 'list'>\n"
     ]
    }
   ],
   "source": [
    "import json\n",
    "\n",
    "file_data = open(\"aug_14th_data.json\").read()\n",
    "\n",
    "user_data = json.loads(file_data)\n",
    "print(user_data)\n",
    "print(type(user_data))"
   ]
  },
  {
   "cell_type": "code",
   "execution_count": 20,
   "metadata": {},
   "outputs": [
    {
     "data": {
      "text/plain": [
       "True"
      ]
     },
     "execution_count": 20,
     "metadata": {},
     "output_type": "execute_result"
    }
   ],
   "source": [
    "import os\n",
    "\n",
    "filename = \"aug_14th_data.json\"\n",
    "os.path.exists(filename)"
   ]
  },
  {
   "cell_type": "code",
   "execution_count": 21,
   "metadata": {},
   "outputs": [
    {
     "name": "stdout",
     "output_type": "stream",
     "text": [
      "not allowed\n",
      "thank you for coming.\n"
     ]
    }
   ],
   "source": [
    "age = 5\n",
    "\n",
    "if age < 18:\n",
    "    print(\"not allowed\")\n",
    "elif age < 50:\n",
    "    print(\"allowed\")\n",
    "elif age < 80:\n",
    "    print(\"be careful\")\n",
    "else:\n",
    "    print(\"you are lucky\")\n",
    "\n",
    "print(\"thank you for coming.\")"
   ]
  },
  {
   "cell_type": "code",
   "execution_count": 26,
   "metadata": {},
   "outputs": [
    {
     "name": "stdout",
     "output_type": "stream",
     "text": [
      "[1, 2, 3, 4, 3, 2, 1]\n",
      "[1, 2, 3, 4]\n",
      "<class 'list'>\n"
     ]
    }
   ],
   "source": [
    "num = [1,2,3,4,3,2,1]\n",
    "\n",
    "print(num)\n",
    "print(list(set(num)))\n",
    "print(type(num))"
   ]
  },
  {
   "cell_type": "code",
   "execution_count": 31,
   "metadata": {},
   "outputs": [
    {
     "ename": "NameError",
     "evalue": "name 'one' is not defined",
     "output_type": "error",
     "traceback": [
      "\u001b[0;31m---------------------------------------------------------------------------\u001b[0m",
      "\u001b[0;31mNameError\u001b[0m                                 Traceback (most recent call last)",
      "\u001b[0;32m<ipython-input-31-ab27283e9ddd>\u001b[0m in \u001b[0;36m<module>\u001b[0;34m\u001b[0m\n\u001b[1;32m      2\u001b[0m \u001b[0mtest_list_one\u001b[0m \u001b[0;34m=\u001b[0m \u001b[0;34m{\u001b[0m\u001b[0;34m\"name\"\u001b[0m\u001b[0;34m:\u001b[0m\u001b[0;34m\"Vik\"\u001b[0m\u001b[0;34m,\u001b[0m\u001b[0;34m\"age\"\u001b[0m\u001b[0;34m:\u001b[0m\u001b[0;36m25\u001b[0m\u001b[0;34m}\u001b[0m\u001b[0;34m\u001b[0m\u001b[0;34m\u001b[0m\u001b[0m\n\u001b[1;32m      3\u001b[0m \u001b[0mtest_list_two\u001b[0m \u001b[0;34m=\u001b[0m \u001b[0;36m1\u001b[0m\u001b[0;34m\u001b[0m\u001b[0;34m\u001b[0m\u001b[0m\n\u001b[0;32m----> 4\u001b[0;31m \u001b[0mtest_list_three\u001b[0m \u001b[0;34m=\u001b[0m \u001b[0mone\u001b[0m\u001b[0;34m\u001b[0m\u001b[0;34m\u001b[0m\u001b[0m\n\u001b[0m\u001b[1;32m      5\u001b[0m \u001b[0mprint\u001b[0m\u001b[0;34m(\u001b[0m\u001b[0mtype\u001b[0m\u001b[0;34m(\u001b[0m\u001b[0mtest_list\u001b[0m\u001b[0;34m)\u001b[0m\u001b[0;34m)\u001b[0m\u001b[0;34m\u001b[0m\u001b[0;34m\u001b[0m\u001b[0m\n\u001b[1;32m      6\u001b[0m \u001b[0mprint\u001b[0m\u001b[0;34m(\u001b[0m\u001b[0mtype\u001b[0m\u001b[0;34m(\u001b[0m\u001b[0mtest_list_one\u001b[0m\u001b[0;34m)\u001b[0m\u001b[0;34m)\u001b[0m\u001b[0;34m\u001b[0m\u001b[0;34m\u001b[0m\u001b[0m\n",
      "\u001b[0;31mNameError\u001b[0m: name 'one' is not defined"
     ]
    }
   ],
   "source": [
    "test_list = [{\"name\":\"hasan\",\"age\":25}]\n",
    "test_list_one = {\"name\":\"Vik\",\"age\":25}\n",
    "test_list_two = 1\n",
    "test_list_three = \"one\"\n",
    "print(type(test_list))\n",
    "print(type(test_list_one))\n",
    "print(type(test_list_two))\n",
    "print(type(test_list_three))\n",
    "\n",
    "#print(test_list)\n",
    "\n",
    "#set(test_list)"
   ]
  },
  {
   "cell_type": "code",
   "execution_count": null,
   "metadata": {},
   "outputs": [],
   "source": []
  }
 ],
 "metadata": {
  "kernelspec": {
   "display_name": "Python 3",
   "language": "python",
   "name": "python3"
  }
 },
 "nbformat": 4,
 "nbformat_minor": 2
}
