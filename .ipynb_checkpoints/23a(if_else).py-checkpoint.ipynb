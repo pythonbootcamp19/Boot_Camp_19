{
 "cells": [
  {
   "cell_type": "code",
   "execution_count": 3,
   "metadata": {},
   "outputs": [
    {
     "name": "stdout",
     "output_type": "stream",
     "text": [
      "Enter your age: 21\n",
      "Welcome you are allowed\n"
     ]
    }
   ],
   "source": [
    "age = int(input(\"Enter your age: \"))\n",
    "if age >= 18:\n",
    "    print(\"Welcome you are allowed\")\n",
    "else:\n",
    "    print(\"Minor not allowed\")\n",
    "    "
   ]
  },
  {
   "cell_type": "code",
   "execution_count": 5,
   "metadata": {},
   "outputs": [
    {
     "name": "stdout",
     "output_type": "stream",
     "text": [
      "Enter your marks: 81\n",
      "Grade is A\n"
     ]
    }
   ],
   "source": [
    "marks = int(input(\"Enter your marks: \"))\n",
    "if marks >= 80:\n",
    "    print(\"Grade is A\")\n",
    "else:\n",
    "    print(\"Grade is B\")\n"
   ]
  },
  {
   "cell_type": "code",
   "execution_count": 9,
   "metadata": {},
   "outputs": [
    {
     "name": "stdout",
     "output_type": "stream",
     "text": [
      "Enter your age: 66\n",
      "Senior Citizen!\n"
     ]
    }
   ],
   "source": [
    "age = int(input(\"Enter your age: \"))\n",
    "if age < 18:\n",
    "    print(\"Welcome you are allowed\")\n",
    "elif age > 65:\n",
    "    print(\"Senior Citizen!\")\n",
    "else:\n",
    "    print(\"Welcome you are allowed\")\n"
   ]
  },
  {
   "cell_type": "code",
   "execution_count": 11,
   "metadata": {},
   "outputs": [
    {
     "name": "stdout",
     "output_type": "stream",
     "text": [
      "Enter your marks: 60\n",
      "Grade c\n"
     ]
    }
   ],
   "source": [
    "marks = int(input(\"Enter your marks: \"))\n",
    "if marks >= 80:\n",
    "    print(\"Grade A\")\n",
    "elif age >= 70:\n",
    "    print(\"Grade B\")\n",
    "else:\n",
    "    print(\"Grade c\")\n"
   ]
  },
  {
   "cell_type": "code",
   "execution_count": 12,
   "metadata": {},
   "outputs": [
    {
     "name": "stdout",
     "output_type": "stream",
     "text": [
      "27\n",
      "    hello how are you?     \n",
      "18\n",
      "hello how are you?\n"
     ]
    }
   ],
   "source": [
    "#strip function removes the extra spaces in the before and after(front and back) of the string/sentence/word(s).\n",
    "\n",
    "line = \"    hello how are you?     \"\n",
    "print(len(line))\n",
    "print(line)\n",
    "print(len(line.strip()))\n",
    "print(line.strip())\n"
   ]
  },
  {
   "cell_type": "code",
   "execution_count": null,
   "metadata": {},
   "outputs": [],
   "source": [
    "username = input(\"Enter a username: \")\n",
    "print(f\"the )"
   ]
  }
 ],
 "metadata": {
  "kernelspec": {
   "display_name": "Python 3",
   "language": "python",
   "name": "python3"
  },
  "language_info": {
   "codemirror_mode": {
    "name": "ipython",
    "version": 3
   },
   "file_extension": ".py",
   "mimetype": "text/x-python",
   "name": "python",
   "nbconvert_exporter": "python",
   "pygments_lexer": "ipython3",
   "version": "3.7.2"
  }
 },
 "nbformat": 4,
 "nbformat_minor": 2
}
