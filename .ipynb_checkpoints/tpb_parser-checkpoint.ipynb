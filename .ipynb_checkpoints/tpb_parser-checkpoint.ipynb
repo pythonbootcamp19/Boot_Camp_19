{
 "cells": [
  {
   "cell_type": "code",
   "execution_count": 1,
   "metadata": {},
   "outputs": [],
   "source": [
    "input_data = \"\"\"\n",
    "Video\n",
    "(HD - Movies)\n",
    "Alita.Battle.Angel.2019.1080p.WEBRip.x264-MP4\n",
    "Magnet linkThis torrent has 5 comments.Trusted Uploaded 06-29 08:46, Size 1.96 GiB, ULed by MrStark\t7226\t853\n",
    "Video\n",
    "(HD - Movies)\n",
    "Hellboy.2019.1080p.WEBRip.x264-MP4\n",
    "Magnet linkThis torrent has 1 comments.Trusted Uploaded 07-09 19:17, Size 1.95 GiB, ULed by MrStark\t6439\t996\n",
    "Video\n",
    "(HD - Movies)\n",
    "Long.Shot.2019.720p.WEBRip.x264-MP4\n",
    "Magnet linkTrusted Uploaded 07-16 17:27, Size 1.03 GiB, ULed by MrStark\t3905\t1003\n",
    "Video\n",
    "(HD - Movies)\n",
    "Dumbo (2019) [BluRay] [1080p]\n",
    "Magnet linkThis torrent has 2 comments.VIP Uploaded 06-14 23:19, Size 1.79 GiB, ULed by surferbroadband\t4188\t509\n",
    "Video\n",
    "(HD - Movies)\n",
    "Alita.Battle.Angel.2019.720p.WEBRip.x264-MP4\n",
    "Magnet linkThis torrent has 1 comments.Trusted Uploaded 06-29 08:45, Size 1.02 GiB, ULed by MrStark\t3712\t596\n",
    "Video\n",
    "(HD - Movies)\n",
    "Long.Shot.2019.1080p.WEBRip.x264-MP4\n",
    "Magnet linkTrusted Uploaded 07-16 17:28, Size 1.99 GiB, ULed by MrStark\t2850\t1175\n",
    "\"\"\""
   ]
  },
  {
   "cell_type": "code",
   "execution_count": 38,
   "metadata": {},
   "outputs": [
    {
     "name": "stdout",
     "output_type": "stream",
     "text": [
      "Video\n",
      "HD - Movies\n",
      "Alita.Battle.Angel.2019.1080p.WEBRip.x264-MP4\n",
      "Magnet linkThis torrent has 5 comments.Trusted Uploaded 06-29 08:46, Size 1.96 GiB, ULed by MrStark\t7226\t853\n",
      " \n",
      "Video\n",
      "HD - Movies\n",
      "Hellboy.2019.1080p.WEBRip.x264-MP4\n",
      "Magnet linkThis torrent has 1 comments.Trusted Uploaded 07-09 19:17, Size 1.95 GiB, ULed by MrStark\t6439\t996\n",
      " \n",
      "Video\n",
      "HD - Movies\n",
      "Long.Shot.2019.720p.WEBRip.x264-MP4\n",
      "Magnet linkTrusted Uploaded 07-16 17:27, Size 1.03 GiB, ULed by MrStark\t3905\t1003\n",
      " \n",
      "Video\n",
      "HD - Movies\n",
      "Dumbo (2019) [BluRay] [1080p]\n",
      "Magnet linkThis torrent has 2 comments.VIP Uploaded 06-14 23:19, Size 1.79 GiB, ULed by surferbroadband\t4188\t509\n",
      " \n",
      "Video\n",
      "HD - Movies\n",
      "Alita.Battle.Angel.2019.720p.WEBRip.x264-MP4\n",
      "Magnet linkThis torrent has 1 comments.Trusted Uploaded 06-29 08:45, Size 1.02 GiB, ULed by MrStark\t3712\t596\n",
      " \n",
      "Video\n",
      "HD - Movies\n",
      "Long.Shot.2019.1080p.WEBRip.x264-MP4\n",
      "Magnet linkTrusted Uploaded 07-16 17:28, Size 1.99 GiB, ULed by MrStark\t2850\t1175\n",
      " \n"
     ]
    }
   ],
   "source": [
    "splitted_data = input_data.split(\"\\n\")\n",
    "clean_splitted_data = splitted_data[1:-1]\n",
    "\n",
    "# print(clean_splitted_data)\n",
    "\n",
    "# range(start, end, skip)\n",
    "for i in range(0,len(clean_splitted_data),4):\n",
    "    torrent_type = clean_splitted_data[i]\n",
    "    section =  clean_splitted_data[i+1]\n",
    "    name = clean_splitted_data[i+2]\n",
    "    details = clean_splitted_data[i+3]\n",
    "    \n",
    "    section = section.strip(\"()\")\n",
    "\n",
    "    print(f\"{torrent_type}\\n{section}\\n{name}\\n{details}\\n \")\n",
    "    \n",
    "    "
   ]
  },
  {
   "cell_type": "code",
   "execution_count": 37,
   "metadata": {},
   "outputs": [
    {
     "name": "stdout",
     "output_type": "stream",
     "text": [
      "HD - Movies\n",
      "HD - Movies\n",
      "HD - Movies\n"
     ]
    }
   ],
   "source": [
    "s = \"(HD - Movies)\"\n",
    "print(s.strip(\"()\"))\n",
    "\n",
    "print(s[1:-1])\n",
    "\n",
    "print(s.replace(\"(\",\"\").replace(\")\", \"\"))"
   ]
  },
  {
   "cell_type": "code",
   "execution_count": 54,
   "metadata": {},
   "outputs": [
    {
     "name": "stdout",
     "output_type": "stream",
     "text": [
      " ULed by MrStark\t2850\t1175\n",
      "{'upload_time': '07-16 17:28', 'size': ' Size 1.99 GiB', 'everything_else': ' ULed by MrStark\\t2850\\t1175'}\n"
     ]
    }
   ],
   "source": [
    "def detail_parser(details):\n",
    "    important_details = details.split(\"Uploaded\")[1].strip()\n",
    "\n",
    "    upload_time = important_details.split(\",\")[0]\n",
    "\n",
    "    size = important_details.split(\",\")[1]\n",
    "\n",
    "    everything_else = important_details.split(\",\")[2]\n",
    "    \n",
    "    parsed_detail = {\"upload_time\": upload_time,\n",
    "                    \"size\": size,\n",
    "                    \"everything_else\": everything_else}\n",
    "    \n",
    "    print(everything_else)\n",
    "\n",
    "    \n",
    "    return parsed_detail\n",
    "\n",
    "print(detail_parser(details))"
   ]
  },
  {
   "cell_type": "code",
   "execution_count": 67,
   "metadata": {},
   "outputs": [
    {
     "name": "stdout",
     "output_type": "stream",
     "text": [
      "MrStark 2850 1175\n"
     ]
    }
   ],
   "source": [
    "x = ' ULed by MrStark\\t2850\\t1175'\n",
    "\n",
    "clean_x = x.strip()\n",
    "clean_x_splitted = clean_x.split(\"\\t\")\n",
    "\n",
    "uploader_name = clean_x_splitted[0].split()[-1]\n",
    "seeds = clean_x_splitted[1]\n",
    "peers = clean_x_splitted[2]\n",
    "\n",
    "print(uploader_name, seeds, peers)"
   ]
  },
  {
   "cell_type": "code",
   "execution_count": null,
   "metadata": {},
   "outputs": [],
   "source": []
  }
 ],
 "metadata": {
  "kernelspec": {
   "display_name": "Python 3",
   "language": "python",
   "name": "python3"
  },
  "language_info": {
   "codemirror_mode": {
    "name": "ipython",
    "version": 3
   },
   "file_extension": ".py",
   "mimetype": "text/x-python",
   "name": "python",
   "nbconvert_exporter": "python",
   "pygments_lexer": "ipython3",
   "version": "3.7.2"
  }
 },
 "nbformat": 4,
 "nbformat_minor": 2
}
