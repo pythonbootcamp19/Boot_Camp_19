{
 "cells": [
  {
   "cell_type": "code",
   "execution_count": 2,
   "metadata": {},
   "outputs": [],
   "source": [
    "import json\n",
    "\n",
    "data = {}\n",
    "\n",
    "data['people'] = []\n",
    "data['people'].append({\n",
    "    'name':'Vikas',\n",
    "    'from':'Mumbai'    \n",
    "})\n",
    "data['people'].append({\n",
    "    'name':'John',\n",
    "    'from':'UK'\n",
    "})\n",
    "data['people'].append({\n",
    "    'name':'Mike',\n",
    "    'from':'Australia'\n",
    "})\n",
    "\n",
    "with open('data.txt', 'w') as outfile:\n",
    "    json.dump(data,outfile)"
   ]
  },
  {
   "cell_type": "code",
   "execution_count": 3,
   "metadata": {
    "scrolled": true
   },
   "outputs": [
    {
     "name": "stdout",
     "output_type": "stream",
     "text": [
      "Name: Vikas\n",
      "From: Mumbai\n",
      "\n",
      "Name: John\n",
      "From: UK\n",
      "\n",
      "Name: Mike\n",
      "From: Australia\n",
      "\n"
     ]
    }
   ],
   "source": [
    "import json\n",
    "\n",
    "with open('data.txt') as json_file:\n",
    "    data = json.load(json_file)\n",
    "    for p in data['people']:\n",
    "        print('Name: ' +p['name'])\n",
    "        print('From: ' + p['from'])\n",
    "        print('')"
   ]
  },
  {
   "cell_type": "code",
   "execution_count": 5,
   "metadata": {},
   "outputs": [
    {
     "name": "stdout",
     "output_type": "stream",
     "text": [
      "Name: Vikas\n",
      "From: Mumbai\n",
      "\n",
      "Name: John\n",
      "From: UK\n",
      "\n",
      "Name: Mike\n",
      "From: Australia\n",
      "\n"
     ]
    }
   ],
   "source": [
    "with open('data.txt') as json_file:\n",
    "    data = json.load(json_file)\n",
    "    for p in data['people']:\n",
    "        print('Name: ' +p['name'])\n",
    "        print('From: ' + p['from'])\n",
    "        print('')"
   ]
  },
  {
   "cell_type": "code",
   "execution_count": null,
   "metadata": {},
   "outputs": [],
   "source": [
    "import os.path\n",
    "exists = os.path.exists('data.txt')\n",
    "if exists:\n",
    "    print(\"Yay file exists\")\n",
    "else:\n",
    "    print(\"Sorry file doesn't exist. Create one?\")"
   ]
  }
 ],
 "metadata": {
  "kernelspec": {
   "display_name": "Python 3",
   "language": "python",
   "name": "python3"
  },
  "language_info": {
   "codemirror_mode": {
    "name": "ipython",
    "version": 3
   },
   "file_extension": ".py",
   "mimetype": "text/x-python",
   "name": "python",
   "nbconvert_exporter": "python",
   "pygments_lexer": "ipython3",
   "version": "3.7.2"
  }
 },
 "nbformat": 4,
 "nbformat_minor": 2
}
