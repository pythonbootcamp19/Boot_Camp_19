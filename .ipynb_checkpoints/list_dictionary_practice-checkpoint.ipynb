{
 "cells": [
  {
   "cell_type": "code",
   "execution_count": null,
   "metadata": {},
   "outputs": [],
   "source": []
  },
  {
   "cell_type": "code",
   "execution_count": 1,
   "metadata": {},
   "outputs": [
    {
     "name": "stdout",
     "output_type": "stream",
     "text": [
      "3\n"
     ]
    }
   ],
   "source": [
    "# a = {'name' :'John', 'age':21, 'nationality':'India'}\n",
    "# print(a)\n",
    "#b = [{'name' :'John', 'age':21, 'nationality':'India'}, 'Vik', \"Mike\"]\n",
    "b = ['John','Vik', \"Mike\"]\n",
    "print(len(b))\n",
    "#print(a.count(dict))\n",
    "\n"
   ]
  },
  {
   "cell_type": "code",
   "execution_count": 2,
   "metadata": {},
   "outputs": [
    {
     "name": "stdout",
     "output_type": "stream",
     "text": [
      "['Movies', 'Music', 'Pictures', 'Files', 'Books', 'Blogs']\n"
     ]
    }
   ],
   "source": [
    "list = [\"Movies\", \"Music\", \"Pictures\"]\n",
    "\n",
    "list.append(\"Files\")\n",
    "list.append(\"Books\")\n",
    "list.append(\"Blogs\")\n",
    "\n",
    "print(list)"
   ]
  },
  {
   "cell_type": "code",
   "execution_count": 3,
   "metadata": {},
   "outputs": [
    {
     "name": "stdout",
     "output_type": "stream",
     "text": [
      "['Files', 'Movies', 'Books', 'Music', 'Blogs', 'Pictures']\n"
     ]
    }
   ],
   "source": [
    "list = [\"Movies\", \"Music\", \"Pictures\"]\n",
    "\n",
    "list.insert(0,\"Files\")\n",
    "list.insert(2,\"Books\")\n",
    "list.insert(4,\"Blogs\")\n",
    "\n",
    "print(list)"
   ]
  },
  {
   "cell_type": "code",
   "execution_count": 4,
   "metadata": {},
   "outputs": [
    {
     "name": "stdout",
     "output_type": "stream",
     "text": [
      "['Movies', 'Books', 'Music', 'Blogs', 'Pictures', 'Videos', 'Vlog']\n"
     ]
    }
   ],
   "source": [
    "list = ['Files', 'Movies', 'Books', 'Music', 'Blogs', 'Pictures']\n",
    "\n",
    "list.remove(\"Files\")\n",
    "\n",
    "list1 = ['Videos', 'Vlog']\n",
    "list.extend(list1)\n",
    "print(list)"
   ]
  },
  {
   "cell_type": "code",
   "execution_count": 5,
   "metadata": {},
   "outputs": [
    {
     "name": "stdout",
     "output_type": "stream",
     "text": [
      "Red is in the list\n",
      "Purple is not in the list\n"
     ]
    }
   ],
   "source": [
    "list = [\"red\", \"orange\", \"green\", \"blue\"]\n",
    "if \"red\" in list:\n",
    "    #do_something()\n",
    "    print(\"Red is in the list\")\n",
    "    \n",
    "#Keyword \"not\" can be combined with \"in\".\n",
    "\n",
    "list = [\"red\", \"orange\", \"green\", \"blue\"]\n",
    "if \"purple\" not in list:\n",
    "    #do_something()\n",
    "    print(\"Purple is not in the list\")"
   ]
  },
  {
   "cell_type": "code",
   "execution_count": 6,
   "metadata": {},
   "outputs": [
    {
     "name": "stdout",
     "output_type": "stream",
     "text": [
      "['One', 'two', 'three', 'four', 'five']\n",
      "['five', 'four', 'three', 'two', 'One']\n",
      "One\n",
      "two\n",
      "three\n",
      "four\n",
      "five\n",
      "[40, 20, 10, 0]\n"
     ]
    }
   ],
   "source": [
    "L1 = [\"One\", \"two\", \"three\", \"four\", \"five\"]\n",
    " \n",
    "#To print the list as it is, simply do:\n",
    "print(L1)\n",
    "L1.reverse()\n",
    "print(L1)\n",
    "\n",
    "#To print a reverse list, do:\n",
    "for i in L1[::-1]:\n",
    "    print(i)\n",
    "\n",
    "#OR\n",
    "\n",
    "L = [0, 10, 20, 40]\n",
    "L.reverse()\n",
    "\n",
    "print(L)"
   ]
  },
  {
   "cell_type": "code",
   "execution_count": 7,
   "metadata": {},
   "outputs": [
    {
     "name": "stdout",
     "output_type": "stream",
     "text": [
      "['One', 'two', 'three', 'four', 'five']\n",
      "five\n",
      "four\n",
      "three\n",
      "two\n",
      "One\n"
     ]
    }
   ],
   "source": [
    "L1 = [\"One\", \"two\", \"three\", \"four\", \"five\"]\n",
    " \n",
    "#To print the list as it is, simply do:\n",
    "print(L1)\n",
    "for i in L1[::-1]:\n",
    "    print(i)"
   ]
  },
  {
   "cell_type": "code",
   "execution_count": 8,
   "metadata": {},
   "outputs": [
    {
     "name": "stdout",
     "output_type": "stream",
     "text": [
      "[40, 20, 10, 0]\n"
     ]
    }
   ],
   "source": [
    "L = [0, 10, 20, 40]\n",
    "L.reverse()\n",
    "\n",
    "print(L)"
   ]
  },
  {
   "cell_type": "code",
   "execution_count": 9,
   "metadata": {},
   "outputs": [
    {
     "name": "stdout",
     "output_type": "stream",
     "text": [
      "[1, 2, 3, 4, 5, 6, 7, 9]\n",
      "['a', 'b', 'c', 'd', 'e', 'f', 'g', 'h', 'i', 'q', 's', 't', 'y', 'z']\n"
     ]
    }
   ],
   "source": [
    "#create a list with some numbers in it\n",
    "numbers = [5, 1, 4, 3, 2, 6, 7, 9]\n",
    "letters = ['z','a','y','q','s','t','b','e','d','f','h','i','g','c']\n",
    "\n",
    "#prints the numbers sorted\n",
    "\n",
    "print (sorted(numbers))\n",
    "print(sorted(letters))"
   ]
  },
  {
   "cell_type": "code",
   "execution_count": 10,
   "metadata": {
    "scrolled": false
   },
   "outputs": [
    {
     "name": "stdout",
     "output_type": "stream",
     "text": [
      "one,two,three,four,five\n",
      "23\n",
      "['one', 'two', 'three', 'four', 'five']\n",
      "5\n"
     ]
    }
   ],
   "source": [
    "mylist = \"one,two,three,four,five\"\n",
    "#mylist = \"one,twothreefourfive\"\n",
    "print(mylist)\n",
    "print(len(mylist))\n",
    "\n",
    "\n",
    "newlist = mylist.split(',')\n",
    "print(newlist)\n",
    "print(len(newlist))\n"
   ]
  },
  {
   "cell_type": "code",
   "execution_count": 11,
   "metadata": {
    "scrolled": true
   },
   "outputs": [
    {
     "name": "stdout",
     "output_type": "stream",
     "text": [
      "[12345]\n",
      "1\n",
      "12345\n",
      "1\n"
     ]
    }
   ],
   "source": [
    "mylist = [12345]\n",
    "\n",
    "#mylist = \"one,twothreefourfive\"\n",
    "print(mylist)\n",
    "print(len(mylist))\n",
    "\n",
    "newlist = mylist\n",
    "for i in newlist:\n",
    "#for i in newlist:\n",
    "    print(i)\n",
    "print(len(newlist))\n",
    "#print(len(newlist))\n"
   ]
  },
  {
   "cell_type": "code",
   "execution_count": 12,
   "metadata": {},
   "outputs": [
    {
     "ename": "SyntaxError",
     "evalue": "EOL while scanning string literal (<ipython-input-12-2fba13b4007a>, line 1)",
     "output_type": "error",
     "traceback": [
      "\u001b[0;36m  File \u001b[0;32m\"<ipython-input-12-2fba13b4007a>\"\u001b[0;36m, line \u001b[0;32m1\u001b[0m\n\u001b[0;31m    \"emptyList = [ ]\u001b[0m\n\u001b[0m                      ^\u001b[0m\n\u001b[0;31mSyntaxError\u001b[0m\u001b[0;31m:\u001b[0m EOL while scanning string literal\n"
     ]
    }
   ],
   "source": [
    "\"emptyList = [ ]  \n",
    "\n",
    "list1 = ['one, two, three, four, five']\n",
    "\n",
    "numlist = [1, 3, 5, 7, 9]\n",
    "\n",
    "mixlist = ['yellow', 'red', 'blue', 'green', 'black']\n",
    "\n",
    "An empty list is created using just square brackets:\n",
    "list = []\n",
    "\""
   ]
  },
  {
   "cell_type": "code",
   "execution_count": null,
   "metadata": {},
   "outputs": [],
   "source": []
  },
  {
   "cell_type": "code",
   "execution_count": null,
   "metadata": {},
   "outputs": [],
   "source": [
    "list1 = [\"first\", \"second\", \"third\", \"Fourth\", \"Fifth\"]\n",
    "\n",
    "for a in list1:\n",
    "    list1.append(a)\n",
    "    print(list1)"
   ]
  },
  {
   "cell_type": "code",
   "execution_count": null,
   "metadata": {},
   "outputs": [],
   "source": [
    "colors = ['yellow', 'red', 'blue', 'green', 'black']\n",
    "\n",
    "print(colors[1:])"
   ]
  },
  {
   "cell_type": "code",
   "execution_count": 13,
   "metadata": {},
   "outputs": [
    {
     "name": "stdout",
     "output_type": "stream",
     "text": [
      "1\n",
      "2\n",
      "3\n",
      "4\n",
      "5\n"
     ]
    }
   ],
   "source": [
    "items = [1,2,3,4,5]\n",
    "for i in items:\n",
    "    print(i)"
   ]
  },
  {
   "cell_type": "code",
   "execution_count": 15,
   "metadata": {},
   "outputs": [
    {
     "data": {
      "text/plain": [
       "['red', 'blue', 'green']"
      ]
     },
     "execution_count": 15,
     "metadata": {},
     "output_type": "execute_result"
    }
   ],
   "source": [
    "L = ['yellow', 'red', 'blue', 'green', 'black']\n",
    "L[1:4] >>> returns ['red', 'blue', 'green']\n",
    "L[2:] >>> returns ['blue', 'green', 'black']\n",
    "L[:2] >>> returns ['yellow', 'red']\n",
    "L[-1] >>> returns 'black'\n",
    "L[1:-1] >>> returns ['red', 'blue', 'green']\n",
    "#Length - number of items in list\n"
   ]
  },
  {
   "cell_type": "code",
   "execution_count": 19,
   "metadata": {},
   "outputs": [
    {
     "name": "stdout",
     "output_type": "stream",
     "text": [
      "['red', 'blue', 'green']\n",
      "['blue', 'green', 'black']\n",
      "['yellow', 'red']\n",
      "black\n",
      "['red', 'blue', 'green']\n"
     ]
    }
   ],
   "source": [
    "l = ['yellow', 'red', 'blue', 'green', 'black']\n",
    "\n",
    "l1= l[1:4]\n",
    "l2 = l[2:]\n",
    "l3 = l[:2]\n",
    "l4 = l[-1]\n",
    "l5 = l[1:-1]\n",
    "\n",
    "print(l1)\n",
    "print(l2)\n",
    "print(l3)\n",
    "print(l4)\n",
    "print(l5)"
   ]
  },
  {
   "cell_type": "code",
   "execution_count": 20,
   "metadata": {},
   "outputs": [
    {
     "name": "stdout",
     "output_type": "stream",
     "text": [
      "['yellow', 'red', 'blue', 'green', 'black', 'pink']\n"
     ]
    }
   ],
   "source": [
    "l = ['yellow', 'red', 'blue', 'green', 'black']\n",
    "l.append(\"pink\")\n",
    "print(l)\n",
    "#returns: ['black', 'blue', 'green', 'red', 'yellow', 'pink']"
   ]
  },
  {
   "cell_type": "code",
   "execution_count": 40,
   "metadata": {},
   "outputs": [
    {
     "name": "stdout",
     "output_type": "stream",
     "text": [
      "1\n",
      "2\n",
      "3\n",
      "4\n",
      "5\n",
      "6\n",
      "7\n",
      "8\n",
      "9\n"
     ]
    }
   ],
   "source": [
    "for i in range(0,9):\n",
    "    list.append(i)\n",
    "    i = i + 1\n",
    "    print(i)"
   ]
  },
  {
   "cell_type": "code",
   "execution_count": 72,
   "metadata": {},
   "outputs": [
    {
     "name": "stdout",
     "output_type": "stream",
     "text": [
      "yellow\n",
      "red\n",
      "blue\n",
      "green\n",
      "black\n"
     ]
    }
   ],
   "source": [
    "l = ['yellow', 'red', 'blue', 'green', 'black']\n",
    "for i in l:\n",
    "    print(i)\n",
    "    "
   ]
  },
  {
   "cell_type": "code",
   "execution_count": 86,
   "metadata": {},
   "outputs": [
    {
     "name": "stdout",
     "output_type": "stream",
     "text": [
      "blue\n",
      "['yellow', 'red', 'green', 'black']\n"
     ]
    }
   ],
   "source": [
    "l = ['yellow', 'red', 'blue', 'green', 'black']\n",
    "b = l.pop(-4)\n",
    "print(b)\n",
    "print(l)"
   ]
  },
  {
   "cell_type": "code",
   "execution_count": null,
   "metadata": {},
   "outputs": [],
   "source": []
  }
 ],
 "metadata": {
  "kernelspec": {
   "display_name": "Python 3",
   "language": "python",
   "name": "python3"
  },
  "language_info": {
   "codemirror_mode": {
    "name": "ipython",
    "version": 3
   },
   "file_extension": ".py",
   "mimetype": "text/x-python",
   "name": "python",
   "nbconvert_exporter": "python",
   "pygments_lexer": "ipython3",
   "version": "3.7.2"
  }
 },
 "nbformat": 4,
 "nbformat_minor": 2
}
