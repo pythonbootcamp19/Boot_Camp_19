{
 "cells": [
  {
   "cell_type": "code",
   "execution_count": null,
   "metadata": {},
   "outputs": [],
   "source": [
    "# syntax error means grammatical error\n",
    "#if you see an error in a particular line, check that particular line as well as a couple of lines before that to catch the error\n",
    "# EOL(End of Line) while scanning string literal - computer was trying to \n",
    "#NameError - you calling the name but it doesn't exists in the program\n",
    "#ValueError\n",
    "#KeyboardInterrupt\n",
    "# Doc string \"\"\"whatever your function does goes here. it for your future reference what this particular function is doing \"\"\". #There is a way to access the documentation of this function. You can type help(adder). For e.g. write following function in Jupyter and run.\n",
    "#def adder(x,y):\n",
    "#\"\"\"takes two integers and return sum of both.\"\"\"\n",
    "#return x + Y\n",
    "#help(print)\n",
    "#help(input)\n",
    "#go to terminal and type python, and >>> help(input)\n"
   ]
  },
  {
   "cell_type": "code",
   "execution_count": 78,
   "metadata": {},
   "outputs": [
    {
     "name": "stdout",
     "output_type": "stream",
     "text": [
      "How old are you?:  100\n",
      "How tall are you? 123\n",
      "How much do you weigh? 211\n",
      "So, you're 100 old, 123 tall and 211 heavy.\n",
      "\n",
      "\n",
      "enter filenametest.txt\n",
      "Here's your file test.txt:\n",
      "This is line 1\n",
      "This is line 2\n",
      "This is line 3\n",
      "Type the filename again:\n",
      "> sample2.txt\n",
      "VVVV\n",
      "GGG\n",
      "SSS\n",
      "22\n",
      "\n",
      "\n",
      "Let's practice everything.\n",
      "You'd need to know'about escapes'with that do \n",
      " new lines and\t tabs.\n",
      "--------------\n",
      "\n",
      "\tThe lovely world\n",
      "with logic so firmly planted\n",
      "cannot discern the needs of love\n",
      "nor comprehend passion from intuition\n",
      "and requires an explanation\n",
      "where there is none.\n",
      "\n",
      "--------------\n",
      "\n",
      "\n",
      "This should be five: {11}\n",
      "With a starting point of: 10000\n",
      "We'd have 5000000 beans, 5000.0 jars, and 5100.0 crates.\n",
      "We can also do that this way:\n",
      "We'd have 500000.0 beans, 500.0 jars, and 600.0 crates.\n",
      "\n",
      "\n",
      "Too many cats! The world is doomed!\n",
      "The world is dry!\n",
      "People are greater than or equal to dogs.\n",
      "People are less than or equal to dogs.\n",
      "People are dogs.\n"
     ]
    }
   ],
   "source": [
    "print(\"How old are you?: \", end=' ')\n",
    "age = input()\n",
    "print(\"How tall are you?\", end=' ')\n",
    "height = input()\n",
    "print(\"How much do you weigh?\", end=' ')\n",
    "weight = input()\n",
    "\n",
    "print(f\"So, you're {age} old, {height} tall and {weight} heavy.\")\n",
    "\n",
    "print(\"\\n\")\n",
    "\n",
    "#from sys import argv\n",
    "#script, filename = argv\n",
    "filename = input(\"enter filename\")\n",
    "txt = open(filename)\n",
    "\n",
    "print(f\"Here's your file {filename}:\")\n",
    "print(txt.read())\n",
    "\n",
    "print(\"Type the filename again:\")\n",
    "file_again = input(\"> \")\n",
    "txt_again = open(file_again)\n",
    "\n",
    "print(txt_again.read())\n",
    "\n",
    "print(\"\\n\")\n",
    "\n",
    "practice = \"Let\\'s practice everything.\"\n",
    "print(practice)\n",
    "\n",
    "escapes = \"You\\'d need to know\\'about escapes'with that do \\n new lines and\\t tabs.\"\n",
    "print(escapes)\n",
    "\n",
    "poem = \"\"\"\n",
    "\\tThe lovely world\n",
    "with logic so firmly planted\n",
    "cannot discern the needs of love\n",
    "nor comprehend passion from intuition\n",
    "and requires an explanation\\nwhere there is none.\n",
    "\"\"\"\n",
    "print(\"--------------\")\n",
    "print(poem)\n",
    "print(\"--------------\")\n",
    "\n",
    "print(\"\\n\")\n",
    "\n",
    "five = 10 - 2 + 3\n",
    "print(f\"This should be five:\", {five})\n",
    "      \n",
    "\n",
    "def secret_formula(started):\n",
    "    jelly_beans = started * 500\n",
    "    jars = jelly_beans / 1000\n",
    "    crates = jars + 100\n",
    "    return jelly_beans, jars, crates\n",
    "\n",
    "#started = 10000\n",
    "start_point = 10000\n",
    "beans, jars, crates = secret_formula(start_point)\n",
    "\n",
    "# remember that this is another way to format a string\n",
    "print(\"With a starting point of: {}\".format(start_point))\n",
    "# it's just like with an f\"\" string\n",
    "print(f\"We'd have {beans} beans, {jars} jars, and {crates} crates.\")\n",
    "\n",
    "start_point = start_point / 10\n",
    "\n",
    "print(\"We can also do that this way:\")\n",
    "formula = secret_formula(start_point)\n",
    "# this is an easy way to apply a list to a format string\n",
    "print(\"We'd have {} beans, {} jars, and {} crates.\".format(*formula))\n",
    " \n",
    "print(\"\\n\")\n",
    "\n",
    "people = 20\n",
    "cats = 30\n",
    "dogs = 15\n",
    "\n",
    "\n",
    "if people < cats:\n",
    "    print(\"Too many cats! The world is doomed!\")\n",
    "\n",
    "if people > cats:\n",
    "    print(\"Not many cats! The world is saved!\")\n",
    "\n",
    "if people < dogs:\n",
    "    print(\"The world is drooled on!\")\n",
    "\n",
    "if people > dogs:\n",
    "    print(\"The world is dry!\")\n",
    "\n",
    "dogs += 5\n",
    "\n",
    "if people >= dogs:\n",
    "    print(\"People are greater than or equal to dogs.\")\n",
    "\n",
    "if people <= dogs:\n",
    "    print(\"People are less than or equal to dogs.\")\n",
    "\n",
    "if people == dogs:\n",
    "    print(\"People are dogs.\")"
   ]
  },
  {
   "cell_type": "code",
   "execution_count": 77,
   "metadata": {},
   "outputs": [
    {
     "name": "stdout",
     "output_type": "stream",
     "text": [
      "How old are you?:  100\n",
      "How tall are you? 123\n",
      "How much do you weigh? 211\n",
      "So, you're 100 old, 123 tall and 211 heavy.\n"
     ]
    }
   ],
   "source": [
    "print(\"How old are you?: \", end=' ')\n",
    "age = input()\n",
    "print(\"How tall are you?\", end=' ')\n",
    "height = input()\n",
    "print(\"How much do you weigh?\", end=' ')\n",
    "weight = input()\n",
    "\n",
    "print(f\"So, you're {age} old, {height} tall and {weight} heavy.\")\n"
   ]
  },
  {
   "cell_type": "code",
   "execution_count": 52,
   "metadata": {},
   "outputs": [
    {
     "name": "stdout",
     "output_type": "stream",
     "text": [
      "Let's practice everything.\n",
      "You'd need to know'about escapes'with that do \n",
      " new lines and\t tabs.\n",
      "--------------\n",
      "\n",
      "\tThe lovely world\n",
      "with logic so firmly planted\n",
      "cannot discern the needs of love\n",
      "nor comprehend passion from intuition\n",
      "and requires an explanation\n",
      "where there is none.\n",
      "\n",
      "--------------\n"
     ]
    }
   ],
   "source": [
    "practice = \"Let\\'s practice everything.\"\n",
    "print(practice)\n",
    "\n",
    "escapes = \"You\\'d need to know\\'about escapes'with that do \\n new lines and\\t tabs.\"\n",
    "print(escapes)\n",
    "\n",
    "poem = \"\"\"\n",
    "\\tThe lovely world\n",
    "with logic so firmly planted\n",
    "cannot discern the needs of love\n",
    "nor comprehend passion from intuition\n",
    "and requires an explanation\\nwhere there is none.\n",
    "\"\"\"\n",
    "print(\"--------------\")\n",
    "print(poem)\n",
    "print(\"--------------\")\n",
    "\n"
   ]
  },
  {
   "cell_type": "code",
   "execution_count": 68,
   "metadata": {},
   "outputs": [
    {
     "name": "stdout",
     "output_type": "stream",
     "text": [
      "This should be five: {5}\n"
     ]
    }
   ],
   "source": [
    "five = (10 - (2 + 3))\n",
    "print(f\"This should be five:\", {five})"
   ]
  },
  {
   "cell_type": "code",
   "execution_count": 58,
   "metadata": {},
   "outputs": [
    {
     "name": "stdout",
     "output_type": "stream",
     "text": [
      "With a starting point of: 10000\n",
      "We'd have 5000000 beans, 5000.0 jars, and 5100.0 crates.\n",
      "We can also do that this way:\n",
      "We'd have 500000.0 beans, 500.0 jars, and 600.0 crates.\n"
     ]
    }
   ],
   "source": [
    "def secret_formula(started):\n",
    "    jelly_beans = started * 500\n",
    "    jars = jelly_beans / 1000\n",
    "    crates = jars + 100\n",
    "    return jelly_beans, jars, crates\n",
    "\n",
    "#started = 10000\n",
    "start_point = 10000\n",
    "beans, jars, crates = secret_formula(start_point)\n",
    "\n",
    "# remember that this is another way to format a string\n",
    "print(\"With a starting point of: {}\".format(start_point))\n",
    "# it's just like with an f\"\" string\n",
    "print(f\"We'd have {beans} beans, {jars} jars, and {crates} crates.\")\n",
    "\n",
    "start_point = start_point / 10\n",
    "\n",
    "print(\"We can also do that this way:\")\n",
    "formula = secret_formula(start_point)\n",
    "# this is an easy way to apply a list to a format string\n",
    "print(\"We'd have {} beans, {} jars, and {} crates.\".format(*formula))"
   ]
  },
  {
   "cell_type": "code",
   "execution_count": 72,
   "metadata": {},
   "outputs": [
    {
     "name": "stdout",
     "output_type": "stream",
     "text": [
      "Too many cats! The world is doomed!\n",
      "The world is dry!\n",
      "People are greater than or equal to dogs.\n",
      "People are less than or equal to dogs.\n",
      "People are dogs.\n"
     ]
    }
   ],
   "source": [
    "people = 20\n",
    "cats = 30\n",
    "dogs = 15\n",
    "\n",
    "\n",
    "if people < cats:\n",
    "    print(\"Too many cats! The world is doomed!\")\n",
    "\n",
    "if people > cats:\n",
    "    print(\"Not many cats! The world is saved!\")\n",
    "\n",
    "if people < dogs:\n",
    "    print(\"The world is drooled on!\")\n",
    "\n",
    "if people > dogs:\n",
    "    print(\"The world is dry!\")\n",
    "\n",
    "\n",
    "dogs += 5\n",
    "\n",
    "if people >= dogs:\n",
    "    print(\"People are greater than or equal to dogs.\")\n",
    "\n",
    "if people <= dogs:\n",
    "    print(\"People are less than or equal to dogs.\")\n",
    "\n",
    "if people == dogs:\n",
    "    print(\"People are dogs.\")"
   ]
  },
  {
   "cell_type": "code",
   "execution_count": null,
   "metadata": {},
   "outputs": [],
   "source": []
  }
 ],
 "metadata": {
  "kernelspec": {
   "display_name": "Python 3",
   "language": "python",
   "name": "python3"
  },
  "language_info": {
   "codemirror_mode": {
    "name": "ipython",
    "version": 3
   },
   "file_extension": ".py",
   "mimetype": "text/x-python",
   "name": "python",
   "nbconvert_exporter": "python",
   "pygments_lexer": "ipython3",
   "version": "3.7.2"
  }
 },
 "nbformat": 4,
 "nbformat_minor": 2
}
