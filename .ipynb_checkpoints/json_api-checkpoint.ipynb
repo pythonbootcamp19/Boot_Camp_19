{
 "cells": [
  {
   "cell_type": "code",
   "execution_count": 2,
   "metadata": {},
   "outputs": [
    {
     "name": "stdout",
     "output_type": "stream",
     "text": [
      "Collecting requests\n",
      "\u001b[?25l  Downloading https://files.pythonhosted.org/packages/51/bd/23c926cd341ea6b7dd0b2a00aba99ae0f828be89d72b2190f27c11d4b7fb/requests-2.22.0-py2.py3-none-any.whl (57kB)\n",
      "\u001b[K    100% |████████████████████████████████| 61kB 109kB/s a 0:00:011\n",
      "\u001b[?25hCollecting certifi>=2017.4.17 (from requests)\n",
      "\u001b[?25l  Downloading https://files.pythonhosted.org/packages/69/1b/b853c7a9d4f6a6d00749e94eb6f3a041e342a885b87340b79c1ef73e3a78/certifi-2019.6.16-py2.py3-none-any.whl (157kB)\n",
      "\u001b[K    100% |████████████████████████████████| 163kB 326kB/s ta 0:00:01\n",
      "\u001b[?25hCollecting idna<2.9,>=2.5 (from requests)\n",
      "\u001b[?25l  Downloading https://files.pythonhosted.org/packages/14/2c/cd551d81dbe15200be1cf41cd03869a46fe7226e7450af7a6545bfc474c9/idna-2.8-py2.py3-none-any.whl (58kB)\n",
      "\u001b[K    100% |████████████████████████████████| 61kB 390kB/s ta 0:00:011\n",
      "\u001b[?25hCollecting chardet<3.1.0,>=3.0.2 (from requests)\n",
      "\u001b[?25l  Downloading https://files.pythonhosted.org/packages/bc/a9/01ffebfb562e4274b6487b4bb1ddec7ca55ec7510b22e4c51f14098443b8/chardet-3.0.4-py2.py3-none-any.whl (133kB)\n",
      "\u001b[K    100% |████████████████████████████████| 143kB 302kB/s ta 0:00:01\n",
      "\u001b[?25hCollecting urllib3!=1.25.0,!=1.25.1,<1.26,>=1.21.1 (from requests)\n",
      "\u001b[?25l  Downloading https://files.pythonhosted.org/packages/e6/60/247f23a7121ae632d62811ba7f273d0e58972d75e58a94d329d51550a47d/urllib3-1.25.3-py2.py3-none-any.whl (150kB)\n",
      "\u001b[K    100% |████████████████████████████████| 153kB 333kB/s ta 0:00:01\n",
      "\u001b[?25hInstalling collected packages: certifi, idna, chardet, urllib3, requests\n",
      "Successfully installed certifi-2019.6.16 chardet-3.0.4 idna-2.8 requests-2.22.0 urllib3-1.25.3\n",
      "\u001b[33mYou are using pip version 18.1, however version 19.2.3 is available.\n",
      "You should consider upgrading via the 'pip install --upgrade pip' command.\u001b[0m\n"
     ]
    }
   ],
   "source": [
    "!pip3 install requests"
   ]
  },
  {
   "cell_type": "code",
   "execution_count": 3,
   "metadata": {},
   "outputs": [],
   "source": [
    "import requests"
   ]
  },
  {
   "cell_type": "code",
   "execution_count": null,
   "metadata": {},
   "outputs": [],
   "source": [
    "#! is not a Python command. Command line\n",
    "#!ls\n"
   ]
  },
  {
   "cell_type": "code",
   "execution_count": 5,
   "metadata": {},
   "outputs": [
    {
     "name": "stdout",
     "output_type": "stream",
     "text": [
      "<Response [200]>\n"
     ]
    }
   ],
   "source": [
    "import requests\n",
    "url = \"http://www.google.com\"\n",
    "response = requests.get(url)\n",
    "print(response)\n",
    "#look for response code = https://www.restapitutorial.com/httpstatuscodes.html"
   ]
  },
  {
   "cell_type": "code",
   "execution_count": null,
   "metadata": {},
   "outputs": [],
   "source": [
    "print(response.content) # will give the response of the content"
   ]
  },
  {
   "cell_type": "code",
   "execution_count": null,
   "metadata": {},
   "outputs": [],
   "source": [
    "#https://www.ipify.org\n",
    "#https://api.ipify.org/?format=json"
   ]
  },
  {
   "cell_type": "code",
   "execution_count": null,
   "metadata": {},
   "outputs": [],
   "source": [
    "#!ifconfig - (for mac) will give you local ip address inside your network\n",
    "#!ipconfig - (for windows)"
   ]
  },
  {
   "cell_type": "code",
   "execution_count": 10,
   "metadata": {},
   "outputs": [],
   "source": [
    "ip_address_url = \"https://api.ipify.org/?format=json\"\n",
    "response = requests.get(ip_address_url)\n",
    "#print(response.content)\n",
    "ip_data = response.content"
   ]
  },
  {
   "cell_type": "code",
   "execution_count": 11,
   "metadata": {},
   "outputs": [
    {
     "name": "stdout",
     "output_type": "stream",
     "text": [
      "{'ip': '106.51.226.181'}\n",
      "106.51.226.181\n"
     ]
    }
   ],
   "source": [
    "import json\n",
    "ip_data_dict = json.loads(ip_data)\n",
    "print(ip_data_dict)\n",
    "print(ip_data_dict[\"ip\"])"
   ]
  },
  {
   "cell_type": "code",
   "execution_count": 12,
   "metadata": {},
   "outputs": [
    {
     "name": "stdout",
     "output_type": "stream",
     "text": [
      "106.51.226.181\n"
     ]
    }
   ],
   "source": [
    "#put above code in function.\n",
    "#for public apis go to: https://github.com/public-apis/public-apis\n",
    "\n",
    "def get_public_ip():\n",
    "    ip_address_url = \"https://api.ipify.org/?format=json\"\n",
    "\n",
    "    response = requests.get(ip_address_url)\n",
    "    \n",
    "    ip_data = response.content\n",
    "    ip_data_dict = json.loads(ip_data)\n",
    "    return ip_data_dict[\"ip\"]\n",
    "public_ip = get_public_ip()\n",
    "print(public_ip)"
   ]
  },
  {
   "cell_type": "code",
   "execution_count": 13,
   "metadata": {},
   "outputs": [],
   "source": [
    "#http://worldtimeapi.org/\n",
    "#http://worldtimeapi.org/api/ip/106.51.226.181.txt\n",
    "#http://worldtimeapi.org/api/ip/106.51.226.181.json (convert into json format)"
   ]
  },
  {
   "cell_type": "code",
   "execution_count": 21,
   "metadata": {},
   "outputs": [
    {
     "name": "stdout",
     "output_type": "stream",
     "text": [
      "{'week_number': 36, 'utc_offset': '+05:30', 'utc_datetime': '2019-09-02T12:06:35.267218+00:00', 'unixtime': 1567425995, 'timezone': 'Asia/Kolkata', 'raw_offset': 19800, 'dst_until': None, 'dst_offset': 0, 'dst_from': None, 'dst': False, 'day_of_year': 245, 'day_of_week': 1, 'datetime': '2019-09-02T17:36:35.267218+05:30', 'client_ip': '106.51.226.181', 'abbreviation': 'IST'}\n",
      "36\n",
      "245\n",
      "2019-09-02T17:36:35.267218+05:30\n"
     ]
    }
   ],
   "source": [
    "timezone_url = f\"http://worldtimeapi.org/api/ip/{public_ip}.json\"\n",
    "response = requests.get(timezone_url)\n",
    "timezone_data = json.loads(response.content)\n",
    "print(timezone_data)\n",
    "print(timezone_data[\"week_number\"])\n",
    "print(timezone_data[\"day_of_year\"])\n",
    "print(timezone_data[\"datetime\"])"
   ]
  },
  {
   "cell_type": "code",
   "execution_count": 24,
   "metadata": {},
   "outputs": [
    {
     "name": "stdout",
     "output_type": "stream",
     "text": [
      "{'day_of_year': 245, 'week_number': 36, 'day_of_week': 1, 'datetime': '2019-09-02T17:45:25.084960+05:30'}\n"
     ]
    }
   ],
   "source": [
    "#create a new dictionary. Take only important data and import into a new dictionary.\n",
    "def get_timezone_data(public_ip):\n",
    "\n",
    "    timezone_url = f\"http://worldtimeapi.org/api/ip/{public_ip}.json\"\n",
    "    response = requests.get(timezone_url)\n",
    "    timezone_data = json.loads(response.content)\n",
    "\n",
    "    time_important_data = {}\n",
    "    time_important_data[\"day_of_year\"] = timezone_data[\"day_of_year\"]\n",
    "    time_important_data[\"week_number\"] = timezone_data[\"week_number\"]\n",
    "    time_important_data[\"day_of_week\"] = timezone_data[\"day_of_week\"]\n",
    "    time_important_data[\"datetime\"] = timezone_data[\"datetime\"]\n",
    "\n",
    "    return time_important_data\n",
    "    \n",
    "time_data = get_timezone_data(public_ip)\n",
    "print(time_data)"
   ]
  },
  {
   "cell_type": "code",
   "execution_count": 25,
   "metadata": {},
   "outputs": [
    {
     "name": "stdout",
     "output_type": "stream",
     "text": [
      "106.51.226.181\n",
      "{'day_of_year': 245, 'week_number': 36, 'day_of_week': 1, 'datetime': '2019-09-02T17:46:54.475313+05:30'}\n"
     ]
    }
   ],
   "source": [
    "def get_public_ip():\n",
    "    ip_address_url = \"https://api.ipify.org/?format=json\"\n",
    "\n",
    "    response = requests.get(ip_address_url)\n",
    "    \n",
    "    ip_data = response.content\n",
    "    ip_data_dict = json.loads(ip_data)\n",
    "    return ip_data_dict[\"ip\"]\n",
    "\n",
    "\n",
    "\n",
    "def get_timezone_data(public_ip):\n",
    "\n",
    "    timezone_url = f\"http://worldtimeapi.org/api/ip/{public_ip}.json\"\n",
    "    response = requests.get(timezone_url)\n",
    "    timezone_data = json.loads(response.content)\n",
    "\n",
    "    time_important_data = {}\n",
    "    time_important_data[\"day_of_year\"] = timezone_data[\"day_of_year\"]\n",
    "    time_important_data[\"week_number\"] = timezone_data[\"week_number\"]\n",
    "    time_important_data[\"day_of_week\"] = timezone_data[\"day_of_week\"]\n",
    "    time_important_data[\"datetime\"] = timezone_data[\"datetime\"]\n",
    "\n",
    "    return time_important_data\n",
    " \n",
    "public_ip = get_public_ip()\n",
    "print(public_ip)\n",
    "\n",
    "time_data = get_timezone_data(public_ip)\n",
    "print(time_data)"
   ]
  },
  {
   "cell_type": "code",
   "execution_count": null,
   "metadata": {},
   "outputs": [],
   "source": []
  }
 ],
 "metadata": {
  "kernelspec": {
   "display_name": "Python 3",
   "language": "python",
   "name": "python3"
  },
  "language_info": {
   "codemirror_mode": {
    "name": "ipython",
    "version": 3
   },
   "file_extension": ".py",
   "mimetype": "text/x-python",
   "name": "python",
   "nbconvert_exporter": "python",
   "pygments_lexer": "ipython3",
   "version": "3.7.2"
  }
 },
 "nbformat": 4,
 "nbformat_minor": 2
}
