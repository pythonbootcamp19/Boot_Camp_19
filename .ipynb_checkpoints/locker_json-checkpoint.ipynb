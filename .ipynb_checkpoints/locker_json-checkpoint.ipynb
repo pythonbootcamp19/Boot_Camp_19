{
 "cells": [
  {
   "cell_type": "code",
   "execution_count": 2,
   "metadata": {
    "scrolled": true
   },
   "outputs": [
    {
     "name": "stdout",
     "output_type": "stream",
     "text": [
      "Do you need a locker?(Yes or No): Yes\n",
      "What is your name?: Vik\n",
      "Vik\n"
     ]
    }
   ],
   "source": [
    "import json\n",
    "import os.path\n",
    "exists = os.path.exists('locker.txt')\n",
    "data = {}\n",
    "\n",
    "\n",
    "\n",
    "#----\n",
    "def locker_available_check():\n",
    "    people = []\n",
    "    if exists:\n",
    "        with open('locker.txt') as json_file:\n",
    "            data = json.load(json_file)\n",
    "            if data['people'] == []:\n",
    "                print(\"There are 10 lockers available\")\n",
    "            else:\n",
    "                print(\"Let me check how many lockers available\")\n",
    "    else:\n",
    "        data = {}\n",
    "        with open('locker.txt', 'w') as outfile:\n",
    "            json.dump(data,outfile)\n",
    "#-------\n",
    "\n",
    "# def locker_available_check():\n",
    "\n",
    "#     if exists:\n",
    "#         with open('locker.txt') as json_file:\n",
    "#             data = json.load(json_file)\n",
    "#     else:\n",
    "#         data = {}\n",
    "#         with open('locker.txt', 'w') as outfile:\n",
    "#             json.dump(data,outfile)\n",
    "         \n",
    "#-------\n",
    "\n",
    "total_lockers = 8\n",
    "need_locker = input(\"Do you need a locker?(Yes or No): \")\n",
    "locker_input = need_locker.lower()\n",
    "\n",
    "if locker_input == \"yes\":\n",
    "    #go to: 'def locker_available_check' function\n",
    "    locker_available_check()\n",
    "    print(input(\"What is your name?: \"))\n",
    "else:\n",
    "    print('Oh..')"
   ]
  },
  {
   "cell_type": "code",
   "execution_count": null,
   "metadata": {},
   "outputs": [],
   "source": []
  },
  {
   "cell_type": "code",
   "execution_count": null,
   "metadata": {},
   "outputs": [],
   "source": []
  }
 ],
 "metadata": {
  "kernelspec": {
   "display_name": "Python 3",
   "language": "python",
   "name": "python3"
  },
  "language_info": {
   "codemirror_mode": {
    "name": "ipython",
    "version": 3
   },
   "file_extension": ".py",
   "mimetype": "text/x-python",
   "name": "python",
   "nbconvert_exporter": "python",
   "pygments_lexer": "ipython3",
   "version": "3.7.2"
  }
 },
 "nbformat": 4,
 "nbformat_minor": 2
}
