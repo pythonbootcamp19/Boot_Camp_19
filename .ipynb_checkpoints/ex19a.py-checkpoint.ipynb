{
 "cells": [
  {
   "cell_type": "code",
   "execution_count": 10,
   "metadata": {},
   "outputs": [
    {
     "name": "stdout",
     "output_type": "stream",
     "text": [
      "We can just give the function numbers directly:\n",
      "You have 20 cheeses!\n",
      "You have 30 boxes of crackers!\n",
      "Man that's enough for a party!\n",
      "Get a blanket.\n",
      "\n",
      "OR, we can use variables from our script:\n",
      "You have 10 cheeses!\n",
      "You have 50 boxes of crackers!\n",
      "Man that's enough for a party!\n",
      "Get a blanket.\n",
      "\n",
      "We can even do math inside too:\n",
      "You have 30 cheeses!\n",
      "You have 11 boxes of crackers!\n",
      "Man that's enough for a party!\n",
      "Get a blanket.\n",
      "\n",
      "And we can combine the two, variable and math:\n",
      "You have 110 cheeses!\n",
      "You have 1050 boxes of crackers!\n",
      "Man that's enough for a party!\n",
      "Get a blanket.\n",
      "\n"
     ]
    }
   ],
   "source": [
    "def cheese_and_crackers(cheese_count, boxes_of_crackers):\n",
    "    print(f\"You have {cheese_count} cheeses!\")\n",
    "    print(f\"You have {boxes_of_crackers} boxes of crackers!\")\n",
    "    print(\"Man that's enough for a party!\")\n",
    "    print(\"Get a blanket.\\n\")\n",
    "    \n",
    "print(\"We can just give the function numbers directly:\")\n",
    "cheese_and_crackers(20,30)\n",
    "# print(f\"You have {cheese_count} cheeses!\")\n",
    "# print(f\"You have {boxes_of_crackers} boxes of crackers!\")\n",
    "# print(\"Man that's enough for a party!\")\n",
    "# print(\"Get a blanket.\\n\")\n",
    "\n",
    "\n",
    "print(\"OR, we can use variables from our script:\")\n",
    "amount_of_cheese = 10\n",
    "amount_of_crackers = 50\n",
    "cheese_and_crackers(amount_of_cheese, amount_of_crackers)\n",
    "# print(f\"You have {cheese_count} cheeses!\")\n",
    "# print(f\"You have {boxes_of_crackers} boxes of crackers!\")\n",
    "# print(\"Man that's enough for a party!\")\n",
    "# print(\"Get a blanket.\\n\")\n",
    "\n",
    "\n",
    "print(\"We can even do math inside too:\")\n",
    "cheese_and_crackers(10+20, 5+6)\n",
    "# print(f\"You have {cheese_count} cheeses!\")\n",
    "# print(f\"You have {boxes_of_crackers} boxes of crackers!\")\n",
    "# print(\"Man that's enough for a party!\")\n",
    "# print(\"Get a blanket.\\n\")\n",
    "\n",
    "\n",
    "print(\"And we can combine the two, variable and math:\")\n",
    "cheese_and_crackers(amount_of_cheese + 100, amount_of_crackers + 1000)\n",
    "# print(f\"You have {cheese_count} cheeses!\")\n",
    "# print(f\"You have {boxes_of_crackers} boxes of crackers!\")\n",
    "# print(\"Man that's enough for a party!\")\n",
    "# print(\"Get a blanket.\\n\")\n"
   ]
  },
  {
   "cell_type": "code",
   "execution_count": null,
   "metadata": {},
   "outputs": [],
   "source": []
  }
 ],
 "metadata": {
  "kernelspec": {
   "display_name": "Python 3",
   "language": "python",
   "name": "python3"
  },
  "language_info": {
   "codemirror_mode": {
    "name": "ipython",
    "version": 3
   },
   "file_extension": ".py",
   "mimetype": "text/x-python",
   "name": "python",
   "nbconvert_exporter": "python",
   "pygments_lexer": "ipython3",
   "version": "3.7.2"
  }
 },
 "nbformat": 4,
 "nbformat_minor": 2
}
