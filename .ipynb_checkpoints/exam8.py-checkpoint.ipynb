{
 "cells": [
  {
   "cell_type": "markdown",
   "metadata": {},
   "source": [
    "steps: Step 1 create a file name exam8.txt, Step2 write something in the text file, Step 3 User will enter the file name (in this case exam8.txt), Step 4 open file (in this case exam8.txt), Step 5 Read whatever is in this file, Step 6 ask user for file name they want to write (paste to, exam8a.txt). Step 7 Close the file.  \n",
    "\n",
    "By default file is in 'r' mode. You don't have close if in read mode but you do have to close the file if it is in 'w' mode."
   ]
  },
  {
   "cell_type": "code",
   "execution_count": 11,
   "metadata": {},
   "outputs": [
    {
     "name": "stdout",
     "output_type": "stream",
     "text": [
      "What is the file name?: exam8.txt\n",
      "Hello World!\n",
      "My Name is Vik. I am learning Python at Jaaga.\n",
      "What is the file name you are copying to?: exam8a.txt\n",
      "Your message is copied:\n"
     ]
    }
   ],
   "source": [
    "file_name_from = input(\"What is the file name?: \")\n",
    "in_file = open(file_name_from)\n",
    "from_file = in_file.read()\n",
    "#print(from_file)\n",
    "\n",
    "file_name_to = input(\"What is the file name you are copying to?: \")\n",
    "out_file = open(file_name_to, 'w')\n",
    "out_file.write(from_file)\n",
    "\n",
    "out_file.close()\n",
    "print(\"Your message is copied:\")"
   ]
  }
 ],
 "metadata": {
  "kernelspec": {
   "display_name": "Python 3",
   "language": "python",
   "name": "python3"
  },
  "language_info": {
   "codemirror_mode": {
    "name": "ipython",
    "version": 3
   },
   "file_extension": ".py",
   "mimetype": "text/x-python",
   "name": "python",
   "nbconvert_exporter": "python",
   "pygments_lexer": "ipython3",
   "version": "3.7.2"
  }
 },
 "nbformat": 4,
 "nbformat_minor": 2
}
