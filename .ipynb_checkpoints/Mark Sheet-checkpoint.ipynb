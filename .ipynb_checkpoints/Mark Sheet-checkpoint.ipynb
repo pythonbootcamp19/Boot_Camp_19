{
 "cells": [
  {
   "cell_type": "code",
   "execution_count": 1,
   "metadata": {},
   "outputs": [
    {
     "name": "stdout",
     "output_type": "stream",
     "text": [
      "      Mark Sheet\n",
      "\n",
      "\n",
      "What is your name?:                 Vik\n",
      "How much did you get in English?:    50\n",
      "How much did you get in Math?:       60\n",
      "How much did you get in Science?:    70\n",
      ".............................................\n",
      "Your total marks are:                 180 60.0 %\n"
     ]
    }
   ],
   "source": [
    "print (' '*5, \"Mark Sheet\")\n",
    "print(\"\\n\")\n",
    "\n",
    "print(f\"What is your name?:\", (' '*15), end=' ')\n",
    "student1_name = input()\n",
    "\n",
    "print(f\"How much did you get in English?:\", (' '*2), end=' ')\n",
    "student1_english = int(input())\n",
    "\n",
    "print(f\"How much did you get in Math?:\", (' '*5), end=' ')\n",
    "student1_math = int(input())\n",
    "\n",
    "print(f\"How much did you get in Science?:\", (' '*2), end=' ')\n",
    "student1_science = int(input())\n",
    "\n",
    "total = student1_english + student1_math + student1_science\n",
    "percentage = total*100/300\n",
    "\n",
    "print('.'*45)\n",
    "\n",
    "#print(\"\\n\")\n",
    "\n",
    "print(f\"Your total marks are:\", (' '*15), total, percentage,\"%\")\n"
   ]
  },
  {
   "cell_type": "code",
   "execution_count": null,
   "metadata": {},
   "outputs": [],
   "source": []
  },
  {
   "cell_type": "code",
   "execution_count": null,
   "metadata": {},
   "outputs": [],
   "source": []
  },
  {
   "cell_type": "code",
   "execution_count": null,
   "metadata": {},
   "outputs": [],
   "source": []
  }
 ],
 "metadata": {
  "kernelspec": {
   "display_name": "Python 3",
   "language": "python",
   "name": "python3"
  },
  "language_info": {
   "codemirror_mode": {
    "name": "ipython",
    "version": 3
   },
   "file_extension": ".py",
   "mimetype": "text/x-python",
   "name": "python",
   "nbconvert_exporter": "python",
   "pygments_lexer": "ipython3",
   "version": "3.7.2"
  }
 },
 "nbformat": 4,
 "nbformat_minor": 2
}
