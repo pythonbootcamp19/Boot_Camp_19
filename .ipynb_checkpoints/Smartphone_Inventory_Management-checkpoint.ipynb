{
 "cells": [
  {
   "cell_type": "code",
   "execution_count": 17,
   "metadata": {},
   "outputs": [
    {
     "name": "stdout",
     "output_type": "stream",
     "text": [
      "Which phone you want to buy?: iphone\n",
      "How many phones you want to buy?3\n",
      "5\n",
      "{'iphone': 2, 'samsung': 5, 'nokia': 5}\n"
     ]
    }
   ],
   "source": [
    "phone = input(\"Which phone you want to buy?: \")\n",
    "qty = int(input(\"How many phones you want to buy?\"))\n",
    "\n",
    "\n",
    "master_dictionary = {\"iphone\":5, \n",
    "                    \"samsung\":5,\n",
    "                    \"nokia\":5}\n",
    "\n",
    "\n",
    "for phone_name,phone_value in master_dictionary.items():\n",
    "    \n",
    "    \n",
    "    if master_dictionary[phone_name] == master_dictionary[phone]:\n",
    "        #print(\"phone available\")\n",
    "        \n",
    "        master_dictionary[\"iphone\"] -= qty\n",
    "        new_value = phone_value\n",
    "        print(new_value)\n",
    "        print(master_dictionary)\n",
    "#       master_dictionary.update(phone_name)(new_value)\n",
    "        #continue \n",
    "    else:\n",
    "        print(\"Phone is not available\")\n",
    "    break\n",
    "    \n",
    "#print(new_value)"
   ]
  },
  {
   "cell_type": "code",
   "execution_count": 5,
   "metadata": {},
   "outputs": [
    {
     "name": "stdout",
     "output_type": "stream",
     "text": [
      "name vikas\n",
      "age 20\n",
      "location USA\n"
     ]
    }
   ],
   "source": [
    "names = {\"name\":\"vikas\",\n",
    "        \"age\":\"20\",\n",
    "        \"location\":\"USA\"}\n",
    "\n",
    "for namesss,info in names.items():\n",
    "    print(namesss,info)"
   ]
  },
  {
   "cell_type": "code",
   "execution_count": 3,
   "metadata": {},
   "outputs": [
    {
     "name": "stdout",
     "output_type": "stream",
     "text": [
      "{1: 'one', 2: 'two', 3: 'three'}\n",
      "{3: 'three'}\n"
     ]
    }
   ],
   "source": [
    "d = {1: \"one\", 2: \"two\"}\n",
    "d1 = {3: \"three\"}\n",
    "\n",
    "# updates the value of key 2\n",
    "d.update(d1)\n",
    "print(d)\n",
    "print(d1)"
   ]
  },
  {
   "cell_type": "code",
   "execution_count": null,
   "metadata": {},
   "outputs": [],
   "source": []
  },
  {
   "cell_type": "code",
   "execution_count": null,
   "metadata": {},
   "outputs": [],
   "source": []
  },
  {
   "cell_type": "code",
   "execution_count": null,
   "metadata": {},
   "outputs": [],
   "source": []
  }
 ],
 "metadata": {
  "kernelspec": {
   "display_name": "Python 3",
   "language": "python",
   "name": "python3"
  },
  "language_info": {
   "codemirror_mode": {
    "name": "ipython",
    "version": 3
   },
   "file_extension": ".py",
   "mimetype": "text/x-python",
   "name": "python",
   "nbconvert_exporter": "python",
   "pygments_lexer": "ipython3",
   "version": "3.7.2"
  }
 },
 "nbformat": 4,
 "nbformat_minor": 2
}
