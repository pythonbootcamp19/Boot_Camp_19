{
 "cells": [
  {
   "cell_type": "code",
   "execution_count": 1,
   "metadata": {},
   "outputs": [
    {
     "data": {
      "text/plain": [
       "'http://dpaste.com/1F87A4J'"
      ]
     },
     "execution_count": 1,
     "metadata": {},
     "output_type": "execute_result"
    }
   ],
   "source": [
    "import find_notebook_data\n",
    "content = find_notebook_data.main()\n",
    "%pastebin content"
   ]
  },
  {
   "cell_type": "code",
   "execution_count": 9,
   "metadata": {},
   "outputs": [],
   "source": [
    "def ask_name():\n",
    "    name = input(\"What is your name? \")\n",
    "    return name"
   ]
  },
  {
   "cell_type": "code",
   "execution_count": 7,
   "metadata": {},
   "outputs": [
    {
     "name": "stdout",
     "output_type": "stream",
     "text": [
      "What is your name? hasan\n",
      "hasan\n",
      "5\n"
     ]
    }
   ],
   "source": [
    "name = ask_name()\n",
    "print(name)\n",
    "len_name = len(name)\n",
    "print(len_name)"
   ]
  },
  {
   "cell_type": "code",
   "execution_count": 8,
   "metadata": {},
   "outputs": [
    {
     "name": "stdout",
     "output_type": "stream",
     "text": [
      "What is your name? hasan\n",
      "hasan\n",
      "What is your name? hasan\n",
      "5\n"
     ]
    }
   ],
   "source": [
    "print(ask_name())\n",
    "print(len(ask_name()))"
   ]
  },
  {
   "cell_type": "code",
   "execution_count": 24,
   "metadata": {},
   "outputs": [
    {
     "name": "stdout",
     "output_type": "stream",
     "text": [
      "11\n"
     ]
    }
   ],
   "source": [
    "def adder(first_no, second_no): # this line define how many parameters we need to give\n",
    "    result = first_no + second_no\n",
    "    return result # this line define how many variables it will return\n",
    "\n",
    "result = adder(5,6)\n",
    "print(result)"
   ]
  },
  {
   "cell_type": "code",
   "execution_count": 22,
   "metadata": {},
   "outputs": [
    {
     "name": "stdout",
     "output_type": "stream",
     "text": [
      "(15, 5, 22)\n",
      "15 5 22\n"
     ]
    }
   ],
   "source": [
    "def do_my_calculation(number):\n",
    "    first_result = number + 5\n",
    "    second_result = number - 5\n",
    "    something = 22\n",
    "    return first_result, second_result, something\n",
    "\n",
    "\n",
    "print(do_my_calculation(10))\n",
    "first, second, third = do_my_calculation(10)\n",
    "print(first, second, third)"
   ]
  },
  {
   "cell_type": "code",
   "execution_count": 3,
   "metadata": {},
   "outputs": [],
   "source": [
    "# #you can define/write a function and not have any code in it but we can't leave it blank but if we want \n",
    "# to fill this function later we can use this pass keyword.\n",
    "def hello_func():\n",
    "    pass"
   ]
  },
  {
   "cell_type": "code",
   "execution_count": null,
   "metadata": {},
   "outputs": [],
   "source": []
  }
 ],
 "metadata": {
  "kernelspec": {
   "display_name": "Python 3",
   "language": "python",
   "name": "python3"
  },
  "language_info": {
   "codemirror_mode": {
    "name": "ipython",
    "version": 3
   },
   "file_extension": ".py",
   "mimetype": "text/x-python",
   "name": "python",
   "nbconvert_exporter": "python",
   "pygments_lexer": "ipython3",
   "version": "3.7.2"
  }
 },
 "nbformat": 4,
 "nbformat_minor": 2
}
