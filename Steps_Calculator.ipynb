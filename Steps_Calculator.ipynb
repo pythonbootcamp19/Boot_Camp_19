{
 "cells": [
  {
   "cell_type": "code",
   "execution_count": 7,
   "metadata": {},
   "outputs": [
    {
     "name": "stdout",
     "output_type": "stream",
     "text": [
      "Distance from Home to Office:1\n",
      "How long do you walk in evening?: 1\n",
      "3937.0199999999995\n"
     ]
    }
   ],
   "source": [
    "def km_to_steps(distance):\n",
    "    steps_in_one_km = 1312.34\n",
    "    total_steps = steps_in_one_km * distance\n",
    "    return total_steps \n",
    "# it returns some value\n",
    "\n",
    "def ask_distance(): # when you are asking user for input nothing is going in but value is coming out.\n",
    "    distance_to_office = float(input(\"Distance from Home to Office:\"))\n",
    "    evening_walk_distance = float(input(\"How long do you walk in evening?: \"))\n",
    "    return distance_to_office, evening_walk_distance\n",
    "\n",
    "def find_total_distance_walked(distance_to_office, evening_walk_distance):\n",
    "    office_commute = distance_to_office * 2\n",
    "    total_distance = office_commute + evening_walk_distance\n",
    "    return total_distance\n",
    "\n",
    "def main():\n",
    "    office_distance, evening_walk_distance = ask_distance()\n",
    "    total_distance = find_total_distance_walked(office_distance, evening_walk_distance)\n",
    "    total_steps = km_to_steps(total_distance)\n",
    "    return total_steps\n",
    "\n",
    "total_steps_walked_in_a_day = main()\n",
    "print(total_steps_walked_in_a_day)\n",
    "    "
   ]
  },
  {
   "cell_type": "code",
   "execution_count": null,
   "metadata": {},
   "outputs": [],
   "source": []
  },
  {
   "cell_type": "code",
   "execution_count": null,
   "metadata": {},
   "outputs": [],
   "source": []
  }
 ],
 "metadata": {
  "kernelspec": {
   "display_name": "Python 3",
   "language": "python",
   "name": "python3"
  },
  "language_info": {
   "codemirror_mode": {
    "name": "ipython",
    "version": 3
   },
   "file_extension": ".py",
   "mimetype": "text/x-python",
   "name": "python",
   "nbconvert_exporter": "python",
   "pygments_lexer": "ipython3",
   "version": "3.7.2"
  }
 },
 "nbformat": 4,
 "nbformat_minor": 2
}
