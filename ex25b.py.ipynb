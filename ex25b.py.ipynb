{
 "cells": [
  {
   "cell_type": "code",
   "execution_count": 77,
   "metadata": {},
   "outputs": [
    {
     "name": "stdout",
     "output_type": "stream",
     "text": [
      "['python', 'is', 'a', 'software', 'language']\n"
     ]
    }
   ],
   "source": [
    "a = \"python is a software language\"\n",
    "def break_words(a):\n",
    "    \"\"\"This function will break up words for us.\"\"\"\n",
    "    words = a.split(' ')\n",
    "    return words\n",
    "print(break_words(a))"
   ]
  },
  {
   "cell_type": "code",
   "execution_count": 82,
   "metadata": {},
   "outputs": [
    {
     "name": "stdout",
     "output_type": "stream",
     "text": [
      "[' ', 'd', 'e', 'h', 'l', 'l', 'l', 'o', 'o', 'r', 'w']\n"
     ]
    }
   ],
   "source": [
    "b = \"hello world\"\n",
    "def sort_words(b):\n",
    "    \"\"\"Sorts the words.\"\"\"\n",
    "    return sorted(b)\n",
    "print(sort_words(b))"
   ]
  },
  {
   "cell_type": "code",
   "execution_count": 83,
   "metadata": {},
   "outputs": [
    {
     "name": "stdout",
     "output_type": "stream",
     "text": [
      "i\n"
     ]
    }
   ],
   "source": [
    "c = \"i am in bangalore\"\n",
    "words = c.split(\" \")\n",
    "def print_first_word(c):\n",
    "    \"\"\"Prints the last word after popping it off\"\"\"\n",
    "    word = words.pop(0)\n",
    "    print(word)\n",
    "print_first_word(words)"
   ]
  },
  {
   "cell_type": "code",
   "execution_count": 72,
   "metadata": {},
   "outputs": [
    {
     "name": "stdout",
     "output_type": "stream",
     "text": [
      "mumbai\n"
     ]
    }
   ],
   "source": [
    "d = \"my home town is mumbai\"\n",
    "words = d.split(\" \")\n",
    "def print_last_word(words):\n",
    "    \"\"\"Prints the last word after popping it off\"\"\"\n",
    "    word = words.pop(-1)\n",
    "    print(word)\n",
    "print_last_word(words)"
   ]
  },
  {
   "cell_type": "code",
   "execution_count": 84,
   "metadata": {},
   "outputs": [
    {
     "name": "stdout",
     "output_type": "stream",
     "text": [
      "[' ', ' ', ' ', 'a', 'a', 'd', 'i', 'i', 'i', 'l', 'l', 'n', 'o', 'r', 't', 't', 'w', 'y']\n"
     ]
    }
   ],
   "source": [
    "# d = \"it will rain today\"\n",
    "# def sort_sentence(d):\n",
    "#     \"\"\"Takes in a full sentence and returns the sorted words.\"\"\"\n",
    "#     words = break_words(a)\n",
    "#     return sort_words(words)\n",
    "# print(sort_sentence(d))\n",
    "\n",
    "d = \"it will rain today\"\n",
    "def sort_sentence(d):\n",
    "    \"\"\"Takes in a full sentence and returns the sorted words.\"\"\"\n",
    "    words = d\n",
    "    return sort_words(d)\n",
    "print(sort_sentence(d))"
   ]
  },
  {
   "cell_type": "code",
   "execution_count": 85,
   "metadata": {},
   "outputs": [
    {
     "name": "stdout",
     "output_type": "stream",
     "text": [
      "am\n",
      "language\n"
     ]
    }
   ],
   "source": [
    "e = \"i am learning a software development\"\n",
    "def print_first_and_last(e):\n",
    "    \"\"\"Prints the first and last words of the sentence.\"\"\"\n",
    "    words = break_words(a)\n",
    "    print_first_word(words)\n",
    "    print_last_word(words)\n",
    "    \n",
    "print_first_and_last(e)"
   ]
  },
  {
   "cell_type": "code",
   "execution_count": 80,
   "metadata": {},
   "outputs": [
    {
     "name": "stdout",
     "output_type": "stream",
     "text": [
      "town\n",
      "software\n"
     ]
    }
   ],
   "source": [
    "f = \"all good things come to those who wait\"\n",
    "def print_first_and_last_sorted(f):\n",
    "    \"\"\"Sorts the words then prints the first and last one.\"\"\"\n",
    "    words = sort_sentence(sentence)\n",
    "    print_first_word(words)\n",
    "    print_last_word(words)\n",
    "\n",
    "print_first_and_last_sorted(f)"
   ]
  },
  {
   "cell_type": "code",
   "execution_count": null,
   "metadata": {},
   "outputs": [],
   "source": []
  }
 ],
 "metadata": {
  "kernelspec": {
   "display_name": "Python 3",
   "language": "python",
   "name": "python3"
  },
  "language_info": {
   "codemirror_mode": {
    "name": "ipython",
    "version": 3
   },
   "file_extension": ".py",
   "mimetype": "text/x-python",
   "name": "python",
   "nbconvert_exporter": "python",
   "pygments_lexer": "ipython3",
   "version": "3.7.2"
  }
 },
 "nbformat": 4,
 "nbformat_minor": 2
}
