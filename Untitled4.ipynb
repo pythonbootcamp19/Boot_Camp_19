{
 "cells": [
  {
   "cell_type": "code",
   "execution_count": 4,
   "metadata": {},
   "outputs": [
    {
     "data": {
      "text/plain": [
       "False"
      ]
     },
     "execution_count": 4,
     "metadata": {},
     "output_type": "execute_result"
    }
   ],
   "source": [
    "True and True\n",
    "False and True\n",
    "1 == 1 and 2 == 1 \n",
    "\"test\" == \"test\"\n",
    "1 == 1 and 2 != 1\n",
    "True and 1 == 1\n",
    "False and 0 != 0\n",
    "True or 1 == 1\n",
    "\"test\" == \"testing\"\n",
    "1 !=0 and 2 == 1\n",
    "\"test\" != \"testing\"\n",
    "\"test\" == 1\n",
    "not (True and False)\n",
    "not (1 == 1 and 0 != 1)\n",
    "not (10 == 1 or 1000 == 1000)\n",
    "not (1 != 10 or 3 == 4)\n",
    "not (\"testing\" == \"testing\" and \"Zed\" == \"Cool Guy\")\n",
    "1 == 1 and (not \"testing\" == 1 or 1 == 0)\n",
    "\"chunky\" == \"bacon\" and (not (3 == 4 or 3 == 3))\n",
    "3 == 3 and (not (\"testing\" == \"testing\" or \"Python\" == \"fun\"))"
   ]
  },
  {
   "cell_type": "code",
   "execution_count": 5,
   "metadata": {},
   "outputs": [
    {
     "data": {
      "text/plain": [
       "True"
      ]
     },
     "execution_count": 5,
     "metadata": {},
     "output_type": "execute_result"
    }
   ],
   "source": [
    "True and True"
   ]
  },
  {
   "cell_type": "code",
   "execution_count": null,
   "metadata": {},
   "outputs": [],
   "source": []
  }
 ],
 "metadata": {
  "kernelspec": {
   "display_name": "Python 3",
   "language": "python",
   "name": "python3"
  },
  "language_info": {
   "codemirror_mode": {
    "name": "ipython",
    "version": 3
   },
   "file_extension": ".py",
   "mimetype": "text/x-python",
   "name": "python",
   "nbconvert_exporter": "python",
   "pygments_lexer": "ipython3",
   "version": "3.7.2"
  }
 },
 "nbformat": 4,
 "nbformat_minor": 2
}
