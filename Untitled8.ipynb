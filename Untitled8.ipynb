{
 "cells": [
  {
   "cell_type": "code",
   "execution_count": 26,
   "metadata": {},
   "outputs": [
    {
     "name": "stdout",
     "output_type": "stream",
     "text": [
      "JohnLennon Tears.txt TearsInHeaven\n"
     ]
    }
   ],
   "source": [
    "song_name = \"TearsInHeaven_JohnLennon_1960_Tears.txt\"\n",
    "new_song_name = (song_name.split(\"_\"))\n",
    "\n",
    "first, second, third, fourth = new_song_name\n",
    "\n",
    "#print(first, second, third, fourth)\n",
    "print(second,fourth,first)\n",
    "    \n",
    "#print(song_name.split(\"_\"))\n",
    "\n"
   ]
  },
  {
   "cell_type": "code",
   "execution_count": null,
   "metadata": {},
   "outputs": [],
   "source": []
  },
  {
   "cell_type": "code",
   "execution_count": null,
   "metadata": {},
   "outputs": [],
   "source": []
  }
 ],
 "metadata": {
  "kernelspec": {
   "display_name": "Python 3",
   "language": "python",
   "name": "python3"
  },
  "language_info": {
   "codemirror_mode": {
    "name": "ipython",
    "version": 3
   },
   "file_extension": ".py",
   "mimetype": "text/x-python",
   "name": "python",
   "nbconvert_exporter": "python",
   "pygments_lexer": "ipython3",
   "version": "3.7.2"
  }
 },
 "nbformat": 4,
 "nbformat_minor": 2
}
