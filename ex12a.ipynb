{
 "cells": [
  {
   "cell_type": "code",
   "execution_count": 10,
   "metadata": {},
   "outputs": [
    {
     "name": "stdout",
     "output_type": "stream",
     "text": [
      "What did you ate today? Banana\n",
      "What else did you eat today? Eggs\n",
      "and? Sandwich\n",
      "What is your plan for tonight? Eat\n",
      "and? Shower\n",
      "what else? Sleep\n",
      "So you ate \n",
      "\t#Banana today, \n",
      "\t#Eggs, \n",
      "\t#Sandwich, \n",
      " Your plans for tonight is to \n",
      "\t#Eat, \n",
      "\t#Shower,\n",
      "\t#Sleep\n"
     ]
    }
   ],
   "source": [
    "ate_today = input(\"What did you ate today? \")\n",
    "ate_today1 = input(\"What else did you eat today? \")\n",
    "ate_today2 = input (\"and? \")\n",
    "\n",
    "tonight_plan = input(\"What is your plan for tonight? \")\n",
    "tonight_plan1 = input(\"and? \")\n",
    "tonight_plan2 = input (\"what else? \")\n",
    "\n",
    "print(f\"So you ate \\n\\t#{ate_today} today, \\n\\t#{ate_today1}, \\n\\t#{ate_today2}, \\n Your plans for tonight is to \\n\\t#{tonight_plan}, \\n\\t#{tonight_plan1},\\n\\t#{tonight_plan2}\")\n",
    "\n",
    "\n",
    "\n"
   ]
  },
  {
   "cell_type": "code",
   "execution_count": null,
   "metadata": {},
   "outputs": [],
   "source": []
  }
 ],
 "metadata": {
  "kernelspec": {
   "display_name": "Python 3",
   "language": "python",
   "name": "python3"
  },
  "language_info": {
   "codemirror_mode": {
    "name": "ipython",
    "version": 3
   },
   "file_extension": ".py",
   "mimetype": "text/x-python",
   "name": "python",
   "nbconvert_exporter": "python",
   "pygments_lexer": "ipython3",
   "version": "3.7.2"
  }
 },
 "nbformat": 4,
 "nbformat_minor": 2
}
