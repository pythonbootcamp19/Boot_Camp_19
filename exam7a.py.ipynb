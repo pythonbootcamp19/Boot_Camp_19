{
 "cells": [
  {
   "cell_type": "code",
   "execution_count": 1,
   "metadata": {},
   "outputs": [
    {
     "name": "stdout",
     "output_type": "stream",
     "text": [
      "Enter your file name? :exam7a.txt\n",
      "Enter line 1: Today is Tuesday\n",
      "Enter line 2: It is a nice day\n",
      "Enter line3: It is cloudy\n",
      "length of the file is, 44\n"
     ]
    }
   ],
   "source": [
    "file_name = input(\"Enter your file name? :\")\n",
    "txt = open(file_name, 'w')\n",
    "\n",
    "line1 = input(\"Enter line 1: \")\n",
    "line2 = input(\"Enter line 2: \")\n",
    "line3 = input(\"Enter line 3: \")\n",
    "\n",
    "txt.write(line1)\n",
    "txt.write(line2)\n",
    "txt.write(line3)\n",
    "\n",
    "txt.close()\n",
    "\n",
    "read_file = open(file_name)\n",
    "reading_file = read_file.read()\n",
    "\n",
    "size_of_file = len(reading_file)\n",
    "\n",
    "print(f\"length of the file is, {size_of_file}\")"
   ]
  },
  {
   "cell_type": "code",
   "execution_count": null,
   "metadata": {},
   "outputs": [],
   "source": []
  }
 ],
 "metadata": {
  "kernelspec": {
   "display_name": "Python 3",
   "language": "python",
   "name": "python3"
  },
  "language_info": {
   "codemirror_mode": {
    "name": "ipython",
    "version": 3
   },
   "file_extension": ".py",
   "mimetype": "text/x-python",
   "name": "python",
   "nbconvert_exporter": "python",
   "pygments_lexer": "ipython3",
   "version": "3.7.2"
  }
 },
 "nbformat": 4,
 "nbformat_minor": 2
}
