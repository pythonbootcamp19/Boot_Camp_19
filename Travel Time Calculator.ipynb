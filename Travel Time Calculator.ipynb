{
 "cells": [
  {
   "cell_type": "code",
   "execution_count": 11,
   "metadata": {},
   "outputs": [
    {
     "name": "stdout",
     "output_type": "stream",
     "text": [
      "Travel Time Calculator\n",
      "\n",
      "\n",
      "Where are you starting from?: Bangalore\n",
      "Where are you going to?: Mumbai\n",
      "What is the distance?: 900\n",
      "What will be your traveling speed?: 60\n",
      "How long will be your break (in minutes)?: 120\n",
      "Your total traveling time will be: 1020.0 min. / 17.0 hrs.\n"
     ]
    }
   ],
   "source": [
    "print(\"Travel Time Calculator\")\n",
    "print('\\n')\n",
    "print(\"Where are you starting from?:\", end=' ')\n",
    "starting_point = input()\n",
    "print(\"Where are you going to?:\", end=' ')\n",
    "destination = input()\n",
    "print(\"What is the distance?:\", end=' ')\n",
    "distance = int(input())\n",
    "print(\"What will be your traveling speed?:\", end=' ')\n",
    "speed = int(input())\n",
    "print(\"How long will be your break (in minutes)?:\", end=' ')\n",
    "break_in_minutes = int(input())\n",
    "travel_time =  distance/speed * 60\n",
    "total_travel_time = travel_time + break_in_minutes\n",
    "total_travel_time_in_hour = total_travel_time / 60\n",
    "print(\"Your total traveling time will be:\", total_travel_time, \"min. /\", total_travel_time_in_hour,\"hrs.\")\n",
    "\n"
   ]
  },
  {
   "cell_type": "code",
   "execution_count": null,
   "metadata": {},
   "outputs": [],
   "source": [
    "\n",
    "\n"
   ]
  }
 ],
 "metadata": {
  "kernelspec": {
   "display_name": "Python 3",
   "language": "python",
   "name": "python3"
  },
  "language_info": {
   "codemirror_mode": {
    "name": "ipython",
    "version": 3
   },
   "file_extension": ".py",
   "mimetype": "text/x-python",
   "name": "python",
   "nbconvert_exporter": "python",
   "pygments_lexer": "ipython3",
   "version": "3.7.2"
  }
 },
 "nbformat": 4,
 "nbformat_minor": 2
}
