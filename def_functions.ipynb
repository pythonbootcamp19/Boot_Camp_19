{
 "cells": [
  {
   "cell_type": "code",
   "execution_count": null,
   "metadata": {},
   "outputs": [],
   "source": [
    "#function ends when unindented\n",
    "# when returning value store it somewhere (Variable)\n",
    "\n",
    "#Steps to run the main function:\n",
    "#call the function\n",
    "#unpack the value\n",
    "#if you want to perform some action with those values perform it and print, and return the result\n",
    "#(or)\n",
    "#print\n",
    "#if you are perfoming some action return the result\n",
    "#you can define/write a function and not have any code in it but we can't leave it blank but if we want \n",
    "#to fill this function later we can use this pass keyword.\n",
    "\n",
    "# def hello_func():\n",
    "#     pass\n"
   ]
  },
  {
   "cell_type": "code",
   "execution_count": 1,
   "metadata": {},
   "outputs": [
    {
     "name": "stdout",
     "output_type": "stream",
     "text": [
      "what is your name?: vik\n",
      "vik\n"
     ]
    }
   ],
   "source": [
    "def ask_name():\n",
    "    name = input(\"what is your name?: \")\n",
    "    return name\n",
    "name = ask_name()\n",
    "print(name)"
   ]
  },
  {
   "cell_type": "code",
   "execution_count": 4,
   "metadata": {},
   "outputs": [
    {
     "name": "stdout",
     "output_type": "stream",
     "text": [
      "14\n"
     ]
    }
   ],
   "source": [
    "def adder(first_no, second_no): # this line define how many variable (or you can say parameters) we need to give\n",
    "        result = first_no + second_no\n",
    "        return result # this line define how many variables it will def doreturn\n",
    "    \n",
    "result = adder(5,9)\n",
    "print(result)"
   ]
  },
  {
   "cell_type": "code",
   "execution_count": 11,
   "metadata": {},
   "outputs": [
    {
     "name": "stdout",
     "output_type": "stream",
     "text": [
      "(15, 5)\n",
      "(25, 15)\n"
     ]
    }
   ],
   "source": [
    "def do_my_calculation(number):\n",
    "    first_result = number + 5\n",
    "    second_result = number - 5\n",
    "\n",
    "    return first_result, second_result\n",
    "\n",
    "print(do_my_calculation(10))\n",
    "print(do_my_calculation(20))\n",
    "#first, second = do_my_calculation(10) # in this example 15 is saved in first and 5 is saved in second. It's called unpacking\n"
   ]
  },
  {
   "cell_type": "code",
   "execution_count": 5,
   "metadata": {},
   "outputs": [],
   "source": [
    "# #you can define/write a function and not have any code in it but we can't leave it blank but if we want \n",
    "# to fill this function later we can use this pass keyword.\n",
    "def hello_func():\n",
    "    pass\n",
    "hello_func() # to call/run/or execute the function type the function name with ()"
   ]
  },
  {
   "cell_type": "code",
   "execution_count": 10,
   "metadata": {
    "scrolled": true
   },
   "outputs": [
    {
     "name": "stdout",
     "output_type": "stream",
     "text": [
      "(6, -4)\n"
     ]
    },
    {
     "data": {
      "text/plain": [
       "(6, -4)"
      ]
     },
     "execution_count": 10,
     "metadata": {},
     "output_type": "execute_result"
    }
   ],
   "source": [
    "number = 1\n",
    "def do_my_calculation(number):\n",
    "    first_result = number + 5\n",
    "    second_result = number - 5\n",
    "\n",
    "    return first_result, second_result\n",
    "\n",
    "print(do_my_calculation(number))\n",
    "#print(do_my_calculation(number))\n",
    "do_my_calculation(number) "
   ]
  },
  {
   "cell_type": "code",
   "execution_count": null,
   "metadata": {},
   "outputs": [],
   "source": []
  }
 ],
 "metadata": {
  "kernelspec": {
   "display_name": "Python 3",
   "language": "python",
   "name": "python3"
  },
  "language_info": {
   "codemirror_mode": {
    "name": "ipython",
    "version": 3
   },
   "file_extension": ".py",
   "mimetype": "text/x-python",
   "name": "python",
   "nbconvert_exporter": "python",
   "pygments_lexer": "ipython3",
   "version": "3.7.2"
  }
 },
 "nbformat": 4,
 "nbformat_minor": 2
}
