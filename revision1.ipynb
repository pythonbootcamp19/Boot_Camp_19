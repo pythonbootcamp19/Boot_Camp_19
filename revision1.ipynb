{
 "cells": [
  {
   "cell_type": "code",
   "execution_count": null,
   "metadata": {},
   "outputs": [],
   "source": [
    "#file path for this file: /Users/vikshah/Desktop/Python Bootcamp/revision1"
   ]
  },
  {
   "cell_type": "code",
   "execution_count": null,
   "metadata": {},
   "outputs": [],
   "source": [
    "#https://programmingwithmosh.com/python/python-3-cheat-sheet/"
   ]
  },
  {
   "cell_type": "code",
   "execution_count": 182,
   "metadata": {},
   "outputs": [
    {
     "name": "stdout",
     "output_type": "stream",
     "text": [
      "1 1.1 a True\n"
     ]
    }
   ],
   "source": [
    "#Variables\n",
    "\n",
    "a = 1 #integer\n",
    "b = 1.1 # float\n",
    "c = \"a\" #string\n",
    "d = True #boolean(True/False)\n",
    "\n",
    "print(a,b,c,d)"
   ]
  },
  {
   "cell_type": "code",
   "execution_count": 8,
   "metadata": {},
   "outputs": [
    {
     "name": "stdout",
     "output_type": "stream",
     "text": [
      "6\n",
      "P\n",
      "n\n",
      "Pyt\n"
     ]
    }
   ],
   "source": [
    "#Strings\n",
    "\n",
    "x = \"Python\"\n",
    "\n",
    "print(len(x))\n",
    "print(x[0])\n",
    "print(x[-1])\n",
    "print(x[0:3])\n"
   ]
  },
  {
   "cell_type": "code",
   "execution_count": 9,
   "metadata": {},
   "outputs": [
    {
     "name": "stdout",
     "output_type": "stream",
     "text": [
      "John Smith\n"
     ]
    }
   ],
   "source": [
    "#Formatted strings\n",
    "first = \"John\"\n",
    "last = \"Smith\"\n",
    "name = f\"{first} {last}\"\n",
    "print(name)"
   ]
  },
  {
   "cell_type": "code",
   "execution_count": 13,
   "metadata": {},
   "outputs": [],
   "source": [
    "#Escape Sequences\n",
    "#\\\" \\' \\\\ \\n"
   ]
  },
  {
   "cell_type": "code",
   "execution_count": 28,
   "metadata": {},
   "outputs": [
    {
     "name": "stdout",
     "output_type": "stream",
     "text": [
      "mython\n"
     ]
    }
   ],
   "source": [
    "#string methods\n",
    "x = \"python\"\n",
    "\n",
    "# print(x.upper())\n",
    "# print(x.lower())\n",
    "# print(x.title())\n",
    "# print(x.strip())\n",
    "# print(x.find(\"p\"))\n",
    "print(x.replace(\"p\",\"m\"))"
   ]
  },
  {
   "cell_type": "code",
   "execution_count": 183,
   "metadata": {},
   "outputs": [
    {
     "name": "stdout",
     "output_type": "stream",
     "text": [
      "10\n",
      "10.0\n",
      "True\n"
     ]
    }
   ],
   "source": [
    "#Type Conversion\n",
    "x = 10\n",
    "print(int(x))\n",
    "print(float(x))\n",
    "print(bool(x))\n",
    "#print(string(x))"
   ]
  },
  {
   "cell_type": "code",
   "execution_count": 38,
   "metadata": {},
   "outputs": [
    {
     "data": {
      "text/plain": [
       "[]"
      ]
     },
     "execution_count": 38,
     "metadata": {},
     "output_type": "execute_result"
    }
   ],
   "source": [
    "#Falsy Values\n",
    "0\n",
    "\"\"\n",
    "[]"
   ]
  },
  {
   "cell_type": "code",
   "execution_count": 50,
   "metadata": {},
   "outputs": [
    {
     "name": "stdout",
     "output_type": "stream",
     "text": [
      "c\n"
     ]
    }
   ],
   "source": [
    "#Conditional Statements\n",
    "x = 5\n",
    "if x == 1:\n",
    "    print(\"a\")\n",
    "elif x == 3:\n",
    "    print(\"b\")\n",
    "else:\n",
    "    print(\"c\")"
   ]
  },
  {
   "cell_type": "code",
   "execution_count": 56,
   "metadata": {},
   "outputs": [
    {
     "name": "stdout",
     "output_type": "stream",
     "text": [
      "Major\n"
     ]
    }
   ],
   "source": [
    "#Chaining comparison operators\n",
    "\n",
    "age = 50\n",
    "if age <= 65:\n",
    "    print(\"Major\")\n",
    "else:\n",
    "    print(\"Senior\")          "
   ]
  },
  {
   "cell_type": "code",
   "execution_count": 58,
   "metadata": {},
   "outputs": [
    {
     "name": "stdout",
     "output_type": "stream",
     "text": [
      "0\n",
      "1\n",
      "2\n",
      "3\n",
      "4\n",
      "5\n",
      "6\n",
      "7\n",
      "8\n",
      "9\n"
     ]
    }
   ],
   "source": [
    "#Loops\n",
    "\n",
    "for n in range(0,10):\n",
    "    print(n)"
   ]
  },
  {
   "cell_type": "code",
   "execution_count": 98,
   "metadata": {},
   "outputs": [
    {
     "name": "stdout",
     "output_type": "stream",
     "text": [
      "n: 0 -- 2\n",
      "n: 2 -- 2\n",
      "n: 4 -- 2\n",
      "n: 6 -- 2\n",
      "n: 8 -- 2\n",
      "0\n",
      "1\n",
      "2\n",
      "3\n",
      "4\n",
      "5\n",
      "6\n",
      "7\n",
      "8\n",
      "9\n"
     ]
    }
   ],
   "source": [
    "# For Loops\n",
    "a = 2\n",
    "for n in range(0,10,2):\n",
    "    print(f\"n: {n} -- {a}\")\n",
    "    \n",
    "for n in range(0,10):\n",
    "    print(n)"
   ]
  },
  {
   "cell_type": "code",
   "execution_count": 101,
   "metadata": {},
   "outputs": [
    {
     "name": "stdout",
     "output_type": "stream",
     "text": [
      "0\n",
      "1\n",
      "2\n",
      "3\n",
      "4\n",
      "5\n",
      "6\n",
      "7\n",
      "8\n",
      "9\n"
     ]
    }
   ],
   "source": [
    "# While Loops\n",
    "z = 0\n",
    "while z <10:\n",
    "    print(z)\n",
    "    z = z + 1"
   ]
  },
  {
   "cell_type": "code",
   "execution_count": 131,
   "metadata": {},
   "outputs": [
    {
     "data": {
      "text/plain": [
       "4"
      ]
     },
     "execution_count": 131,
     "metadata": {},
     "output_type": "execute_result"
    }
   ],
   "source": [
    "# Functions\n",
    "def increment(number, by=1):\n",
    "    return number + by\n",
    "\n",
    "increment(number, by=1)\n",
    "\n",
    "#Keyword arguments\n",
    "increment(3, by=1)"
   ]
  },
  {
   "cell_type": "code",
   "execution_count": 130,
   "metadata": {},
   "outputs": [
    {
     "name": "stdout",
     "output_type": "stream",
     "text": [
      "1\n",
      "2\n",
      "3\n",
      "4\n"
     ]
    }
   ],
   "source": [
    "#Variable number of arguments:\n",
    "def multiply(*numbers):\n",
    "    for number in numbers:\n",
    "        print(number)\n",
    "        \n",
    "multiply(1,2,3,4)"
   ]
  },
  {
   "cell_type": "code",
   "execution_count": 141,
   "metadata": {},
   "outputs": [],
   "source": [
    "#Variable number of keyword arguments\n",
    "def save_user(**user):\n",
    "\n",
    "save_user(id=1,name=\"John\")"
   ]
  },
  {
   "cell_type": "code",
   "execution_count": 147,
   "metadata": {},
   "outputs": [
    {
     "name": "stdout",
     "output_type": "stream",
     "text": [
      "['a', 'b', 'c']\n",
      "[0, 1, 2, 3]\n",
      "[[0, 1], [2, 3]]\n",
      "[0, 0, 0, 0, 0]\n",
      "[0, 0, 0, 0, 0, 'a', 'b', 'c']\n",
      "[0, 1, 2, 3, 4, 5, 6, 7, 8, 9, 10, 11, 12, 13, 14, 15, 16, 17, 18, 19]\n"
     ]
    }
   ],
   "source": [
    "#Lists\n",
    "#Creating Lists\n",
    "letters = [\"a\",\"b\",\"c\"]\n",
    "matrix = [0,1,2,3]\n",
    "matrix1 = [[0,1],[2,3]]\n",
    "zeros = [0]*5\n",
    "combined = zeros + letters\n",
    "numbers = list(range(20))\n",
    "\n",
    "print(letters)\n",
    "print(matrix)\n",
    "print(matrix1)\n",
    "print(zeros)\n",
    "print(combined)\n",
    "print(numbers)"
   ]
  },
  {
   "cell_type": "code",
   "execution_count": 163,
   "metadata": {},
   "outputs": [
    {
     "name": "stdout",
     "output_type": "stream",
     "text": [
      "a\n",
      "d\n"
     ]
    }
   ],
   "source": [
    "#Accessing items\n",
    "letters = [\"a\",\"b\",\"c\",\"d\"]\n",
    "print(letters[0])\n",
    "print(letters[-1])"
   ]
  },
  {
   "cell_type": "code",
   "execution_count": 35,
   "metadata": {},
   "outputs": [
    {
     "name": "stdout",
     "output_type": "stream",
     "text": [
      "['a', 'b', 'c']\n",
      "['a', 'b', 'c']\n",
      "['a', 'b', 'c', 'd', 'e', 'f']\n",
      "['a', 'b', 'c', 'd', 'e', 'f']\n",
      "['a', 'c', 'e']\n",
      "['f', 'e', 'd', 'c', 'b', 'a']\n",
      "\n",
      "\n"
     ]
    }
   ],
   "source": [
    "#slicing lists\n",
    "letters = [\"a\",\"b\",\"c\",\"d\",\"e\",\"f\"]\n",
    "\n",
    "print(letters[0:3])\n",
    "print(letters[:3])\n",
    "print(letters[0:])\n",
    "print(letters[:])\n",
    "print(letters[::2])\n",
    "print(letters[::-1])\n",
    "#print(letters[]) #invalid syntax\n",
    "print(\"\\n\")"
   ]
  },
  {
   "cell_type": "code",
   "execution_count": 37,
   "metadata": {},
   "outputs": [
    {
     "name": "stdout",
     "output_type": "stream",
     "text": [
      "a\n",
      "b\n",
      "c d e f\n"
     ]
    }
   ],
   "source": [
    "#Unpacking\n",
    "\n",
    "letters = [\"a\",\"b\",\"c\",\"d\",\"e\",\"f\"]\n",
    "\n",
    "first,second,*other = letters\n",
    "\n",
    "print(first)\n",
    "print(second)\n",
    "print(*other)\n"
   ]
  },
  {
   "cell_type": "code",
   "execution_count": 64,
   "metadata": {},
   "outputs": [
    {
     "name": "stdout",
     "output_type": "stream",
     "text": [
      "a\n",
      "b\n",
      "c\n",
      "d\n",
      "\n",
      "\n",
      "4\n",
      "\n",
      "\n",
      "a\n",
      "b\n",
      "c\n",
      "d\n",
      "\n",
      "\n",
      "['a', 'b', 'c', 'd']\n"
     ]
    }
   ],
   "source": [
    "#Looping over list\n",
    "\n",
    "letters = [\"a\",\"b\",\"c\",\"d\"]\n",
    "\n",
    "for i in letters:\n",
    "     print(i)\n",
    "print(\"\\n\")\n",
    "\n",
    "a = letters\n",
    "\n",
    "print(len(a))\n",
    "print(\"\\n\")\n",
    "\n",
    "for a in range(0,len(a)):\n",
    "    print(letters[a])\n",
    "\n",
    "print(\"\\n\")\n",
    "\n",
    "print(letters)\n",
    "\n",
    "    "
   ]
  },
  {
   "cell_type": "code",
   "execution_count": 70,
   "metadata": {},
   "outputs": [
    {
     "name": "stdout",
     "output_type": "stream",
     "text": [
      "0 a\n",
      "1 b\n",
      "2 c\n",
      "3 d\n"
     ]
    }
   ],
   "source": [
    "#Enumerate\n",
    "\n",
    "letters = [\"a\",\"b\",\"c\",\"d\"]\n",
    "\n",
    "for index, letter in enumerate(letters):\n",
    "    print(index, letter)\n"
   ]
  },
  {
   "cell_type": "code",
   "execution_count": 75,
   "metadata": {},
   "outputs": [
    {
     "name": "stdout",
     "output_type": "stream",
     "text": [
      "['a', 'b', 'c', 'e']\n",
      "\n",
      "\n",
      "['-', 'a', 'b', 'c', 'e']\n",
      "['-', 'a', '>', 'b', 'c', 'e']\n"
     ]
    }
   ],
   "source": [
    "#Adding items\n",
    "letters = [\"a\",\"b\",\"c\"]\n",
    "letters.append(\"e\")\n",
    "print(letters)\n",
    "print(\"\\n\")\n",
    "\n",
    "letters.insert(0,\"-\")\n",
    "print(letters)\n",
    "letters.insert(2,\">\")\n",
    "print(letters)"
   ]
  },
  {
   "cell_type": "code",
   "execution_count": 83,
   "metadata": {},
   "outputs": [
    {
     "name": "stdout",
     "output_type": "stream",
     "text": [
      "['a', 'b', 'c', 'd', 'e', 'f', 'g']\n",
      "['b', 'c', 'd', 'e', 'f', 'g']\n",
      "['c', 'd', 'e', 'f', 'g']\n"
     ]
    }
   ],
   "source": [
    "#Removing items\n",
    "letters = [\"a\",\"b\",\"c\",\"d\",\"e\",\"f\",\"g\",\"h\"]\n",
    "\n",
    "#by default it'll pop the last item in the list\n",
    "letters.pop()\n",
    "print(letters)\n",
    "\n",
    "#it'll pop the first item in the list\n",
    "letters.pop(0)\n",
    "print(letters)\n",
    "\n",
    "letters.remove(\"b\")\n",
    "print(letters)"
   ]
  },
  {
   "cell_type": "code",
   "execution_count": 84,
   "metadata": {},
   "outputs": [
    {
     "name": "stdout",
     "output_type": "stream",
     "text": [
      "['d', 'e', 'f', 'g', 'h']\n"
     ]
    }
   ],
   "source": [
    "#Removing items\n",
    "#Deleting items\n",
    "\n",
    "letters = [\"a\",\"b\",\"c\",\"d\",\"e\",\"f\",\"g\",\"h\"]\n",
    "del letters[0:3]\n",
    "print(letters)"
   ]
  },
  {
   "cell_type": "code",
   "execution_count": 89,
   "metadata": {},
   "outputs": [],
   "source": [
    "#Finding items\n",
    "\n",
    "letters = [\"a\",\"b\",\"c\",\"d\",\"e\",\"f\",\"g\",\"h\"]\n",
    "\n",
    "if \"f\" in letters:\n",
    "    letters.index(\"f\")\n"
   ]
  },
  {
   "cell_type": "code",
   "execution_count": 102,
   "metadata": {},
   "outputs": [
    {
     "name": "stdout",
     "output_type": "stream",
     "text": [
      "['d', 'h', 'c', 'a', 'e', 'f', 'g', 'b']\n",
      "['b', 'g', 'f', 'e', 'a', 'c', 'h', 'd']\n",
      "['a', 'b', 'c', 'd', 'e', 'f', 'g', 'h']\n",
      "['h', 'g', 'f', 'e', 'd', 'c', 'b', 'a']\n"
     ]
    }
   ],
   "source": [
    "#Sorting lists\n",
    "letters = [\"d\",\"h\",\"c\",\"a\",\"e\",\"f\",\"g\",\"b\"]\n",
    "print(letters)\n",
    "\n",
    "letters.reverse()\n",
    "print(letters)\n",
    "\n",
    "letters.sort()\n",
    "print(letters)\n",
    "\n",
    "#In the below function \n",
    "#it'll sort the list first and then reverse the list\n",
    "letters.sort(reverse=True)\n",
    "print(letters)"
   ]
  },
  {
   "cell_type": "code",
   "execution_count": 104,
   "metadata": {},
   "outputs": [
    {
     "name": "stdout",
     "output_type": "stream",
     "text": [
      "[('Product2', 9), ('Product1', 10), ('Product3', 11)]\n"
     ]
    }
   ],
   "source": [
    "#Custom sorting\n",
    "items = [\n",
    "    (\"Product1\", 10),\n",
    "    (\"Product2\", 9),\n",
    "    (\"Product3\", 11)\n",
    "]\n",
    "items.sort(key=lambda item:item[1])\n",
    "print(items)"
   ]
  },
  {
   "cell_type": "code",
   "execution_count": 113,
   "metadata": {},
   "outputs": [
    {
     "name": "stdout",
     "output_type": "stream",
     "text": [
      "[9, 10, 11]\n",
      "[('Product1', 10), ('Product3', 11)]\n"
     ]
    }
   ],
   "source": [
    "#Map and filter\n",
    "items = [\n",
    "    (\"Product1\", 10),\n",
    "    (\"Product2\", 9),\n",
    "    (\"Product3\", 11)\n",
    "]\n",
    "items.sort(key=lambda item:item[1])\n",
    "\n",
    "#Map and filter\n",
    "prices = list(map(lambda item: item[1], items))\n",
    "expensive_items = list(filter(lambda item:item[1] >=10, items))\n",
    "\n",
    "print(prices)\n",
    "print(expensive_items)\n"
   ]
  },
  {
   "cell_type": "code",
   "execution_count": 119,
   "metadata": {},
   "outputs": [
    {
     "name": "stdout",
     "output_type": "stream",
     "text": [
      "[9, 10, 11]\n",
      "[('Product1', 10), ('Product3', 11)]\n"
     ]
    }
   ],
   "source": [
    "items = [\n",
    "    (\"Product1\", 10),\n",
    "    (\"Product2\", 9),\n",
    "    (\"Product3\", 11)\n",
    "]\n",
    "items.sort(key=lambda item:item[1])\n",
    "\n",
    "#List comprehensions\n",
    "prices = [item[1] for item in items]\n",
    "expensive_items = [item for item in items if item[1] >= 10]\n",
    "\n",
    "\n",
    "print(prices)\n",
    "print(expensive_items)\n"
   ]
  },
  {
   "cell_type": "code",
   "execution_count": 124,
   "metadata": {},
   "outputs": [
    {
     "name": "stdout",
     "output_type": "stream",
     "text": [
      "[(1, 10), (2, 20), (3, 30)]\n"
     ]
    }
   ],
   "source": [
    "#Zip function\n",
    "\n",
    "list1 = [1,2,3]\n",
    "list2 = [10,20,30]\n",
    "combined = list(zip(list1, list2))\n",
    "print(combined)"
   ]
  },
  {
   "cell_type": "code",
   "execution_count": 143,
   "metadata": {},
   "outputs": [
    {
     "name": "stdout",
     "output_type": "stream",
     "text": [
      "1 2 3\n"
     ]
    }
   ],
   "source": [
    "# Tuples (very rarely used)\n",
    "\n",
    "point = (1,2,3)\n",
    "#point(0:2) #1,2\n",
    "x,y,z = point\n",
    "print(x,y,z)"
   ]
  },
  {
   "cell_type": "code",
   "execution_count": 148,
   "metadata": {},
   "outputs": [
    {
     "name": "stdout",
     "output_type": "stream",
     "text": [
      "array('i', [1, 2, 3])\n",
      "\n",
      "\n",
      "1\n"
     ]
    }
   ],
   "source": [
    "# Arrays\n",
    "\n",
    "from array import array\n",
    "numbers = array(\"i\",[1,2,3])\n",
    "print(numbers)\n",
    "print(\"\\n\")\n",
    "print(numbers[0])"
   ]
  },
  {
   "cell_type": "code",
   "execution_count": 152,
   "metadata": {},
   "outputs": [],
   "source": [
    "#Sets\n",
    "#Read about how sets work\n",
    "\n",
    "# first = {1,2,3,4}\n",
    "# second = {1,5}\n",
    "\n",
    "# first | second\n",
    "# first & second\n",
    "# first - second\n",
    "# first ^ second\n",
    "\n",
    "# if 1 in first:\n"
   ]
  },
  {
   "cell_type": "code",
   "execution_count": 176,
   "metadata": {},
   "outputs": [
    {
     "name": "stdout",
     "output_type": "stream",
     "text": [
      "correct\n",
      "y 2\n",
      "z 3\n",
      "{0: 0, 1: 2, 2: 4, 3: 6, 4: 8}\n"
     ]
    }
   ],
   "source": [
    "#Dictionaries\n",
    "#You can define keys and values couple of different ways\n",
    "point = {\"x\":1, \"y\": 2}\n",
    "point = dict(x=1, y=2)\n",
    "point[\"z\"] = 3\n",
    "if \"z\" in point:\n",
    "    print(\"correct\")\n",
    "else:\n",
    "    print(\"incorrect\")\n",
    "#point.get(\"a\",0) - not sure what this particular line of code doing\n",
    "del point[\"x\"] #it'll delete key x and it's value\n",
    "for key, value in point.items():\n",
    "    print(key,value)\n",
    "\n",
    "#Dictionary comprehensions\n",
    "values = {x:x*2 for x in range(5)}\n",
    "print(values)"
   ]
  },
  {
   "cell_type": "code",
   "execution_count": 5,
   "metadata": {},
   "outputs": [
    {
     "name": "stdout",
     "output_type": "stream",
     "text": [
      "0\n",
      "2\n",
      "4\n",
      "6\n",
      "8\n",
      "10\n",
      "12\n",
      "14\n",
      "16\n",
      "18\n"
     ]
    }
   ],
   "source": [
    "#Generator Expressions\n",
    "\n",
    "values = (x * 2 for x in range(10))\n",
    "#len(values) # Error\n",
    "for x in values:    \n",
    "    print(x)"
   ]
  },
  {
   "cell_type": "code",
   "execution_count": 2,
   "metadata": {},
   "outputs": [
    {
     "name": "stdout",
     "output_type": "stream",
     "text": [
      "[1, 2, 3]\n",
      "[4, 5, 6]\n",
      "[1, 2, 3, 'a', 4, 5, 6]\n"
     ]
    }
   ],
   "source": [
    "#Unpacking Operator\n",
    "\n",
    "first = [1,2,3]\n",
    "second = [4,5,6]\n",
    "combined = [*first, \"a\", *second]\n",
    "\n",
    "print(first)\n",
    "print(second)\n",
    "print(combined)"
   ]
  },
  {
   "cell_type": "code",
   "execution_count": 13,
   "metadata": {},
   "outputs": [
    {
     "name": "stdout",
     "output_type": "stream",
     "text": [
      "{'x': 1}\n",
      "{'y': 2}\n",
      "{'x': 1, 'y': 2}\n",
      "{'y', 'x'}\n"
     ]
    }
   ],
   "source": [
    "#Unpacking Operator\n",
    "\n",
    "a = {\"x\": 1}\n",
    "b = {\"y\": 2}\n",
    "ab = {**a, **b}\n",
    "ab1 = {*a,*b} #why it's printing 'y' first?\n",
    "\n",
    "print(a)\n",
    "print(b)\n",
    "print(ab)\n",
    "print(ab1)"
   ]
  },
  {
   "cell_type": "code",
   "execution_count": null,
   "metadata": {},
   "outputs": [],
   "source": [
    "#Exceptions\n",
    "\n",
    "#Handling Exceptions\n",
    "try:\n",
    "except #(ValueError, ZeroDivisionError):\n",
    "else:\n",
    "    #no exceptions raised\n",
    "finally:\n",
    "    #cleanup code\n",
    "#Raising exceptions\n",
    "if x < 1:\n",
    "    raise ValueError(\"...\")\n",
    "#That with statement\n",
    "with open(\"file.txt\") as file:\n",
    "    "
   ]
  },
  {
   "cell_type": "code",
   "execution_count": null,
   "metadata": {},
   "outputs": [],
   "source": [
    "#Classes\n",
    "\n",
    "#Creating classes\n",
    "\n",
    "class Point:\n",
    "    def_init_(self,x,y):\n",
    "        self.x = x\n",
    "        self.y = y\n",
    "        def draw(self):\n",
    "            \n",
    "# Instance vs class attributes\n",
    "class Point: \n",
    "    default_color = “red”\n",
    " \n",
    "    def __init__(self, x, y):  ",
    "        \n",
    "        self.x = x\n",
    "\n",
    "# Instance vs class methods\n",
    "\n",
    "class Point: \n",
    "    def draw(self):  ",
    "       \n",
    "        …\n",
    "     \n",
    "    @classmethod\n",
    "    def zero(cls):  ",
    "        \n",
    "        return cls(0, 0)\n",
    " \n",
    " \n",
    "# Magic methods\n",
    "__str__()\n",
    " ",
    "__eq__()\n",
    "__cmp__()\n",
    "... \n",
    " \n",
    "# Private members \n",
    "class Point: \n",
    "    def __init__(self, x):  ",
    "        \n",
    "        self.__x = x\n",
    " \n",
    " \n",
    "# Properties \n",
    "class Point: \n",
    "    def __init__(self, x):  ",
    "        \n",
    "        self.__x = x\n",
    " \n",
    "    @property\n",
    "    def x(self):    \n",
    "        return self.__x     \n",
    " \n",
    "    @property.setter:\n",
    "    def x.setter(self, value): \n",
    "        self.__x = value  ",
    "\n",
    "\n",
    "# Inheritance\n",
    "class FileStream(Stream): \n",
    "    def open(self):  ",
    "       \n",
    "         super().open()\n",
    "         … \n",
    "\n",
    "# Multiple inheritance \n",
    "class FlyingFish(Flyer, Swimmer): \n",
    "    … \n",
    "\n",
    "# Abstract base classes\n",
    "from abc import ABC, abstractmethod\n",
    " \n",
    "class Stream(ABC): \n",
    "    @abstractmethod\n",
    "    def read(self): \n",
    "        pass \n",
    "\n",
    "# Named tuples \n",
    "\n",
    "from collections import namedtuple\n",
    " \n",
    "Point = namedtuple(“Point”, [“x”, “y”])\n",
    "point = Point(x=1, y=2)"
   ]
  }
 ],
 "metadata": {
  "kernelspec": {
   "display_name": "Python 3",
   "language": "python",
   "name": "python3"
  },
  "language_info": {
   "codemirror_mode": {
    "name": "ipython",
    "version": 3
   },
   "file_extension": ".py",
   "mimetype": "text/x-python",
   "name": "python",
   "nbconvert_exporter": "python",
   "pygments_lexer": "ipython3",
   "version": "3.7.2"
  }
 },
 "nbformat": 4,
 "nbformat_minor": 2
}
