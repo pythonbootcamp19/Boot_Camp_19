{
 "cells": [
  {
   "cell_type": "code",
   "execution_count": 86,
   "metadata": {},
   "outputs": [
    {
     "data": {
      "text/plain": [
       "'Handbook of Clinical Drug Data'"
      ]
     },
     "execution_count": 86,
     "metadata": {},
     "output_type": "execute_result"
    }
   ],
   "source": [
    "import json\n",
    "import requests\n",
    "\n",
    "def book_name():\n",
    "    get_url = \"http://gen.lib.rus.ec/json.php?ids=1&fields=Title,Author,MD5\"\n",
    "    send_request = requests.get(get_url)\n",
    "    get_content = send_request.content\n",
    "    load_json_content = json.loads(get_content)\n",
    "    name_of_books = load_json_content[0]['title']\n",
    "    return name_of_books\n",
    "\n",
    "book_name()"
   ]
  },
  {
   "cell_type": "code",
   "execution_count": 88,
   "metadata": {},
   "outputs": [
    {
     "name": "stdout",
     "output_type": "stream",
     "text": [
      "ids=9\n"
     ]
    }
   ],
   "source": [
    "book_list = []\n",
    "\n",
    "book_names = get_url\n",
    "book_list = book_names\n",
    "#book_ids = book_name.split('?')\n",
    "print(book_list[31:36])\n",
    "\n",
    "# for i in booklist:\n",
    "#     print(i)"
   ]
  },
  {
   "cell_type": "code",
   "execution_count": null,
   "metadata": {},
   "outputs": [],
   "source": []
  },
  {
   "cell_type": "code",
   "execution_count": null,
   "metadata": {},
   "outputs": [],
   "source": []
  }
 ],
 "metadata": {
  "kernelspec": {
   "display_name": "Python 3",
   "language": "python",
   "name": "python3"
  },
  "language_info": {
   "codemirror_mode": {
    "name": "ipython",
    "version": 3
   },
   "file_extension": ".py",
   "mimetype": "text/x-python",
   "name": "python",
   "nbconvert_exporter": "python",
   "pygments_lexer": "ipython3",
   "version": "3.7.2"
  }
 },
 "nbformat": 4,
 "nbformat_minor": 2
}
