{
 "cells": [
  {
   "cell_type": "code",
   "execution_count": 7,
   "metadata": {},
   "outputs": [
    {
     "name": "stdout",
     "output_type": "stream",
     "text": [
      "Castle in the Sky - 1986\n",
      "The orphan Sheeta inherited a mysterious crystal that links her to the mythical sky-kingdom of Laputa. With the help of resourceful Pazu and a rollicking band of sky pirates, she makes her way to the ruins of the once-great civilization. Sheeta and Pazu must outwit the evil Muska, who plans to use Laputa's science to make himself ruler of the world.\n"
     ]
    }
   ],
   "source": [
    "#Studio Ghibli API\n",
    "#http://ghibliapi.herokuapp.com/\n",
    "\n",
    "#urlib2 Python library\n",
    "\n",
    "import requests\n",
    "import json\n",
    "\n",
    "url_for_films = \"https://ghibliapi.herokuapp.com/films\"\n",
    "\n",
    "films_json_data = requests.get(url_for_films).content\n",
    "\n",
    "films_data = json.loads(films_json_data)\n",
    "\n",
    "film_details = films_data[0]\n",
    "#print(film_details)\n",
    "print(f'{film_details[\"title\"]} - {film_details[\"release_date\"]}')\n",
    "print(film_details[\"description\"])\n",
    "\n",
    "#print(url_for_films)"
   ]
  },
  {
   "cell_type": "code",
   "execution_count": 8,
   "metadata": {},
   "outputs": [
    {
     "name": "stdout",
     "output_type": "stream",
     "text": [
      "{'id': '2baf70d1-42bb-4437-b551-e5fed5a87abe', 'title': 'Castle in the Sky', 'description': \"The orphan Sheeta inherited a mysterious crystal that links her to the mythical sky-kingdom of Laputa. With the help of resourceful Pazu and a rollicking band of sky pirates, she makes her way to the ruins of the once-great civilization. Sheeta and Pazu must outwit the evil Muska, who plans to use Laputa's science to make himself ruler of the world.\", 'director': 'Hayao Miyazaki', 'producer': 'Isao Takahata', 'release_date': '1986', 'rt_score': '95', 'people': ['https://ghibliapi.herokuapp.com/people/'], 'species': ['https://ghibliapi.herokuapp.com/species/af3910a6-429f-4c74-9ad5-dfe1c4aa04f2'], 'locations': ['https://ghibliapi.herokuapp.com/locations/'], 'vehicles': ['https://ghibliapi.herokuapp.com/vehicles/'], 'url': 'https://ghibliapi.herokuapp.com/films/2baf70d1-42bb-4437-b551-e5fed5a87abe'}\n"
     ]
    }
   ],
   "source": [
    "print(films_data[0])"
   ]
  },
  {
   "cell_type": "code",
   "execution_count": 13,
   "metadata": {},
   "outputs": [
    {
     "name": "stdout",
     "output_type": "stream",
     "text": [
      "20\n",
      "Castle in the Sky\n",
      "Grave of the Fireflies\n",
      "My Neighbor Totoro\n",
      "Kiki's Delivery Service\n",
      "Only Yesterday\n",
      "Porco Rosso\n",
      "Pom Poko\n",
      "Whisper of the Heart\n",
      "Princess Mononoke\n",
      "My Neighbors the Yamadas\n",
      "Spirited Away\n",
      "The Cat Returns\n",
      "Howl's Moving Castle\n",
      "Tales from Earthsea\n",
      "Ponyo\n",
      "Arrietty\n",
      "From Up on Poppy Hill\n",
      "The Wind Rises\n",
      "The Tale of the Princess Kaguya\n",
      "When Marnie Was There\n"
     ]
    }
   ],
   "source": [
    "print(len(films_data))\n",
    "for film in films_data:\n",
    "    print(film[\"title\"])\n",
    "    "
   ]
  },
  {
   "cell_type": "code",
   "execution_count": 49,
   "metadata": {},
   "outputs": [
    {
     "name": "stdout",
     "output_type": "stream",
     "text": [
      "Ashitaka - Human - Male - Princess Mononoke\n",
      "San - Human - Female - Princess Mononoke\n",
      "Eboshi - Human - Female - Princess Mononoke\n",
      "Jigo - Human - Male - Princess Mononoke\n",
      "Kohroku - Human - Male - Princess Mononoke\n",
      "Gonza - Human - Male - Princess Mononoke\n",
      "Hii-sama - Human - Female - Princess Mononoke\n",
      "Yakul - Deer - Male - Princess Mononoke\n",
      "Shishigami - Deer - Male - Princess Mononoke\n",
      "Moro - God - Female - Princess Mononoke\n",
      "Jiji - Cat - Male - Kiki's Delivery Service\n",
      "Satsuki Kusakabe - Human - Female - My Neighbor Totoro\n",
      "Mei Kusakabe - Human - Female - My Neighbor Totoro\n",
      "Tatsuo Kusakabe - Human - Male - My Neighbor Totoro\n",
      "Yasuko Kusakabe - Human - Female - My Neighbor Totoro\n",
      "Granny - Human - Female - My Neighbor Totoro\n",
      "Kanta Ogaki - Human - Male - My Neighbor Totoro\n",
      "Totoro - Totoro - NA - My Neighbor Totoro\n",
      "Chu Totoro - Totoro - NA - My Neighbor Totoro\n",
      "Chibi Totoro - Totoro - NA - My Neighbor Totoro\n",
      "Catbus - Cat - Male - My Neighbor Totoro\n",
      "Niya - Cat - Male - Arrietty\n",
      "Renaldo Moon aka Moon aka Muta - Cat - Male - The Cat Returns\n",
      "Renaldo Moon aka Moon aka Muta - Cat - Male - Whisper of the Heart\n",
      "Cat King - Cat - Male - The Cat Returns\n",
      "Yuki - Cat - Female - The Cat Returns\n",
      "Haru - Cat - Female - The Cat Returns\n",
      "Baron Humbert von Gikkingen - Cat - Male - Whisper of the Heart\n",
      "Baron Humbert von Gikkingen - Cat - Male - The Cat Returns\n",
      "Natori - Cat - Male - The Cat Returns\n",
      "Colonel Muska - Human - Male - Castle in the Sky\n",
      "Porco Rosso - Human - Male - Porco Rosso\n",
      "Sosuke - Human - Male - Ponyo\n"
     ]
    }
   ],
   "source": [
    "import json\n",
    "import requests\n",
    "\n",
    "species_id = \"https://ghibliapi.herokuapp.com/species/af3910a6-429f-4c74-9ad5-dfe1c4aa04f2\"\n",
    "\n",
    "url_for_people = \"https://ghibliapi.herokuapp.com/people\"\n",
    "response_data = requests.get(url_for_people).content\n",
    "people_data = json.loads(response_data)\n",
    "\n",
    "def get_film_name_from_id(film_id, films_data):\n",
    "    for film in films_data:\n",
    "        if film[\"id\"] == film_id:\n",
    "            #print(\"Match\")\n",
    "            return film[\"title\"]\n",
    "\n",
    "def identify_species(species_id):\n",
    "\n",
    "    response = requests.get(species_id)\n",
    "    species_response = response.content\n",
    "    species_data = json.loads(species_response)\n",
    "#   print(species_data[\"name\"])\n",
    "    return species_data[\"name\"] \n",
    "\n",
    "\n",
    "#species = identify_species(species_id)\n",
    "#print(species)\n",
    "  \n",
    "    \n",
    "for people in people_data:\n",
    "    for film in people[\"films\"]:\n",
    "        film_id = film.split(\"/\")[-1]\n",
    "        film_name = get_film_name_from_id(film_id, films_data)\n",
    "        species_name = identify_species(people[\"species\"])\n",
    "        print(f'{people[\"name\"]} - {species_name} - {people[\"gender\"]} - {film_name}')\n",
    "\n",
    "# for people in people_data:\n",
    "#     for film in people[\"films\"]:\n",
    "#         film_id = film.split(\"/\")[-1]\n",
    "#         film_name = get_film_name_from_id(film_id, films_data)\n",
    "#         print(f'{people[\"name\"]} - {people[\"gender\"]} - {film_name}')\n"
   ]
  },
  {
   "cell_type": "code",
   "execution_count": 26,
   "metadata": {},
   "outputs": [
    {
     "name": "stdout",
     "output_type": "stream",
     "text": [
      "Princess Mononoke\n"
     ]
    }
   ],
   "source": [
    "film_id_of_person = \"0440483e-ca0e-4120-8c50-4c8cd9b965d6\"\n",
    "\n",
    "def get_film_name_from_id(film_id, films_data):\n",
    "    for film in films_data:\n",
    "        if film[\"id\"] == film_id:\n",
    "            #print(\"Match\")\n",
    "            return film[\"title\"]\n",
    "\n",
    "\n",
    "file_name = get_film_name_from_id(film_id_of_person, films_data)\n",
    "print(file_name)"
   ]
  },
  {
   "cell_type": "code",
   "execution_count": 45,
   "metadata": {},
   "outputs": [
    {
     "name": "stdout",
     "output_type": "stream",
     "text": [
      "Human\n"
     ]
    }
   ],
   "source": [
    "import json\n",
    "import requests\n",
    "\n",
    "species_id = \"https://ghibliapi.herokuapp.com/species/af3910a6-429f-4c74-9ad5-dfe1c4aa04f2\"\n",
    "\n",
    "def identify_species(species_id):\n",
    "\n",
    "    response = requests.get(species_id)\n",
    "    species_response = response.content\n",
    "    species_data = json.loads(species_response)\n",
    "#   print(species_data[\"name\"])\n",
    "    return species_data[\"name\"] \n",
    "\n",
    "\n",
    "species = identify_species(species_id)\n",
    "print(species)"
   ]
  },
  {
   "cell_type": "code",
   "execution_count": 55,
   "metadata": {},
   "outputs": [
    {
     "name": "stdout",
     "output_type": "stream",
     "text": [
      "Human\n"
     ]
    }
   ],
   "source": [
    "#Steps to get content from a website.\n",
    "\"\"\"\n",
    "https://pypi.org/\n",
    "\n",
    "# Request - is an Apache2 Licensed HTTP library, written in Python.\n",
    "Request will allow you to send http requests using Python. With it,\n",
    "you can add content like headers, form data, multipart files, and parameters\n",
    "via sime Python libraries.\n",
    "\n",
    "# How to install request library?\n",
    "'!pip3 install requests'\n",
    "\n",
    "# Importing the Requests module\n",
    "To work with Request library in Python, you must import\n",
    "the appropriate module. You can do this simply by adding\n",
    "the following code at the beginning of your script:\n",
    "'import requests'\n",
    "\n",
    "# Making a Request\n",
    "When you ping a website or portal for information this is called \n",
    "\n",
    "\"\"\"\n",
    "\n",
    "import json\n",
    "import requests\n",
    "\n",
    "a = \"https://ghibliapi.herokuapp.com/species/af3910a6-429f-4c74-9ad5-dfe1c4aa04f2\"\n",
    "b = requests.get(a)\n",
    "c = b.content\n",
    "d = json.loads(c)\n",
    "print(d[\"name\"])"
   ]
  },
  {
   "cell_type": "code",
   "execution_count": null,
   "metadata": {},
   "outputs": [],
   "source": []
  }
 ],
 "metadata": {
  "kernelspec": {
   "display_name": "Python 3",
   "language": "python",
   "name": "python3"
  },
  "language_info": {
   "codemirror_mode": {
    "name": "ipython",
    "version": 3
   },
   "file_extension": ".py",
   "mimetype": "text/x-python",
   "name": "python",
   "nbconvert_exporter": "python",
   "pygments_lexer": "ipython3",
   "version": "3.7.2"
  }
 },
 "nbformat": 4,
 "nbformat_minor": 2
}
