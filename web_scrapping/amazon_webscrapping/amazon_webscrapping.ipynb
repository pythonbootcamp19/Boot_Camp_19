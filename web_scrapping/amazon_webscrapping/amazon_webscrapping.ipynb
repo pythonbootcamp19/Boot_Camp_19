{
 "cells": [
  {
   "cell_type": "code",
   "execution_count": 1,
   "metadata": {},
   "outputs": [
    {
     "name": "stdout",
     "output_type": "stream",
     "text": [
      "<Response [200]>\n"
     ]
    }
   ],
   "source": [
    "from requests_html import HTMLSession\n",
    "\n",
    "session = HTMLSession()\n",
    "\n",
    "website_url = \"https://www.amazon.in/s?k=monitor&ref=nb_sb_noss\"\n",
    "\n",
    "response = session.get(website_url)\n",
    "\n",
    "print(response)"
   ]
  },
  {
   "cell_type": "code",
   "execution_count": 2,
   "metadata": {},
   "outputs": [
    {
     "name": "stdout",
     "output_type": "stream",
     "text": [
      "https://www.amazon.in/s?k=monitor&ref=nb_sb_noss\n"
     ]
    }
   ],
   "source": [
    "print(website_url)"
   ]
  },
  {
   "cell_type": "code",
   "execution_count": 3,
   "metadata": {},
   "outputs": [
    {
     "name": "stdout",
     "output_type": "stream",
     "text": [
      "<requests_html.HTMLSession object at 0x106525278>\n"
     ]
    }
   ],
   "source": [
    "print(session)"
   ]
  },
  {
   "cell_type": "code",
   "execution_count": 8,
   "metadata": {},
   "outputs": [
    {
     "name": "stdout",
     "output_type": "stream",
     "text": [
      "img\n"
     ]
    }
   ],
   "source": [
    "#product_image = single_result.find(\"img\", first=True).attrs[\"src\"]\n",
    "\n",
    "\n",
    "\n",
    "print(product_image)\n"
   ]
  },
  {
   "cell_type": "code",
   "execution_count": 29,
   "metadata": {},
   "outputs": [],
   "source": [
    "from requests_html import HTMLSession\n",
    "\n",
    "def product_html_to_dict(single_result):\n",
    "    product_image = single_result.find(\"img\", first=True).attrs[\"src\"]\n",
    "    product_name = single_result.find('.s-line-clamp-2', first=True).text\n",
    "    \n",
    "    product_final_price_raw = single_result.find('.a-price-whole', first=True)\n",
    "    if product_final_price_raw == None:\n",
    "        product_final_price = 'not found'\n",
    "    else:\n",
    "        product_final_price = product_final_price_raw.text\n",
    "    \n",
    "    product_mrp_raw = single_result.find('.a-text-price', first=True)\n",
    "    if product_mrp_raw == None:\n",
    "        product_mrp = 'not found'\n",
    "    else:\n",
    "        product_mrp = product_mrp_raw.find(\".a-offscreen\", first=True).text\n",
    "    \n",
    "    product_info = {\"name\":product_name,\"mrp\":product_mrp,\"price\":product_final_price, \"image\":product_image}\n",
    "    \n",
    "    return product_info\n",
    "\n",
    "def response_to_result_items(response):\n",
    "    search_results = response.html.find('.s-search-results', first=True)\n",
    "    result_items = search_results.find(\".s-result-item\")\n",
    "    return result_items\n",
    "\n",
    "def url_to_response(url):\n",
    "    session = HTMLSession()\n",
    "    response = session.get(url)\n",
    "    return response\n",
    "\n",
    "def get_no_of_pages(response):\n",
    "    pagination = response.html.find('.a-pagination', first=True)\n",
    "    page_no_raw = pagination.find(\".a-disabled\")\n",
    "    \n",
    "    if len(page_no_raw) == 1:\n",
    "        page_no = int(pagination.find(\".a-normal\")[-1].text)\n",
    "    elif len(page_no_raw) == 2:\n",
    "        page_no = int(page_no_raw[1].text)\n",
    "    else:\n",
    "        page_no = 0\n",
    "    \n",
    "    return page_no"
   ]
  },
  {
   "cell_type": "code",
   "execution_count": 31,
   "metadata": {},
   "outputs": [
    {
     "ename": "AttributeError",
     "evalue": "'NoneType' object has no attribute 'find'",
     "output_type": "error",
     "traceback": [
      "\u001b[0;31m---------------------------------------------------------------------\u001b[0m",
      "\u001b[0;31mAttributeError\u001b[0m                      Traceback (most recent call last)",
      "\u001b[0;32m<ipython-input-31-28e005983e2c>\u001b[0m in \u001b[0;36m<module>\u001b[0;34m\u001b[0m\n\u001b[1;32m      7\u001b[0m \u001b[0mresponse\u001b[0m \u001b[0;34m=\u001b[0m \u001b[0murl_to_response\u001b[0m\u001b[0;34m(\u001b[0m\u001b[0mwebsite_url\u001b[0m\u001b[0;34m)\u001b[0m\u001b[0;34m\u001b[0m\u001b[0;34m\u001b[0m\u001b[0m\n\u001b[1;32m      8\u001b[0m \u001b[0;34m\u001b[0m\u001b[0m\n\u001b[0;32m----> 9\u001b[0;31m \u001b[0mno_of_pages\u001b[0m \u001b[0;34m=\u001b[0m \u001b[0mget_no_of_pages\u001b[0m\u001b[0;34m(\u001b[0m\u001b[0mresponse\u001b[0m\u001b[0;34m)\u001b[0m\u001b[0;34m\u001b[0m\u001b[0;34m\u001b[0m\u001b[0m\n\u001b[0m\u001b[1;32m     10\u001b[0m \u001b[0;34m\u001b[0m\u001b[0m\n\u001b[1;32m     11\u001b[0m \u001b[0mall_results\u001b[0m \u001b[0;34m=\u001b[0m \u001b[0;34m[\u001b[0m\u001b[0;34m]\u001b[0m\u001b[0;34m\u001b[0m\u001b[0;34m\u001b[0m\u001b[0m\n",
      "\u001b[0;32m<ipython-input-29-24bb9680dd02>\u001b[0m in \u001b[0;36mget_no_of_pages\u001b[0;34m(response)\u001b[0m\n\u001b[1;32m     33\u001b[0m \u001b[0;32mdef\u001b[0m \u001b[0mget_no_of_pages\u001b[0m\u001b[0;34m(\u001b[0m\u001b[0mresponse\u001b[0m\u001b[0;34m)\u001b[0m\u001b[0;34m:\u001b[0m\u001b[0;34m\u001b[0m\u001b[0;34m\u001b[0m\u001b[0m\n\u001b[1;32m     34\u001b[0m     \u001b[0mpagination\u001b[0m \u001b[0;34m=\u001b[0m \u001b[0mresponse\u001b[0m\u001b[0;34m.\u001b[0m\u001b[0mhtml\u001b[0m\u001b[0;34m.\u001b[0m\u001b[0mfind\u001b[0m\u001b[0;34m(\u001b[0m\u001b[0;34m'.a-pagination'\u001b[0m\u001b[0;34m,\u001b[0m \u001b[0mfirst\u001b[0m\u001b[0;34m=\u001b[0m\u001b[0;32mTrue\u001b[0m\u001b[0;34m)\u001b[0m\u001b[0;34m\u001b[0m\u001b[0;34m\u001b[0m\u001b[0m\n\u001b[0;32m---> 35\u001b[0;31m     \u001b[0mpage_no_raw\u001b[0m \u001b[0;34m=\u001b[0m \u001b[0mpagination\u001b[0m\u001b[0;34m.\u001b[0m\u001b[0mfind\u001b[0m\u001b[0;34m(\u001b[0m\u001b[0;34m\".a-disabled\"\u001b[0m\u001b[0;34m)\u001b[0m\u001b[0;34m\u001b[0m\u001b[0;34m\u001b[0m\u001b[0m\n\u001b[0m\u001b[1;32m     36\u001b[0m \u001b[0;34m\u001b[0m\u001b[0m\n\u001b[1;32m     37\u001b[0m     \u001b[0;32mif\u001b[0m \u001b[0mlen\u001b[0m\u001b[0;34m(\u001b[0m\u001b[0mpage_no_raw\u001b[0m\u001b[0;34m)\u001b[0m \u001b[0;34m==\u001b[0m \u001b[0;36m1\u001b[0m\u001b[0;34m:\u001b[0m\u001b[0;34m\u001b[0m\u001b[0;34m\u001b[0m\u001b[0m\n",
      "\u001b[0;31mAttributeError\u001b[0m: 'NoneType' object has no attribute 'find'"
     ]
    }
   ],
   "source": [
    "query = \"keyboard\"\n",
    "page_no = 1\n",
    "\n",
    "website_url_format = \"https://www.amazon.in/s?k={}&page={}\"\n",
    "\n",
    "website_url = website_url_format.format(query, page_no)\n",
    "response = url_to_response(website_url)\n",
    "\n",
    "no_of_pages = get_no_of_pages(response)\n",
    "\n",
    "all_results = []\n",
    "\n",
    "for page_no in range(1, no_of_pages):\n",
    "    website_url = website_url_format.format(query, page_no)\n",
    "    \n",
    "    response = url_to_response(website_url)\n",
    "    result_items = response_to_result_items(response)\n",
    "    product_info_dict = list(map(product_html_to_dict, result_items))\n",
    "    \n",
    "    print(len(product_info_dict))\n",
    "    all_results.append(product_info_dict)\n"
   ]
  },
  {
   "cell_type": "code",
   "execution_count": null,
   "metadata": {},
   "outputs": [],
   "source": []
  }
 ],
 "metadata": {
  "kernelspec": {
   "display_name": "Python 3",
   "language": "python",
   "name": "python3"
  },
  "language_info": {
   "codemirror_mode": {
    "name": "ipython",
    "version": 3
   },
   "file_extension": ".py",
   "mimetype": "text/x-python",
   "name": "python",
   "nbconvert_exporter": "python",
   "pygments_lexer": "ipython3",
   "version": "3.7.2"
  }
 },
 "nbformat": 4,
 "nbformat_minor": 2
}
