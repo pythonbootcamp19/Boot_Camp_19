{
 "cells": [
  {
   "cell_type": "code",
   "execution_count": null,
   "metadata": {},
   "outputs": [],
   "source": [
    "\"\"\"\n",
    "1. Ask the user movie name\n",
    "2. Once we have the movie name, we go to the website and search for the movie and get the response.\n",
    "3. Get all the results\n",
    "4. Exit if no result is found\n",
    "5. take movie search results convert them into a dictionary\n",
    "6. ask user to select the movie from the list\n",
    "7. get the selected movie page\n",
    "8. find a list of subtitles for that movie\n",
    "9. convert html subtitles to dictionary\n",
    "10. select subtitle based on language and rating\n",
    "11. get the zip file url from the movie page\n",
    "12. download the zip file\n",
    "\"\"\""
   ]
  },
  {
   "cell_type": "code",
   "execution_count": 5,
   "metadata": {},
   "outputs": [
    {
     "name": "stdout",
     "output_type": "stream",
     "text": [
      "fight%20club\n"
     ]
    }
   ],
   "source": [
    "from urllib.parse import quote # url library build in Python\n",
    "\n",
    "query_url = 'https://yts-subs.com/search/fight%20club'\n",
    "\n",
    "query = 'fight club'\n",
    "\n",
    "#url encoding. Function quote.\n",
    "#\n",
    "print(quote(query))"
   ]
  },
  {
   "cell_type": "code",
   "execution_count": 1,
   "metadata": {},
   "outputs": [
    {
     "name": "stdout",
     "output_type": "stream",
     "text": [
      "<Response [200]>\n"
     ]
    }
   ],
   "source": [
    "from requests_html import HTMLSession\n",
    "\n",
    "session = HTMLSession()\n",
    "\n",
    "website_url = \"https://yts-subs.com/\"\n",
    "\n",
    "response = session.get(website_url)\n",
    "\n",
    "print(response)"
   ]
  },
  {
   "cell_type": "code",
   "execution_count": null,
   "metadata": {},
   "outputs": [],
   "source": []
  },
  {
   "cell_type": "code",
   "execution_count": null,
   "metadata": {},
   "outputs": [],
   "source": [
    "from urllib.parse import quote\n",
    "\n",
    "website_url = \"https://yts-subs.com/\"\n",
    "query = \"fight_club\"\n",
    "query_encoded = quote()\n",
    "website_rul = \"https://yts-\""
   ]
  }
 ],
 "metadata": {
  "kernelspec": {
   "display_name": "Python 3",
   "language": "python",
   "name": "python3"
  },
  "language_info": {
   "codemirror_mode": {
    "name": "ipython",
    "version": 3
   },
   "file_extension": ".py",
   "mimetype": "text/x-python",
   "name": "python",
   "nbconvert_exporter": "python",
   "pygments_lexer": "ipython3",
   "version": "3.7.2"
  }
 },
 "nbformat": 4,
 "nbformat_minor": 2
}
