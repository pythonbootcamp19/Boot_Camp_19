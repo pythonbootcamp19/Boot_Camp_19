{
 "cells": [
  {
   "cell_type": "code",
   "execution_count": 5,
   "metadata": {},
   "outputs": [
    {
     "name": "stdout",
     "output_type": "stream",
     "text": [
      "Got data of 11 books.\n",
      "Json file Created.\n"
     ]
    }
   ],
   "source": [
    "import requests\n",
    "import json\n",
    "\n",
    "\n",
    "data_fields = [\"Title\",\"Author\",\"MD5\",\"Year\",\"Pages\",\"Language\",\"Topic\"]\n",
    "\n",
    "json_filename = \"books_data.json\"\n",
    "\n",
    "def data_to_json_file(data_list, json_filename):\n",
    "    json_data = json.dumps(data_list)\n",
    "\n",
    "    #data_list = [1,2,3]\n",
    "    #json_file = open(json_filename, \"w\")\n",
    "    with open(json_filename, \"w\") as json_file:\n",
    "        json_file.write(json_data)\n",
    "    return 0\n",
    "\n",
    "def get_book_details(book_id, data_fields):\n",
    "    data_fields_str = \",\".join(data_fields)\n",
    "    \n",
    "    url_format_for_book_data = \"http://gen.lib.rus.ec/json.php?ids={}&fields={}\"\n",
    "    url_for_book_data = url_format_for_book_data.format(book_id, data_fields_str)\n",
    "    try:\n",
    "        json_data = requests.get(url_for_book_data).content\n",
    "    except:\n",
    "        print(\"You are not connected to the internet\")\n",
    "        exit(0)\n",
    "        \n",
    "    try:\n",
    "        dict_data = json.loads(json_data)\n",
    "        return dict_data[0]\n",
    "    except:\n",
    "        print(\"Json is not valid\")\n",
    "        print(json_data)\n",
    "        exit(0)\n",
    "    \n",
    "book_detail_list = []\n",
    "\n",
    "for book_id in range(13,21):\n",
    "    book_detail = get_book_details(book_id, data_fields)\n",
    "    book_detail_list.append(book_detail)\n",
    "\n",
    "print(f\"Got data of {len(book_detail_list)} books.\")\n",
    "                     \n",
    "data_to_json_file(book_detail_list, json_filename)\n",
    "print(\"Json file Created.\")\n"
   ]
  },
  {
   "cell_type": "code",
   "execution_count": 1,
   "metadata": {},
   "outputs": [
    {
     "ename": "NameError",
     "evalue": "name 'json' is not defined",
     "output_type": "error",
     "traceback": [
      "\u001b[0;31m---------------------------------------------------------------------\u001b[0m",
      "\u001b[0;31mNameError\u001b[0m                           Traceback (most recent call last)",
      "\u001b[0;32m<ipython-input-1-2ae730241d4c>\u001b[0m in \u001b[0;36m<module>\u001b[0;34m\u001b[0m\n\u001b[1;32m     10\u001b[0m     \u001b[0;32mreturn\u001b[0m \u001b[0;36m0\u001b[0m\u001b[0;34m\u001b[0m\u001b[0;34m\u001b[0m\u001b[0m\n\u001b[1;32m     11\u001b[0m \u001b[0;34m\u001b[0m\u001b[0m\n\u001b[0;32m---> 12\u001b[0;31m \u001b[0mdata_to_json_file\u001b[0m\u001b[0;34m(\u001b[0m\u001b[0;34m[\u001b[0m\u001b[0;36m3\u001b[0m\u001b[0;34m,\u001b[0m\u001b[0;36m4\u001b[0m\u001b[0;34m,\u001b[0m\u001b[0;36m5\u001b[0m\u001b[0;34m]\u001b[0m\u001b[0;34m,\u001b[0m \u001b[0mjson_filename\u001b[0m\u001b[0;34m)\u001b[0m\u001b[0;34m\u001b[0m\u001b[0;34m\u001b[0m\u001b[0m\n\u001b[0m",
      "\u001b[0;32m<ipython-input-1-2ae730241d4c>\u001b[0m in \u001b[0;36mdata_to_json_file\u001b[0;34m(data_list, json_filename)\u001b[0m\n\u001b[1;32m      2\u001b[0m \u001b[0;34m\u001b[0m\u001b[0m\n\u001b[1;32m      3\u001b[0m \u001b[0;32mdef\u001b[0m \u001b[0mdata_to_json_file\u001b[0m\u001b[0;34m(\u001b[0m\u001b[0mdata_list\u001b[0m\u001b[0;34m,\u001b[0m \u001b[0mjson_filename\u001b[0m\u001b[0;34m)\u001b[0m\u001b[0;34m:\u001b[0m\u001b[0;34m\u001b[0m\u001b[0;34m\u001b[0m\u001b[0m\n\u001b[0;32m----> 4\u001b[0;31m     \u001b[0mjson_data\u001b[0m \u001b[0;34m=\u001b[0m \u001b[0mjson\u001b[0m\u001b[0;34m.\u001b[0m\u001b[0mdumps\u001b[0m\u001b[0;34m(\u001b[0m\u001b[0mdata_list\u001b[0m\u001b[0;34m)\u001b[0m\u001b[0;34m\u001b[0m\u001b[0;34m\u001b[0m\u001b[0m\n\u001b[0m\u001b[1;32m      5\u001b[0m \u001b[0;34m\u001b[0m\u001b[0m\n\u001b[1;32m      6\u001b[0m     \u001b[0;31m#data_list = [1,2,3]\u001b[0m\u001b[0;34m\u001b[0m\u001b[0;34m\u001b[0m\u001b[0;34m\u001b[0m\u001b[0m\n",
      "\u001b[0;31mNameError\u001b[0m: name 'json' is not defined"
     ]
    }
   ],
   "source": [
    "json_filename = \"books_data.json\"\n",
    "\n",
    "def data_to_json_file(data_list, json_filename):\n",
    "    json_data = json.dumps(data_list)\n",
    "\n",
    "    #data_list = [1,2,3]\n",
    "    #json_file = open(json_filename, \"w\")\n",
    "    with open(json_filename, \"w\") as json_file:\n",
    "        json_file.write(json_data)\n",
    "    return 0\n",
    "\n",
    "data_to_json_file([3,4,5], json_filename)"
   ]
  },
  {
   "cell_type": "code",
   "execution_count": null,
   "metadata": {},
   "outputs": [],
   "source": []
  }
 ],
 "metadata": {
  "kernelspec": {
   "display_name": "Python 3",
   "language": "python",
   "name": "python3"
  },
  "language_info": {
   "codemirror_mode": {
    "name": "ipython",
    "version": 3
   },
   "file_extension": ".py",
   "mimetype": "text/x-python",
   "name": "python",
   "nbconvert_exporter": "python",
   "pygments_lexer": "ipython3",
   "version": "3.7.2"
  }
 },
 "nbformat": 4,
 "nbformat_minor": 2
}
