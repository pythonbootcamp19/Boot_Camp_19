{
 "cells": [
  {
   "cell_type": "code",
   "execution_count": 25,
   "metadata": {},
   "outputs": [
    {
     "name": "stdout",
     "output_type": "stream",
     "text": [
      "Got data of 10 books.\n",
      "Json file Created.\n"
     ]
    }
   ],
   "source": [
    "import requests\n",
    "import json\n",
    "\n",
    "\n",
    "data_fields = [\"Title\",\"Author\",\"MD5\",\"Year\",\"Pages\",\"Language\",\"Topic\"]\n",
    "\n",
    "json_filename = \"books_data.json\"\n",
    "\n",
    "def data_to_json_file(data_list, json_filename):\n",
    "    json_data = json.dumps(data_list)\n",
    "\n",
    "    #data_list = [1,2,3]\n",
    "    #json_file = open(json_filename, \"w\")\n",
    "    with open(json_filename, \"w\") as json_file:\n",
    "        json_file.write(json_data)\n",
    "    return 0\n",
    "\n",
    "def get_book_details(book_id, data_fields):\n",
    "    data_fields_str = \",\".join(data_fields)\n",
    "    \n",
    "    url_format_for_book_data = \"http://gen.lib.rus.ec/json.php?ids={}&fields={}\"\n",
    "    url_for_book_data = url_format_for_book_data.format(book_id, data_fields_str)\n",
    "    try:\n",
    "        json_data = requests.get(url_for_book_data).content\n",
    "    except:\n",
    "        print(\"You are not connected to the internet\")\n",
    "        exit(0)\n",
    "        \n",
    "    try:\n",
    "        dict_data = json.loads(json_data)\n",
    "        return dict_data[0]\n",
    "    except:\n",
    "        print(\"Json is not valid\")\n",
    "        print(json_data)\n",
    "        exit(0)\n",
    "    \n",
    "book_detail_list = []\n",
    "\n",
    "for book_id in range(1,11):\n",
    "    \n",
    "    book_detail = get_book_details(book_id, data_fields)\n",
    "    book_detail_list.append(book_detail)\n",
    "\n",
    "print(f\"Got data of {len(book_detail_list)} books.\")\n",
    "                     \n",
    "data_to_json_file(book_detail_list, json_filename)\n",
    "print(\"Json file Created.\")\n"
   ]
  },
  {
   "cell_type": "code",
   "execution_count": 15,
   "metadata": {},
   "outputs": [
    {
     "name": "stdout",
     "output_type": "stream",
     "text": [
      "['xxx', 'larry', 'curly', 'moe', 'shemp', 'yyy', 'zzz']\n",
      "2\n",
      "['xxx', 'moe', 'shemp', 'yyy', 'zzz']\n"
     ]
    }
   ],
   "source": [
    "list = ['larry', 'curly', 'moe']\n",
    "list.append('shemp')         ## append elem at end\n",
    "list.insert(0, 'xxx')        ## insert elem at index 0\n",
    "list.extend(['yyy', 'zzz'])  ## add list of elems at end\n",
    "print(list)  ## ['xxx', 'larry', 'curly', 'moe', 'shemp', 'yyy', 'zzz']\n",
    "print(list.index('curly'))    ## 2\n",
    "\n",
    "list.remove('curly')         ## search and remove that element\n",
    "list.pop(1)                  ## removes and returns 'larry'\n",
    "print(list)  ## ['xxx', 'moe', 'shemp', 'yyy', 'zzz']"
   ]
  },
  {
   "cell_type": "code",
   "execution_count": 19,
   "metadata": {},
   "outputs": [
    {
     "name": "stdout",
     "output_type": "stream",
     "text": [
      "['shemp', 'larry', 'curly', 'moe']\n"
     ]
    }
   ],
   "source": [
    "list = ['larry', 'curly', 'moe']\n",
    "list.insert(0,'shemp')         ## append elem at end\n",
    "print(list)"
   ]
  },
  {
   "cell_type": "code",
   "execution_count": 22,
   "metadata": {},
   "outputs": [
    {
     "name": "stdout",
     "output_type": "stream",
     "text": [
      "['larry', 'curly', 'moe', 'shemp']\n"
     ]
    }
   ],
   "source": [
    "list = ['larry', 'curly', 'moe']\n",
    "list.append('shemp')\n",
    "print(list)"
   ]
  },
  {
   "cell_type": "code",
   "execution_count": null,
   "metadata": {},
   "outputs": [],
   "source": []
  }
 ],
 "metadata": {
  "kernelspec": {
   "display_name": "Python 3",
   "language": "python",
   "name": "python3"
  },
  "language_info": {
   "codemirror_mode": {
    "name": "ipython",
    "version": 3
   },
   "file_extension": ".py",
   "mimetype": "text/x-python",
   "name": "python",
   "nbconvert_exporter": "python",
   "pygments_lexer": "ipython3",
   "version": "3.7.2"
  }
 },
 "nbformat": 4,
 "nbformat_minor": 2
}
