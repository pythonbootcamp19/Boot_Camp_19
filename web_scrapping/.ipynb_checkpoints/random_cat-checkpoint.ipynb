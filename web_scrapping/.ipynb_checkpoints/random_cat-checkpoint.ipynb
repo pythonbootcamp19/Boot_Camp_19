{
 "cells": [
  {
   "cell_type": "code",
   "execution_count": 28,
   "metadata": {},
   "outputs": [
    {
     "name": "stdout",
     "output_type": "stream",
     "text": [
      "https://purr.objects-us-east-1.dream.io/i/DOjFh.jpg\n"
     ]
    }
   ],
   "source": [
    "import requests\n",
    "import json\n",
    "\n",
    "def get_random_cat_image():\n",
    "    random_catimage_api = \"https://aws.random.cat/meow\"\n",
    "    response = requests.get(random_catimage_api)\n",
    "    image_dict = json.loads(response.content)\n",
    "    return image_dict['file']\n",
    "\n",
    "cat_image_link = get_random_cat_image()\n",
    "print(cat_image_link)"
   ]
  },
  {
   "cell_type": "code",
   "execution_count": 29,
   "metadata": {},
   "outputs": [
    {
     "name": "stdout",
     "output_type": "stream",
     "text": [
      "image downloaded\n",
      "None\n"
     ]
    }
   ],
   "source": [
    "#def download_image(cat_image_link):\n",
    "def download_image(cat_image_link):\n",
    "    splitted_image_name = cat_image_link.split(\"/\")[-1]\n",
    "    get_image = requests.get(cat_image_link)\n",
    "    image_data = get_image.content\n",
    "    create_image_file = open(splitted_image_name,\"wb\")\n",
    "    create_image_file.write(image_data)\n",
    "    create_image_file.close()\n",
    "    print(\"image downloaded\")\n",
    "    return\n",
    "# image_json = json.loads(get_image.content)\n",
    "# print(image_json)\n",
    "\n",
    "downloaded_image = download_image(cat_image_link)\n",
    "print(downloaded_image)"
   ]
  },
  {
   "cell_type": "code",
   "execution_count": null,
   "metadata": {},
   "outputs": [],
   "source": []
  }
 ],
 "metadata": {
  "kernelspec": {
   "display_name": "Python 3",
   "language": "python",
   "name": "python3"
  },
  "language_info": {
   "codemirror_mode": {
    "name": "ipython",
    "version": 3
   },
   "file_extension": ".py",
   "mimetype": "text/x-python",
   "name": "python",
   "nbconvert_exporter": "python",
   "pygments_lexer": "ipython3",
   "version": "3.7.2"
  }
 },
 "nbformat": 4,
 "nbformat_minor": 2
}
