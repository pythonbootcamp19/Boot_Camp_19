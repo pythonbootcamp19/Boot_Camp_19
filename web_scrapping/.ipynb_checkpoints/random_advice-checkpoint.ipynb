{
 "cells": [
  {
   "cell_type": "code",
   "execution_count": 15,
   "metadata": {},
   "outputs": [
    {
     "name": "stdout",
     "output_type": "stream",
     "text": [
      "https://api.adviceslip.com/advice\n"
     ]
    },
    {
     "data": {
      "text/plain": [
       "'Plant a tree.'"
      ]
     },
     "execution_count": 15,
     "metadata": {},
     "output_type": "execute_result"
    }
   ],
   "source": [
    "import requests\n",
    "import json\n",
    "\n",
    "def get_random_advice():\n",
    "    random_advice_url = \"https://api.adviceslip.com/advice\"\n",
    "    response = requests.get(random_advice_url)\n",
    "    response_content = json.loads(response.content)\n",
    "    print(random_advice_url)\n",
    "    return response_content[\"slip\"][\"advice\"]\n",
    "\n",
    "get_random_advice()"
   ]
  },
  {
   "cell_type": "code",
   "execution_count": 21,
   "metadata": {},
   "outputs": [
    {
     "name": "stdout",
     "output_type": "stream",
     "text": [
      "https://api.adviceslip.com/advice\n"
     ]
    }
   ],
   "source": [
    "def create_file():\n",
    "    file_name = open(\"random_advice.txt\",\"w\")\n",
    "    take_url  = get_random_advice()\n",
    "    file_name.write(take_url)\n",
    "    file_name.close()\n",
    "    return\n",
    "\n",
    "create_file()"
   ]
  },
  {
   "cell_type": "code",
   "execution_count": null,
   "metadata": {},
   "outputs": [],
   "source": [
    "def create_file():\n",
    "    file_name = open(\"random_advice.txt\",\"w\")\n",
    "    take_url  = get_random_advice()\n",
    "    file_name.write(take_url)\n",
    "    file_name.close()\n",
    "    return\n",
    "\n",
    "create_file()"
   ]
  }
 ],
 "metadata": {
  "kernelspec": {
   "display_name": "Python 3",
   "language": "python",
   "name": "python3"
  },
  "language_info": {
   "codemirror_mode": {
    "name": "ipython",
    "version": 3
   },
   "file_extension": ".py",
   "mimetype": "text/x-python",
   "name": "python",
   "nbconvert_exporter": "python",
   "pygments_lexer": "ipython3",
   "version": "3.7.2"
  }
 },
 "nbformat": 4,
 "nbformat_minor": 2
}
