{
 "cells": [
  {
   "cell_type": "code",
   "execution_count": 33,
   "metadata": {},
   "outputs": [
    {
     "name": "stdout",
     "output_type": "stream",
     "text": [
      "112\n",
      "112\n",
      "113\n"
     ]
    }
   ],
   "source": [
    "def break_word():\n",
    "    word = 111\n",
    "    return word\n",
    "\n",
    "def cal():\n",
    "    a = break_word()\n",
    "    b = 1\n",
    "    c = a + b\n",
    "    return c\n",
    "d = cal()\n",
    "\n",
    "word = break_word()\n",
    "\n",
    "def call(word):\n",
    "    b = 1\n",
    "    c = b + word\n",
    "    e = c + b\n",
    "    return e\n",
    "f = call(word)\n",
    "\n",
    "print(d)\n",
    "print(cal())\n",
    "print(call(word))"
   ]
  },
  {
   "cell_type": "code",
   "execution_count": null,
   "metadata": {},
   "outputs": [],
   "source": []
  }
 ],
 "metadata": {
  "kernelspec": {
   "display_name": "Python 3",
   "language": "python",
   "name": "python3"
  },
  "language_info": {
   "codemirror_mode": {
    "name": "ipython",
    "version": 3
   },
   "file_extension": ".py",
   "mimetype": "text/x-python",
   "name": "python",
   "nbconvert_exporter": "python",
   "pygments_lexer": "ipython3",
   "version": "3.7.2"
  }
 },
 "nbformat": 4,
 "nbformat_minor": 2
}
