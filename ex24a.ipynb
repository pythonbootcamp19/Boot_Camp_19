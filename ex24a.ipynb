{
 "cells": [
  {
   "cell_type": "code",
   "execution_count": 2,
   "metadata": {},
   "outputs": [
    {
     "name": "stdout",
     "output_type": "stream",
     "text": [
      "Let's practice everything.\n",
      "You'd need to know'bout escapes with \\ that do:\n",
      "\n",
      " newlines and \t tabs.\n"
     ]
    }
   ],
   "source": [
    "print(\"Let's practice everything.\")\n",
    "print('You\\'d need to know\\'bout escapes with \\\\ that do:')\n",
    "print('\\n newlines and \\t tabs.')"
   ]
  },
  {
   "cell_type": "code",
   "execution_count": 8,
   "metadata": {},
   "outputs": [
    {
     "name": "stdout",
     "output_type": "stream",
     "text": [
      "------------------\n",
      "\n",
      "\t The lovely world\n",
      "with logic so firmly planted\n",
      "cannot discern passion from intuition\n",
      "nor comprehend passion from intuition\n",
      "and requires an explanation\n",
      "\n",
      "\t\\where there is none.\n",
      "\n",
      "------------------\n"
     ]
    }
   ],
   "source": [
    "poem = \"\"\"\n",
    "\\t The lovely world\n",
    "with logic so firmly planted\n",
    "cannot discern passion from intuition\n",
    "nor comprehend passion from intuition\n",
    "and requires an explanation\n",
    "\\n\\t\\where there is none.\n",
    "\"\"\"\n",
    "print(\"------------------\")\n",
    "print(poem)\n",
    "print(\"------------------\")"
   ]
  },
  {
   "cell_type": "code",
   "execution_count": 11,
   "metadata": {},
   "outputs": [
    {
     "name": "stdout",
     "output_type": "stream",
     "text": [
      "This should be five: -1\n"
     ]
    }
   ],
   "source": [
    "five = 10 - 2 + 3 - 6\n",
    "print(f\"This should be five: {five}\")"
   ]
  },
  {
   "cell_type": "code",
   "execution_count": 25,
   "metadata": {},
   "outputs": [
    {
     "name": "stdout",
     "output_type": "stream",
     "text": [
      "With a starting point of:  {10000}\n",
      "We'd have 5000000 beans, 5000.0jars, and 50.0crates.\n",
      "We can also do that this way:\n",
      "We'd have {5000000} beans {5000.0} jars and {50.0} crates.\n"
     ]
    }
   ],
   "source": [
    "def secret_formula(started):\n",
    "    jelly_beans = started * 500\n",
    "    jars = jelly_beans / 1000\n",
    "    crates = jars / 100\n",
    "    return jelly_beans, jars, crates\n",
    "\n",
    "start_point = 10000\n",
    "beans, jars, crates = secret_formula(start_point)\n",
    "print(f\"With a starting point of: \", {start_point})\n",
    "print(f\"We'd have {beans} beans, {jars}jars, and {crates}crates.\")\n",
    "start_point = start_point / 10\n",
    "print(\"We can also do that this way:\")\n",
    "formula = secret_formula(start_point)\n",
    "print(f\"We\\'d have\", {beans}, \"beans\", {jars}, \"jars\", \"and\", {crates}, \"crates.\")\n",
    "      "
   ]
  },
  {
   "cell_type": "code",
   "execution_count": null,
   "metadata": {},
   "outputs": [],
   "source": []
  }
 ],
 "metadata": {
  "kernelspec": {
   "display_name": "Python 3",
   "language": "python",
   "name": "python3"
  },
  "language_info": {
   "codemirror_mode": {
    "name": "ipython",
    "version": 3
   },
   "file_extension": ".py",
   "mimetype": "text/x-python",
   "name": "python",
   "nbconvert_exporter": "python",
   "pygments_lexer": "ipython3",
   "version": "3.7.2"
  }
 },
 "nbformat": 4,
 "nbformat_minor": 2
}
