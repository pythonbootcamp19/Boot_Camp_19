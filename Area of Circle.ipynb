{
 "cells": [
  {
   "cell_type": "code",
   "execution_count": 14,
   "metadata": {},
   "outputs": [
    {
     "name": "stdout",
     "output_type": "stream",
     "text": [
      "What is the radius?: 4\n",
      "50.24\n"
     ]
    }
   ],
   "source": [
    "#If a circle has a radius of 4, its area is 3.14*4*4=50.24\n",
    "#print(2**3) #formula is for area of circle. Job of the function is to find the area of circle.\n",
    "\n",
    "def info():\n",
    "    radius = int(input(\"What is the radius?: \"))\n",
    "    return radius\n",
    "\n",
    "def calculate_area_of_circle(area_of_circle):\n",
    "    circle = (area_of_circle**2) *3.14\n",
    "    return circle\n",
    "\n",
    "radius_of_circle = info()\n",
    "\n",
    "area = calculate_area_of_circle(radius_of_circle)\n",
    "print(area)"
   ]
  },
  {
   "cell_type": "code",
   "execution_count": null,
   "metadata": {},
   "outputs": [],
   "source": []
  }
 ],
 "metadata": {
  "kernelspec": {
   "display_name": "Python 3",
   "language": "python",
   "name": "python3"
  },
  "language_info": {
   "codemirror_mode": {
    "name": "ipython",
    "version": 3
   },
   "file_extension": ".py",
   "mimetype": "text/x-python",
   "name": "python",
   "nbconvert_exporter": "python",
   "pygments_lexer": "ipython3",
   "version": "3.7.2"
  }
 },
 "nbformat": 4,
 "nbformat_minor": 2
}
