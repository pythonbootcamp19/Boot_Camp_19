{
 "cells": [
  {
   "cell_type": "code",
   "execution_count": 91,
   "metadata": {},
   "outputs": [
    {
     "name": "stdout",
     "output_type": "stream",
     "text": [
      "geeksforgeeks\n"
     ]
    }
   ],
   "source": [
    "#following is a Python function. It converts uppercase to lowercase.\n",
    "\n",
    "string = 'GEEKSFORGEEKS'\n",
    "print(string.lower())"
   ]
  },
  {
   "cell_type": "code",
   "execution_count": 15,
   "metadata": {},
   "outputs": [
    {
     "name": "stdout",
     "output_type": "stream",
     "text": [
      "Metro Discount Calculator\n",
      "Are you male or female?: MALE\n",
      "What is your age?: 2\n",
      "You travel for free!\n"
     ]
    }
   ],
   "source": [
    "print(\"Metro Discount Calculator\")\n",
    "\n",
    "s = input(\"Are you male or female?: \")\n",
    "lower_case_gender = s.lower()\n",
    "\n",
    "if gender == lower_case_gender:\n",
    "    print(\"You don't need a ticket. You travel free!\") \n",
    "else:\n",
    "    age = int(input(\"What is your age?: \"))\n",
    "    if age <= 5:\n",
    "        print(\"You travel for free!\")\n",
    "    elif age >=6 and age<=17:\n",
    "        print(\"You get 50% discount!\")\n",
    "    elif age >=18 and age<=60:\n",
    "        print(\"You get 0% discount. Pay the full fare\")\n",
    "    elif age >60 and age<=200:\n",
    "        print(\"You get 50% discount!\")\n",
    "    else:\n",
    "        print(\"ghgghghg\")"
   ]
  },
  {
   "cell_type": "code",
   "execution_count": null,
   "metadata": {},
   "outputs": [],
   "source": []
  }
 ],
 "metadata": {
  "kernelspec": {
   "display_name": "Python 3",
   "language": "python",
   "name": "python3"
  },
  "language_info": {
   "codemirror_mode": {
    "name": "ipython",
    "version": 3
   },
   "file_extension": ".py",
   "mimetype": "text/x-python",
   "name": "python",
   "nbconvert_exporter": "python",
   "pygments_lexer": "ipython3",
   "version": "3.7.2"
  }
 },
 "nbformat": 4,
 "nbformat_minor": 2
}
