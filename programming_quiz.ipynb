{
 "cells": [
  {
   "cell_type": "code",
   "execution_count": null,
   "metadata": {
    "scrolled": true
   },
   "outputs": [
    {
     "name": "stdout",
     "output_type": "stream",
     "text": [
      "Q1 : What will 'unemptylist = []' do?\n",
      "A- Will create an empty dictionary\n",
      "B- Will do nothing\n",
      "C- Will create an empty list\n"
     ]
    }
   ],
   "source": [
    "quiz_questions = {\n",
    "    1 : {\"question\":\"What will 'unemptylist = []' do?\",\n",
    "        \"a\": \"Will create an empty dictionary\",\n",
    "        \"b\": \"Will do nothing\",\n",
    "        \"c\": \"Will create an empty list\",\n",
    "        \"correct\": \"c\"},\n",
    "    2 : {\"question\":\"What will be the function to calculate the length of 'list=[1, hello,2,world]'\",\n",
    "         \"a\": \"calculate(list)\",\n",
    "         \"b\": \"len(list)\",\n",
    "         \"c\": \"range(list)\",\n",
    "         \"correct\": \"b\"},\n",
    "    3: {\"question\":\"My name is John. print(len(a)). What will be the output?\",\n",
    "        \"a\": 15,\n",
    "        \"b\": 1,\n",
    "        \"c\": 0,\n",
    "        \"correct\":\"a\"}\n",
    "}\n",
    "\n",
    "def ask_question(question, question_no):\n",
    "    print(f\"Q{question_no} : {question['question']}\")\n",
    "    #print(f\"Q{question} : {question_no['question_no']}\")\n",
    "          \n",
    "    print(\"A-\", question[\"a\"])\n",
    "    print(\"B-\", question[\"b\"])\n",
    "    print(\"C-\", question[\"c\"])\n",
    "    answer = input(\"Enter correct option: \")\n",
    "    answer = answer.lower()\n",
    "    print(answer)\n",
    "    print(\"\\n\")\n",
    "\n",
    "for question, question_no in quiz_questions.items():\n",
    "    answer = ask_question(question_no, question)\n",
    "\n",
    "          \n",
    "# def answer(question, answer):\n",
    "    \n",
    "#           if quiz_answer == question\"correct\":\n",
    "#               print(\"Right\")\n",
    "#           else:\n",
    "#               print(\"Wrong\")\n",
    "    \n"
   ]
  },
  {
   "cell_type": "code",
   "execution_count": null,
   "metadata": {},
   "outputs": [],
   "source": []
  },
  {
   "cell_type": "code",
   "execution_count": null,
   "metadata": {},
   "outputs": [],
   "source": []
  }
 ],
 "metadata": {
  "kernelspec": {
   "display_name": "Python 3",
   "language": "python",
   "name": "python3"
  },
  "language_info": {
   "codemirror_mode": {
    "name": "ipython",
    "version": 3
   },
   "file_extension": ".py",
   "mimetype": "text/x-python",
   "name": "python",
   "nbconvert_exporter": "python",
   "pygments_lexer": "ipython3",
   "version": "3.7.2"
  }
 },
 "nbformat": 4,
 "nbformat_minor": 2
}
