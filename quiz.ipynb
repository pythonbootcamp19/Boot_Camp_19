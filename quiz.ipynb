{
 "cells": [
  {
   "cell_type": "code",
   "execution_count": 14,
   "metadata": {},
   "outputs": [
    {
     "name": "stdout",
     "output_type": "stream",
     "text": [
      "Welcome to KBC. The rule of game is:\n",
      "1. you'll get a question\n",
      "2. you'll get four multiple choice answers\n",
      "3. you select(type) one answer\n",
      "4. if your answer is correct you'll go to the next question\n",
      "5. if your answer is incorrect you'll loose the game.\n",
      "\n",
      "Enter your name: Vik\n",
      "Vik\n",
      "What is the capital of India?\n"
     ]
    }
   ],
   "source": [
    "welcome = \"\"\"Welcome to KBC. The rule of game is:\n",
    "1. you'll get a question\n",
    "2. you'll get four multiple choice answers\n",
    "3. you select(type) one answer\n",
    "4. if your answer is correct you'll go to the next question\n",
    "5. if your answer is incorrect you'll loose the game.\n",
    "\"\"\"\n",
    "print(welcome)\n",
    "\n",
    "name = input(\"Enter your name: \")\n",
    "\n",
    "print(name)\n",
    "#quiz = {}\n",
    "#question = \"What is the capital of India?\"\n",
    "\n",
    "question = \"What is the capital of India?\"\n",
    "option1 = \"A\"\n",
    "option2 = \"B\"\n",
    "option3 = \"C\"\n",
    "option4 = \"D\"\n",
    "\n",
    "options = {\"Question\": question,\"A\": option1,\"B\": option2, \"C\": option3, \"D\": option4}\n",
    "print(options[\"Question\"])\n",
    "\n"
   ]
  },
  {
   "cell_type": "code",
   "execution_count": 18,
   "metadata": {},
   "outputs": [
    {
     "name": "stdout",
     "output_type": "stream",
     "text": [
      "{'b': 2, 'a': 2}\n"
     ]
    }
   ],
   "source": [
    "dict1 = {\"a\":2}\n",
    "dict2 = {\"b\":2}\n",
    "dict2.update(dict1)\n",
    "print(dict2)\n"
   ]
  },
  {
   "cell_type": "code",
   "execution_count": null,
   "metadata": {},
   "outputs": [],
   "source": []
  }
 ],
 "metadata": {
  "kernelspec": {
   "display_name": "Python 3",
   "language": "python",
   "name": "python3"
  },
  "language_info": {
   "codemirror_mode": {
    "name": "ipython",
    "version": 3
   },
   "file_extension": ".py",
   "mimetype": "text/x-python",
   "name": "python",
   "nbconvert_exporter": "python",
   "pygments_lexer": "ipython3",
   "version": "3.7.2"
  }
 },
 "nbformat": 4,
 "nbformat_minor": 2
}
