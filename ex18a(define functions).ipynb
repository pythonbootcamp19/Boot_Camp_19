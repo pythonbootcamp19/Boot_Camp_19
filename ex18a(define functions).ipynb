{
 "cells": [
  {
   "cell_type": "markdown",
   "metadata": {},
   "source": [
    "# How to define a function\n"
   ]
  },
  {
   "cell_type": "markdown",
   "metadata": {},
   "source": [
    "The print() function writes, i.e., \"prints\", a string or a number on the console. \n",
    "The return statement does not print out the value it returns when the function is called. It however causes the function to exit or terminate immediately, even if it is not the last statement of the function."
   ]
  },
  {
   "cell_type": "code",
   "execution_count": 3,
   "metadata": {},
   "outputs": [
    {
     "name": "stdout",
     "output_type": "stream",
     "text": [
      "9\n",
      "-1\n",
      "20\n",
      "0.8\n"
     ]
    }
   ],
   "source": [
    "def addition(x,y):\n",
    "    z = x+y\n",
    "    return z\n",
    "result = addition(4,5)\n",
    "print(result)\n",
    "\n",
    "\n",
    "def substraction(x,y):\n",
    "    z = x-y\n",
    "    return z\n",
    "result = substraction(4,5)\n",
    "print(result)\n",
    "\n",
    "\n",
    "def multiplication(x,y):\n",
    "    z = x*y\n",
    "    return z\n",
    "result = multiplication(4,5)\n",
    "print(result)\n",
    "\n",
    "\n",
    "def division(x,y):\n",
    "    z=x/y\n",
    "    return z\n",
    "\n",
    "result = division(4,5)\n",
    "print(result)\n"
   ]
  },
  {
   "cell_type": "code",
   "execution_count": 11,
   "metadata": {},
   "outputs": [
    {
     "name": "stdout",
     "output_type": "stream",
     "text": [
      "30\n",
      "30\n"
     ]
    }
   ],
   "source": [
    "def add(x,y):\n",
    "    z = x+y\n",
    "    return z\n",
    "\n",
    "az = add(10,20)\n",
    "print(az)\n",
    "\n",
    "ab = az\n",
    "print(ab)"
   ]
  },
  {
   "cell_type": "code",
   "execution_count": 68,
   "metadata": {},
   "outputs": [
    {
     "name": "stdout",
     "output_type": "stream",
     "text": [
      "your first name: Vik, Your last name: Shah\n",
      "your first name: a, Your last name: b\n",
      "your first name: 1, Your last name: 2\n"
     ]
    }
   ],
   "source": [
    "def my_profile(*args):\n",
    "    arg1, arg2 = args\n",
    "    print(f\"your first name: {arg1}, Your last name: {arg2}\")\n",
    "\n",
    "my_profile(\"Vik\",\"Shah\")\n",
    "my_profile(\"a\",\"b\")\n",
    "my_profile(\"1\",\"2\")\n"
   ]
  },
  {
   "cell_type": "code",
   "execution_count": 82,
   "metadata": {},
   "outputs": [
    {
     "name": "stdout",
     "output_type": "stream",
     "text": [
      "9\n",
      "13\n",
      "9\n"
     ]
    }
   ],
   "source": [
    "def addition(x,y):\n",
    "    z = x+y\n",
    "    return z\n",
    "\n",
    "result = addition(4,5)\n",
    "print(result) # printing the variable\n",
    "print(addition(6,7)) # calling the function, adding some value(parameters) and then printing\n",
    "print(addition(4,5))"
   ]
  },
  {
   "cell_type": "code",
   "execution_count": 84,
   "metadata": {},
   "outputs": [
    {
     "name": "stdout",
     "output_type": "stream",
     "text": [
      "9\n"
     ]
    }
   ],
   "source": [
    "def addition(x,y):\n",
    "    z = x+y\n",
    "    return z\n",
    "\n",
    "#result = addition(4,5)\n",
    "#print(result) # printing the variable\n",
    "#print(addition(6,7)) # calling the function, adding some value(parameters) and then printing\n",
    "print(addition(4,5))"
   ]
  },
  {
   "cell_type": "code",
   "execution_count": null,
   "metadata": {},
   "outputs": [],
   "source": []
  }
 ],
 "metadata": {
  "kernelspec": {
   "display_name": "Python 3",
   "language": "python",
   "name": "python3"
  },
  "language_info": {
   "codemirror_mode": {
    "name": "ipython",
    "version": 3
   },
   "file_extension": ".py",
   "mimetype": "text/x-python",
   "name": "python",
   "nbconvert_exporter": "python",
   "pygments_lexer": "ipython3",
   "version": "3.7.2"
  }
 },
 "nbformat": 4,
 "nbformat_minor": 2
}
