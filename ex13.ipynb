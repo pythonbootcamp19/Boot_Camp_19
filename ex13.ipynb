{
 "cells": [
  {
   "cell_type": "markdown",
   "metadata": {},
   "source": [
    "# Parameters, Unpacking, Variables"
   ]
  },
  {
   "cell_type": "markdown",
   "metadata": {},
   "source": [
    "One more input method you can use to pass variables to a script (script being another name for your .py files)."
   ]
  },
  {
   "cell_type": "markdown",
   "metadata": {},
   "source": [
    "created a file \"ex13.py\"\n",
    "from jupyter open a New Text File (save as \"ex13.py\")\n",
    "from jupyter open a terminal Go to New - Terminal\n",
    "In terminal type: python3 ex13.py AAA BBB CCC (Or any other value)"
   ]
  },
  {
   "cell_type": "markdown",
   "metadata": {},
   "source": [
    "argv = argument variable (command line argument variable). We give argument in command line.\n",
    "sys = is a part of Python standard library"
   ]
  },
  {
   "cell_type": "markdown",
   "metadata": {},
   "source": [
    "Script is a text file containing the statements that comprise a Python program. Once you have created the script, you can execute it over and over without having to retype it each time. Scripts are editable."
   ]
  },
  {
   "cell_type": "code",
   "execution_count": null,
   "metadata": {},
   "outputs": [],
   "source": []
  }
 ],
 "metadata": {
  "kernelspec": {
   "display_name": "Python 3",
   "language": "python",
   "name": "python3"
  },
  "language_info": {
   "codemirror_mode": {
    "name": "ipython",
    "version": 3
   },
   "file_extension": ".py",
   "mimetype": "text/x-python",
   "name": "python",
   "nbconvert_exporter": "python",
   "pygments_lexer": "ipython3",
   "version": "3.7.2"
  }
 },
 "nbformat": 4,
 "nbformat_minor": 2
}
