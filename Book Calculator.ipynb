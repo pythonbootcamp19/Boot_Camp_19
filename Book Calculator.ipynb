{
 "cells": [
  {
   "cell_type": "code",
   "execution_count": 50,
   "metadata": {},
   "outputs": [
    {
     "name": "stdout",
     "output_type": "stream",
     "text": [
      "How many hours do you read/per day?: 2\n",
      "How many pages do you read/per hour?: 30\n",
      "How many days in a week do you read?: 5\n",
      "(60, 300, 1200, 14400)\n"
     ]
    }
   ],
   "source": [
    "#Steps to run the main function:\n",
    "#call the function\n",
    "#unpack the value\n",
    "#if you want to perform some action with those values perform it and print, and return the result\n",
    "#(or)\n",
    "#print\n",
    "#if you are perfoming some action return the result\n",
    "#define the function, take some parameters, print or return the value\n",
    "\n",
    "def main():\n",
    "    total_pages_read_per_year = calculate_pages_read_in_one_year()\n",
    "    output = total_pages_read_per_year\n",
    "    return output\n",
    "\n",
    "def personal_info():\n",
    "    how_long_do_you_read_per_day = int(input(\"How many hours do you read/per day?: \"))\n",
    "    number_of_pages_read_in_one_hour = int(input(\"How many pages do you read/per hour?: \"))\n",
    "    how_many_days_in_week_you_read = int(input(\"How many days in a week do you read?: \"))\n",
    "    return how_long_do_you_read_per_day, number_of_pages_read_in_one_hour, how_many_days_in_week_you_read\n",
    "    \n",
    "def calculate_pages_read_in_one_year():\n",
    "    how_many_hour_you_read_per_day, pages_read_per_hour, pages_read_per_week = personal_info()    \n",
    "    pages_read_per_day = how_many_hour_you_read_per_day * pages_read_per_hour\n",
    "    pages_read_per_week = pages_read_per_day * pages_read_per_week\n",
    "    pages_read_per_month = pages_read_per_week * 4\n",
    "    pages_read_per_year = pages_read_per_month * 12\n",
    "    return pages_read_per_day, pages_read_per_week, pages_read_per_month, pages_read_per_year\n",
    "\n",
    "# def print_out():\n",
    "#     print(f\"You read,\", {}\"pages/per day\")\n",
    "#     print(f\"You read, \", {} \"pages/per week\")\n",
    "#     print(f\"You read, \", {} \"pages/per month\")\n",
    "#     print(f\"You read, \", {} \"pages/per year\")\n",
    "\n",
    "print (main())"
   ]
  },
  {
   "cell_type": "code",
   "execution_count": null,
   "metadata": {},
   "outputs": [],
   "source": []
  },
  {
   "cell_type": "code",
   "execution_count": null,
   "metadata": {},
   "outputs": [],
   "source": []
  }
 ],
 "metadata": {
  "kernelspec": {
   "display_name": "Python 3",
   "language": "python",
   "name": "python3"
  },
  "language_info": {
   "codemirror_mode": {
    "name": "ipython",
    "version": 3
   },
   "file_extension": ".py",
   "mimetype": "text/x-python",
   "name": "python",
   "nbconvert_exporter": "python",
   "pygments_lexer": "ipython3",
   "version": "3.7.2"
  }
 },
 "nbformat": 4,
 "nbformat_minor": 2
}
