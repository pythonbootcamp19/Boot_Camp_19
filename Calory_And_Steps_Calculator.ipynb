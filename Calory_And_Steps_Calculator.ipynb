{
 "cells": [
  {
   "cell_type": "code",
   "execution_count": 1,
   "metadata": {},
   "outputs": [
    {
     "name": "stdout",
     "output_type": "stream",
     "text": [
      "Name: vi\n",
      "Weight(in kgs.): 300\n",
      "Height(in cms.): 123\n",
      "Age: 21\n",
      "Distance from Home to Office:4\n",
      "How long do you walk in evening?: 2\n",
      "('vi', 300, 123, 21, 4.0, 2.0, 4578.522, 10.0, 13123.4)\n"
     ]
    }
   ],
   "source": [
    "# def ask_distance(): # when you are asking user for input nothing is going in but value is coming out.\n",
    "#     distance_to_office = float(input(\"Distance from Home to Office:\"))\n",
    "#     evening_walk_distance = float(input(\"How long do you walk in evening?: \"))\n",
    "#     return distance_to_office, evening_walk_distance   \n",
    "\n",
    "#Steps to run the main function:\n",
    "#call the function\n",
    "#unpack the value\n",
    "#if you want to perform some action with those values perform it and print, and return the result\n",
    "#(or)\n",
    "#print\n",
    "#if you are perfoming some action return the result\n",
    "\n",
    "\n",
    "def main():\n",
    "    \n",
    "    name, weight, height, age, distance_to_office, evening_walk_distance = personal_info()\n",
    "    \n",
    "    bmr = calculate_BMR(weight, height, age)\n",
    "    \n",
    "    total_distance_in_km = find_total_distance_walked(distance_to_office, evening_walk_distance)\n",
    "    \n",
    "    total_steps_walked = km_to_steps(total_distance_in_km)\n",
    "    \n",
    "    output = name, weight, height, age, distance_to_office, evening_walk_distance, bmr, total_distance_in_km, total_steps_walked\n",
    "    \n",
    "    return output\n",
    "\n",
    "def personal_info():\n",
    "    name = input(\"Name: \")\n",
    "    weight = int(input(\"Weight(in kgs.): \"))\n",
    "    height = int(input(\"Height(in cms.): \"))\n",
    "    age = int(input(\"Age: \"))\n",
    "    distance_to_office = float(input(\"Distance from Home to Office:\"))\n",
    "    evening_walk_distance = float(input(\"How long do you walk in evening?: \"))\n",
    "    \n",
    "    return name, weight, height, age, distance_to_office, evening_walk_distance  \n",
    "     \n",
    "def calculate_BMR(weight, height, age):\n",
    "   \n",
    "    default_bmr_ratio = 88.362\n",
    "    y = 13.397*weight\n",
    "    weight_BMR = default_bmr_ratio + y\n",
    "\n",
    "    default_height_ratio = 4.799\n",
    "    height_BMR = default_height_ratio*height\n",
    "\n",
    "    default_age_ratio = 5.677\n",
    "    age_BMR = default_age_ratio*age\n",
    "\n",
    "    BMR = weight_BMR + height_BMR - age_BMR\n",
    "    return BMR\n",
    "\n",
    "\n",
    "def find_total_distance_walked(distance_to_office, evening_walk_distance):\n",
    "    office_commute = distance_to_office * 2\n",
    "    total_distance = office_commute + evening_walk_distance\n",
    "    return total_distance\n",
    "\n",
    "def km_to_steps(distance):\n",
    "    steps_in_one_km = 1312.34\n",
    "    total_steps = steps_in_one_km * distance\n",
    "    return total_steps \n",
    "\n",
    "print (main())"
   ]
  },
  {
   "cell_type": "markdown",
   "metadata": {},
   "source": [
    "## "
   ]
  },
  {
   "cell_type": "code",
   "execution_count": null,
   "metadata": {},
   "outputs": [],
   "source": []
  },
  {
   "cell_type": "code",
   "execution_count": null,
   "metadata": {},
   "outputs": [],
   "source": []
  },
  {
   "cell_type": "code",
   "execution_count": null,
   "metadata": {},
   "outputs": [],
   "source": []
  }
 ],
 "metadata": {
  "kernelspec": {
   "display_name": "Python 3",
   "language": "python",
   "name": "python3"
  },
  "language_info": {
   "codemirror_mode": {
    "name": "ipython",
    "version": 3
   },
   "file_extension": ".py",
   "mimetype": "text/x-python",
   "name": "python",
   "nbconvert_exporter": "python",
   "pygments_lexer": "ipython3",
   "version": "3.7.2"
  }
 },
 "nbformat": 4,
 "nbformat_minor": 2
}
