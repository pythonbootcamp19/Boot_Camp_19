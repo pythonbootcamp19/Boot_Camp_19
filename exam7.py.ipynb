{
 "cells": [
  {
   "cell_type": "markdown",
   "metadata": {},
   "source": [
    "# Counts the length of file"
   ]
  },
  {
   "cell_type": "markdown",
   "metadata": {},
   "source": [
    "input(), open(), len() are in built Python functions. All functions are in brackets (). txt.read() is a method because it is attached to an object. The difference between method and function is, method is attached to an object where a function is independent (not attached) of an object."
   ]
  },
  {
   "cell_type": "code",
   "execution_count": 2,
   "metadata": {},
   "outputs": [
    {
     "name": "stdout",
     "output_type": "stream",
     "text": [
      "Enter your file name? :exam7.txt\n",
      "Length of the filename is: , 25\n"
     ]
    }
   ],
   "source": [
    "file_name = input(\"Enter your file name? :\")\n",
    "txt = open(file_name)\n",
    "file_data = txt.read()\n",
    "length_file_data = len(file_data)\n",
    "print(f\"Length of the filename is: , {length_file_data}\")"
   ]
  },
  {
   "cell_type": "code",
   "execution_count": null,
   "metadata": {},
   "outputs": [],
   "source": []
  },
  {
   "cell_type": "code",
   "execution_count": null,
   "metadata": {},
   "outputs": [],
   "source": []
  },
  {
   "cell_type": "code",
   "execution_count": null,
   "metadata": {},
   "outputs": [],
   "source": []
  }
 ],
 "metadata": {
  "kernelspec": {
   "display_name": "Python 3",
   "language": "python",
   "name": "python3"
  },
  "language_info": {
   "codemirror_mode": {
    "name": "ipython",
    "version": 3
   },
   "file_extension": ".py",
   "mimetype": "text/x-python",
   "name": "python",
   "nbconvert_exporter": "python",
   "pygments_lexer": "ipython3",
   "version": "3.7.2"
  }
 },
 "nbformat": 4,
 "nbformat_minor": 2
}
