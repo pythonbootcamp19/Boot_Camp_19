{
 "cells": [
  {
   "cell_type": "code",
   "execution_count": 5,
   "metadata": {},
   "outputs": [
    {
     "name": "stdout",
     "output_type": "stream",
     "text": [
      "['Hello', 'how', 'are', 'you?']\n",
      "['Hell', ' h', 'w are y', 'u?']\n",
      "['hello', 'how', 'are', 'you?']\n",
      "['are', 'hello', 'how', 'you?']\n"
     ]
    }
   ],
   "source": [
    "#there's a way to split the line\n",
    "line = \"Hello how are you?\"\n",
    "print(line.split(\" \"))\n",
    "\n",
    "#split where ever there's 'O'\n",
    "line = \"Hello how are you?\"\n",
    "print(line.split(\"o\"))\n",
    "\n",
    "#you can assign it to a variable. it'll sort in alphabetical order.\n",
    "line = \"hello how are you?\"\n",
    "words = line.split(\" \")\n",
    "print(words)\n",
    "print(sorted(words))\n",
    "\n",
    "#print (words.pop(0)) - it'll pop the first word(or element)\n",
    "#print (words.pop(-1)) - it'll pop the last word(element)\n",
    "# you can also store it in a variable\n"
   ]
  },
  {
   "cell_type": "code",
   "execution_count": null,
   "metadata": {},
   "outputs": [],
   "source": []
  }
 ],
 "metadata": {
  "kernelspec": {
   "display_name": "Python 3",
   "language": "python",
   "name": "python3"
  },
  "language_info": {
   "codemirror_mode": {
    "name": "ipython",
    "version": 3
   },
   "file_extension": ".py",
   "mimetype": "text/x-python",
   "name": "python",
   "nbconvert_exporter": "python",
   "pygments_lexer": "ipython3",
   "version": "3.7.2"
  }
 },
 "nbformat": 4,
 "nbformat_minor": 2
}
